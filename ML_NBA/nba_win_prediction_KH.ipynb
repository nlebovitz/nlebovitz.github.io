{
 "cells": [
  {
   "cell_type": "markdown",
   "metadata": {},
   "source": [
    "# NBA Game Predictions"
   ]
  },
  {
   "cell_type": "code",
   "execution_count": 1,
   "metadata": {},
   "outputs": [
    {
     "name": "stderr",
     "output_type": "stream",
     "text": [
      "/Users/kelianneheinz/opt/anaconda3/envs/myvenv/lib/python3.7/importlib/_bootstrap.py:219: RuntimeWarning: numpy.ufunc size changed, may indicate binary incompatibility. Expected 192 from C header, got 216 from PyObject\n",
      "  return f(*args, **kwds)\n"
     ]
    }
   ],
   "source": [
    "# Import Libraries\n",
    "import pandas as pd\n",
    "pd.options.mode.chained_assignment = None\n",
    "import numpy as np\n",
    "import sqlite3\n",
    "from matplotlib import pyplot as plt\n",
    "import seaborn as sn\n",
    "import tensorflow as tf\n",
    "from sklearn.preprocessing import StandardScaler\n",
    "from sklearn.model_selection import train_test_split\n",
    "from sklearn.linear_model import LogisticRegression\n",
    "from sklearn.metrics import classification_report, confusion_matrix, ConfusionMatrixDisplay\n",
    "from sklearn.metrics import roc_curve\n",
    "from sklearn.metrics import roc_auc_score\n",
    "from sklearn.ensemble import RandomForestClassifier\n",
    "from sklearn.linear_model import SGDClassifier\n",
    "from sklearn.decomposition import PCA as sklearnPCA\n",
    "from sklearn.naive_bayes import GaussianNB\n",
    "from sklearn.tree import DecisionTreeClassifier\n",
    "from sklearn.model_selection import GridSearchCV\n",
    "from sklearn.model_selection import RandomizedSearchCV\n",
    "from sklearn.ensemble import BaggingClassifier\n",
    "from sklearn.model_selection import GroupShuffleSplit \n"
   ]
  },
  {
   "cell_type": "code",
   "execution_count": 2,
   "metadata": {},
   "outputs": [],
   "source": [
    "run_hyperparameter_tuning = False"
   ]
  },
  {
   "cell_type": "markdown",
   "metadata": {},
   "source": [
    "# Data Set Up"
   ]
  },
  {
   "cell_type": "markdown",
   "metadata": {},
   "source": [
    "## Standard Game Stat Dataset PT1 (df_st)\n",
    "Wyatt Set:\n",
    "https://www.kaggle.com/datasets/wyattowalsh/basketball"
   ]
  },
  {
   "cell_type": "markdown",
   "metadata": {},
   "source": [
    "### Load DF"
   ]
  },
  {
   "cell_type": "code",
   "execution_count": 3,
   "metadata": {},
   "outputs": [],
   "source": [
    "# Create Connection to SQLite DB\n",
    "con = sqlite3.connect(\"./Wyatt_NBA_dataset/basketball.sqlite\")\n",
    "\n",
    "# Load in Game table from SQL\n",
    "df_st = pd.read_sql_query(\"SELECT * from Game\", con)\n",
    "\n",
    "con.close()"
   ]
  },
  {
   "cell_type": "markdown",
   "metadata": {},
   "source": [
    "### Select Years, drop some columns\n",
    "df_st_f1"
   ]
  },
  {
   "cell_type": "code",
   "execution_count": 4,
   "metadata": {},
   "outputs": [],
   "source": [
    "# Take seasons from 2006 to 2020\n",
    "df_st_f1 = df_st[(df_st.SEASON.astype('int') >= 2006) & (df_st.SEASON.astype('int') <= 2022)]"
   ]
  },
  {
   "cell_type": "code",
   "execution_count": 5,
   "metadata": {},
   "outputs": [],
   "source": [
    "# Drop duplicated Game IDs\n",
    "df_st_f1.drop_duplicates(subset='GAME_ID', keep='first', inplace=True)"
   ]
  },
  {
   "cell_type": "markdown",
   "metadata": {},
   "source": [
    "### Standardize Team Names\n",
    "df_st_f2"
   ]
  },
  {
   "cell_type": "code",
   "execution_count": 6,
   "metadata": {},
   "outputs": [],
   "source": [
    "df_st_f2 = df_st_f1.copy()"
   ]
  },
  {
   "cell_type": "code",
   "execution_count": 7,
   "metadata": {},
   "outputs": [],
   "source": [
    "# Make Dictionaries of all team name variations\n",
    "\n",
    "# team_name is full team name\n",
    "team_name_dict = dict()\n",
    "for i,j in zip(df_st_f1.TEAM_NAME_HOME, df_st_f1.TEAM_ABBREVIATION_HOME):\n",
    "    team_name_dict[i] = j\n",
    "\n",
    "# team nickname is team name - city\n",
    "team_nickname_dict = dict()\n",
    "for i,j in zip(df_st_f1.TEAM_ABBREVIATION_HOME, df_st_f1.TEAM_NICKNAME_HOME):\n",
    "    team_nickname_dict[j] = i\n",
    "\n",
    "# Team city \n",
    "team_city_dict = dict()\n",
    "for i, j, k in zip(df_st_f1.TEAM_CITY_NAME_HOME, df_st_f1.TEAM_ABBREVIATION_HOME, df_st_f1.TEAM_NAME_HOME):\n",
    "    if k == \"Los Angeles Lakers\":\n",
    "        team_city_dict[\"L.A. Lakers\"] = j\n",
    "    elif k == \"Los Angeles Clippers\":\n",
    "        team_city_dict[\"L.A. Clippers\"] = j\n",
    "    else:\n",
    "        team_city_dict[i] = j\n",
    "team_city_dict['LA Clippers'] = \"LAC\"\n",
    "\n",
    "# Alternate abbreviations\n",
    "team_abbrev_dict = {'CHO':'CHA', 'PHO':'PHX', 'BRK':'BKN', 'NOH':'NOP'}"
   ]
  },
  {
   "cell_type": "code",
   "execution_count": 8,
   "metadata": {},
   "outputs": [],
   "source": [
    "# Define function to remap column data\n",
    "\n",
    "def column_remap(df, col_names, map_dict):\n",
    "    '''Change values in dataframe column based on mapping dictionary'''\n",
    "    for dict in map_dict:\n",
    "        for col_name in col_names:\n",
    "            df[col_name] = df[col_name].map(dict).fillna(df[col_name])"
   ]
  },
  {
   "cell_type": "code",
   "execution_count": 9,
   "metadata": {},
   "outputs": [],
   "source": [
    "# Standardize team name columns that will be kept\n",
    "team_name_columns = ['SERIES_LEADER', 'TEAM_ABBREVIATION_HOME',\n",
    "                     'TEAM_ABBREVIATION_AWAY', 'LAST_GAME_VISITOR_TEAM_CITY1',\n",
    "                     'LAST_GAME_HOME_TEAM_ABBREVIATION']\n",
    "team_name_map_dicts = [team_nickname_dict, team_abbrev_dict, team_city_dict]\n",
    "column_remap(df_st_f2, col_names=team_name_columns, map_dict=team_name_map_dicts)"
   ]
  },
  {
   "cell_type": "code",
   "execution_count": 10,
   "metadata": {},
   "outputs": [],
   "source": [
    "# Rename team name columns\n",
    "rename_team_columns = {\"LAST_GAME_VISITOR_TEAM_CITY1\":\"prev_visitor_team\",\n",
    "                       \"LAST_GAME_HOME_TEAM_ABBREVIATION\":'prev_home_team',\n",
    "                       \"TEAM_ABBREVIATION_HOME\":'home_team',\n",
    "                       \"TEAM_ABBREVIATION_AWAY\":'away_team'}\n",
    "df_st_f2.rename(columns=rename_team_columns, inplace=True)"
   ]
  },
  {
   "cell_type": "code",
   "execution_count": 11,
   "metadata": {},
   "outputs": [],
   "source": [
    "# Drop Extra team Name Related Columns\n",
    "name_columns = [\"TEAM_ID_HOME\", \"TEAM_CITY_HOME\", \"TEAM_CITY_AWAY\", \"TEAM_CITY_NAME_HOME\",\n",
    "                \"TEAM_ID_AWAY\", \"TEAM_ID_HOME\", \"TEAM_NAME_AWAY\", \"TEAM_NAME_HOME\", \"TEAM_NICKNAME_HOME\",\n",
    "                \"LAST_GAME_HOME_TEAM_ID\", \"LAST_GAME_HOME_TEAM_CITY\", \"LAST_GAME_HOME_TEAM_NAME\", \"LAST_GAME_VISITOR_TEAM_ID\",\n",
    "                \"LAST_GAME_VISITOR_TEAM_CITY\", \"LAST_GAME_VISITOR_TEAM_NAME\"]\n",
    "df_st_f2 = df_st_f2.drop(columns=name_columns)"
   ]
  },
  {
   "cell_type": "code",
   "execution_count": null,
   "metadata": {},
   "outputs": [],
   "source": []
  },
  {
   "cell_type": "markdown",
   "metadata": {},
   "source": [
    "## 538 ELO Set\n",
    "df_elo\n",
    "\n",
    "Data set from: https://www.kaggle.com/datasets/fivethirtyeight/fivethirtyeight-nba-elo-dataset?select=README.md"
   ]
  },
  {
   "cell_type": "code",
   "execution_count": 12,
   "metadata": {},
   "outputs": [],
   "source": [
    "# Load in Data\n",
    "df_elo = pd.read_csv(\"./nba_elo.csv\")"
   ]
  },
  {
   "cell_type": "code",
   "execution_count": 13,
   "metadata": {},
   "outputs": [
    {
     "name": "stdout",
     "output_type": "stream",
     "text": [
      "<class 'pandas.core.frame.DataFrame'>\n",
      "RangeIndex: 72043 entries, 0 to 72042\n",
      "Data columns (total 27 columns):\n",
      " #   Column          Non-Null Count  Dtype  \n",
      "---  ------          --------------  -----  \n",
      " 0   date            72043 non-null  object \n",
      " 1   season          72043 non-null  int64  \n",
      " 2   neutral         72043 non-null  int64  \n",
      " 3   playoff         4630 non-null   object \n",
      " 4   team1           72043 non-null  object \n",
      " 5   team2           72043 non-null  object \n",
      " 6   elo1_pre        72043 non-null  float64\n",
      " 7   elo2_pre        72043 non-null  float64\n",
      " 8   elo_prob1       72043 non-null  float64\n",
      " 9   elo_prob2       72043 non-null  float64\n",
      " 10  elo1_post       72043 non-null  float64\n",
      " 11  elo2_post       72043 non-null  float64\n",
      " 12  carm-elo1_pre   5249 non-null   float64\n",
      " 13  carm-elo2_pre   5249 non-null   float64\n",
      " 14  carm-elo_prob1  5249 non-null   float64\n",
      " 15  carm-elo_prob2  5249 non-null   float64\n",
      " 16  carm-elo1_post  5249 non-null   float64\n",
      " 17  carm-elo2_post  5249 non-null   float64\n",
      " 18  raptor1_pre     4949 non-null   float64\n",
      " 19  raptor2_pre     4949 non-null   float64\n",
      " 20  raptor_prob1    4949 non-null   float64\n",
      " 21  raptor_prob2    4949 non-null   float64\n",
      " 22  score1          72043 non-null  int64  \n",
      " 23  score2          72043 non-null  int64  \n",
      " 24  quality         72043 non-null  int64  \n",
      " 25  importance      1323 non-null   float64\n",
      " 26  total_rating    1323 non-null   float64\n",
      "dtypes: float64(18), int64(5), object(4)\n",
      "memory usage: 14.8+ MB\n"
     ]
    }
   ],
   "source": [
    "# Check Columns\n",
    "df_elo.info()"
   ]
  },
  {
   "cell_type": "code",
   "execution_count": 14,
   "metadata": {},
   "outputs": [
    {
     "data": {
      "text/plain": [
       "Index(['date', 'season', 'neutral', 'playoff', 'team1', 'team2', 'elo1_pre',\n",
       "       'elo2_pre', 'elo_prob1', 'elo_prob2', 'elo1_post', 'elo2_post',\n",
       "       'carm-elo1_pre', 'carm-elo2_pre', 'carm-elo_prob1', 'carm-elo_prob2',\n",
       "       'carm-elo1_post', 'carm-elo2_post', 'raptor1_pre', 'raptor2_pre',\n",
       "       'raptor_prob1', 'raptor_prob2', 'score1', 'score2', 'quality',\n",
       "       'importance', 'total_rating'],\n",
       "      dtype='object')"
      ]
     },
     "execution_count": 14,
     "metadata": {},
     "output_type": "execute_result"
    }
   ],
   "source": [
    "# Original columns\n",
    "df_elo.columns"
   ]
  },
  {
   "cell_type": "code",
   "execution_count": 15,
   "metadata": {},
   "outputs": [],
   "source": [
    "# Drop post game stats\n",
    "df_elo_f1 = df_elo.drop(columns=['elo_prob1', 'elo_prob1', 'elo1_post', 'elo2_post',\n",
    "                                 'carm-elo_prob1', 'carm-elo_prob2', 'carm-elo1_post',\n",
    "                                 'carm-elo2_post', 'quality', 'importance', 'total_rating',\n",
    "                                 'raptor_prob1', 'raptor_prob2', 'carm-elo1_pre', 'carm-elo2_pre',\n",
    "                                 'raptor1_pre', 'raptor2_pre', 'elo_prob2'])"
   ]
  },
  {
   "cell_type": "code",
   "execution_count": 16,
   "metadata": {},
   "outputs": [],
   "source": [
    "# Set year range \n",
    "years_filter = range(2009,2020)\n",
    "df_elo_f2 = df_elo_f1[df_elo_f1.season.astype('int').isin(years_filter)]"
   ]
  },
  {
   "cell_type": "code",
   "execution_count": 17,
   "metadata": {},
   "outputs": [],
   "source": [
    "# Standardize Team names to abbreviations\n",
    "team_name_map_dicts = [team_nickname_dict, team_abbrev_dict, team_city_dict]\n",
    "column_remap(df_elo_f2, ['team1', 'team2'], team_name_map_dicts)"
   ]
  },
  {
   "cell_type": "code",
   "execution_count": 18,
   "metadata": {},
   "outputs": [],
   "source": [
    "# Get rid of playoff games\n",
    "df_elo_f2 = df_elo_f2[df_elo_f2.playoff.isna()].drop(columns=['playoff','neutral'])"
   ]
  },
  {
   "cell_type": "markdown",
   "metadata": {},
   "source": [
    "### Add Join Column to ELO DF (match to Season Rankings DF)\n",
    "df_elo_f2"
   ]
  },
  {
   "cell_type": "code",
   "execution_count": 19,
   "metadata": {},
   "outputs": [],
   "source": [
    "# Make Join Column\n",
    "df_elo_f2['team1_join_date'] = df_elo_f2['team1'] + df_elo_f2['date']\n",
    "df_elo_f2['team2_join_date'] = df_elo_f2['team2'] + df_elo_f2['date']\n",
    "df_elo_f2['team1_win'] = np.where(df_elo_f2['score1'] > df_elo_f2['score2'], 1, 0)\n",
    "df_elo_f3 = df_elo_f2.drop(columns=['score1', 'score2'])"
   ]
  },
  {
   "cell_type": "code",
   "execution_count": 20,
   "metadata": {},
   "outputs": [
    {
     "data": {
      "text/html": [
       "<div>\n",
       "<style scoped>\n",
       "    .dataframe tbody tr th:only-of-type {\n",
       "        vertical-align: middle;\n",
       "    }\n",
       "\n",
       "    .dataframe tbody tr th {\n",
       "        vertical-align: top;\n",
       "    }\n",
       "\n",
       "    .dataframe thead th {\n",
       "        text-align: right;\n",
       "    }\n",
       "</style>\n",
       "<table border=\"1\" class=\"dataframe\">\n",
       "  <thead>\n",
       "    <tr style=\"text-align: right;\">\n",
       "      <th></th>\n",
       "      <th>date</th>\n",
       "      <th>season</th>\n",
       "      <th>team1</th>\n",
       "      <th>team2</th>\n",
       "      <th>elo1_pre</th>\n",
       "      <th>elo2_pre</th>\n",
       "      <th>team1_join_date</th>\n",
       "      <th>team2_join_date</th>\n",
       "      <th>team1_win</th>\n",
       "    </tr>\n",
       "  </thead>\n",
       "  <tbody>\n",
       "    <tr>\n",
       "      <th>54201</th>\n",
       "      <td>2008-10-28</td>\n",
       "      <td>2009</td>\n",
       "      <td>LAL</td>\n",
       "      <td>POR</td>\n",
       "      <td>1651.7117</td>\n",
       "      <td>1472.9480</td>\n",
       "      <td>LAL2008-10-28</td>\n",
       "      <td>POR2008-10-28</td>\n",
       "      <td>1</td>\n",
       "    </tr>\n",
       "    <tr>\n",
       "      <th>54202</th>\n",
       "      <td>2008-10-28</td>\n",
       "      <td>2009</td>\n",
       "      <td>CHI</td>\n",
       "      <td>MIL</td>\n",
       "      <td>1450.1299</td>\n",
       "      <td>1335.4137</td>\n",
       "      <td>CHI2008-10-28</td>\n",
       "      <td>MIL2008-10-28</td>\n",
       "      <td>1</td>\n",
       "    </tr>\n",
       "    <tr>\n",
       "      <th>54203</th>\n",
       "      <td>2008-10-28</td>\n",
       "      <td>2009</td>\n",
       "      <td>BOS</td>\n",
       "      <td>CLE</td>\n",
       "      <td>1667.4963</td>\n",
       "      <td>1547.7573</td>\n",
       "      <td>BOS2008-10-28</td>\n",
       "      <td>CLE2008-10-28</td>\n",
       "      <td>1</td>\n",
       "    </tr>\n",
       "    <tr>\n",
       "      <th>54204</th>\n",
       "      <td>2008-10-29</td>\n",
       "      <td>2009</td>\n",
       "      <td>NYK</td>\n",
       "      <td>MIA</td>\n",
       "      <td>1359.4448</td>\n",
       "      <td>1320.1884</td>\n",
       "      <td>NYK2008-10-29</td>\n",
       "      <td>MIA2008-10-29</td>\n",
       "      <td>1</td>\n",
       "    </tr>\n",
       "    <tr>\n",
       "      <th>54205</th>\n",
       "      <td>2008-10-29</td>\n",
       "      <td>2009</td>\n",
       "      <td>ORL</td>\n",
       "      <td>ATL</td>\n",
       "      <td>1590.5756</td>\n",
       "      <td>1479.3201</td>\n",
       "      <td>ORL2008-10-29</td>\n",
       "      <td>ATL2008-10-29</td>\n",
       "      <td>0</td>\n",
       "    </tr>\n",
       "  </tbody>\n",
       "</table>\n",
       "</div>"
      ],
      "text/plain": [
       "             date  season team1 team2   elo1_pre   elo2_pre team1_join_date  \\\n",
       "54201  2008-10-28    2009   LAL   POR  1651.7117  1472.9480   LAL2008-10-28   \n",
       "54202  2008-10-28    2009   CHI   MIL  1450.1299  1335.4137   CHI2008-10-28   \n",
       "54203  2008-10-28    2009   BOS   CLE  1667.4963  1547.7573   BOS2008-10-28   \n",
       "54204  2008-10-29    2009   NYK   MIA  1359.4448  1320.1884   NYK2008-10-29   \n",
       "54205  2008-10-29    2009   ORL   ATL  1590.5756  1479.3201   ORL2008-10-29   \n",
       "\n",
       "      team2_join_date  team1_win  \n",
       "54201   POR2008-10-28          1  \n",
       "54202   MIL2008-10-28          1  \n",
       "54203   CLE2008-10-28          1  \n",
       "54204   MIA2008-10-29          1  \n",
       "54205   ATL2008-10-29          0  "
      ]
     },
     "execution_count": 20,
     "metadata": {},
     "output_type": "execute_result"
    }
   ],
   "source": [
    "df_elo_f3.head()"
   ]
  },
  {
   "cell_type": "markdown",
   "metadata": {},
   "source": [
    "## Season Rankings Data Set\n",
    "\n",
    "Link: https://www.kaggle.com/datasets/nathanlauga/nba-games?select=ranking.csv\n",
    "\n",
    "df_rank"
   ]
  },
  {
   "cell_type": "code",
   "execution_count": 21,
   "metadata": {},
   "outputs": [],
   "source": [
    "# Load\n",
    "df_rank = pd.read_csv('./NL_nbaset/ranking.csv')"
   ]
  },
  {
   "cell_type": "code",
   "execution_count": 22,
   "metadata": {},
   "outputs": [],
   "source": [
    "# Filter down dates\n",
    "years_filter = range(2008, 2020)\n",
    "df_rank['year'] = df_rank.STANDINGSDATE.str[0:4].astype('int')\n",
    "df_rank = df_rank[df_rank.year.isin(years_filter)].drop(columns=['year'])"
   ]
  },
  {
   "cell_type": "code",
   "execution_count": 23,
   "metadata": {},
   "outputs": [],
   "source": [
    "# Standardize Team names to abbreviations\n",
    "team_name_map_dicts = [team_nickname_dict, team_abbrev_dict, team_city_dict]\n",
    "column_remap(df_rank, ['TEAM'], team_name_map_dicts)"
   ]
  },
  {
   "cell_type": "code",
   "execution_count": 24,
   "metadata": {},
   "outputs": [],
   "source": [
    "# Standings are at end of day - games played that day are included\n",
    "df_rank[df_rank.STANDINGSDATE.isin(['2019-04-10', '2019-04-09'])]\n",
    "# Set Join Date to be the day before the standings date\n",
    "df_rank['join_date'] = pd.to_datetime(df_rank['STANDINGSDATE']) \n",
    "df_rank['join_date'] = df_rank['join_date'] + pd.DateOffset(days=1)"
   ]
  },
  {
   "cell_type": "code",
   "execution_count": 25,
   "metadata": {},
   "outputs": [],
   "source": [
    "# Join Column\n",
    "df_rank['join_col'] = df_rank['TEAM'] + df_rank['join_date'].astype('str')"
   ]
  },
  {
   "cell_type": "code",
   "execution_count": 26,
   "metadata": {},
   "outputs": [],
   "source": [
    "# Break up Home records\n",
    "record = df_rank.HOME_RECORD.str.split(\"-\")\n",
    "df_rank['home_wins'] = [item[0] for item in record]\n",
    "df_rank['home_losses'] = [item[1] for item in record]\n",
    "\n",
    "# Break up Away records\n",
    "record = df_rank.ROAD_RECORD.str.split(\"-\")\n",
    "df_rank['away_wins'] = [item[0] for item in record]\n",
    "df_rank['away_losses'] = [item[1] for item in record]"
   ]
  },
  {
   "cell_type": "code",
   "execution_count": 27,
   "metadata": {},
   "outputs": [],
   "source": [
    "# Drop Excess columns\n",
    "df_rank_f1 = df_rank.drop(columns=['ROAD_RECORD', 'RETURNTOPLAY', 'SEASON_ID',\n",
    "                                             'HOME_RECORD', 'LEAGUE_ID', 'TEAM_ID', 'join_date',\n",
    "                                             'STANDINGSDATE', 'TEAM', 'CONFERENCE'])"
   ]
  },
  {
   "cell_type": "code",
   "execution_count": 28,
   "metadata": {},
   "outputs": [
    {
     "data": {
      "text/html": [
       "<div>\n",
       "<style scoped>\n",
       "    .dataframe tbody tr th:only-of-type {\n",
       "        vertical-align: middle;\n",
       "    }\n",
       "\n",
       "    .dataframe tbody tr th {\n",
       "        vertical-align: top;\n",
       "    }\n",
       "\n",
       "    .dataframe thead th {\n",
       "        text-align: right;\n",
       "    }\n",
       "</style>\n",
       "<table border=\"1\" class=\"dataframe\">\n",
       "  <thead>\n",
       "    <tr style=\"text-align: right;\">\n",
       "      <th></th>\n",
       "      <th>G</th>\n",
       "      <th>W</th>\n",
       "      <th>L</th>\n",
       "      <th>W_PCT</th>\n",
       "      <th>join_col</th>\n",
       "      <th>home_wins</th>\n",
       "      <th>home_losses</th>\n",
       "      <th>away_wins</th>\n",
       "      <th>away_losses</th>\n",
       "    </tr>\n",
       "  </thead>\n",
       "  <tbody>\n",
       "    <tr>\n",
       "      <th>24074</th>\n",
       "      <td>33</td>\n",
       "      <td>26</td>\n",
       "      <td>7</td>\n",
       "      <td>0.788</td>\n",
       "      <td>LAL2020-01-01</td>\n",
       "      <td>11</td>\n",
       "      <td>4</td>\n",
       "      <td>15</td>\n",
       "      <td>3</td>\n",
       "    </tr>\n",
       "    <tr>\n",
       "      <th>24075</th>\n",
       "      <td>33</td>\n",
       "      <td>23</td>\n",
       "      <td>10</td>\n",
       "      <td>0.697</td>\n",
       "      <td>DEN2020-01-01</td>\n",
       "      <td>15</td>\n",
       "      <td>4</td>\n",
       "      <td>8</td>\n",
       "      <td>6</td>\n",
       "    </tr>\n",
       "    <tr>\n",
       "      <th>24076</th>\n",
       "      <td>35</td>\n",
       "      <td>24</td>\n",
       "      <td>11</td>\n",
       "      <td>0.686</td>\n",
       "      <td>LAC2020-01-01</td>\n",
       "      <td>14</td>\n",
       "      <td>3</td>\n",
       "      <td>10</td>\n",
       "      <td>8</td>\n",
       "    </tr>\n",
       "    <tr>\n",
       "      <th>24077</th>\n",
       "      <td>34</td>\n",
       "      <td>23</td>\n",
       "      <td>11</td>\n",
       "      <td>0.676</td>\n",
       "      <td>HOU2020-01-01</td>\n",
       "      <td>12</td>\n",
       "      <td>4</td>\n",
       "      <td>11</td>\n",
       "      <td>7</td>\n",
       "    </tr>\n",
       "    <tr>\n",
       "      <th>24078</th>\n",
       "      <td>33</td>\n",
       "      <td>21</td>\n",
       "      <td>12</td>\n",
       "      <td>0.636</td>\n",
       "      <td>DAL2020-01-01</td>\n",
       "      <td>9</td>\n",
       "      <td>7</td>\n",
       "      <td>12</td>\n",
       "      <td>5</td>\n",
       "    </tr>\n",
       "  </tbody>\n",
       "</table>\n",
       "</div>"
      ],
      "text/plain": [
       "        G   W   L  W_PCT       join_col home_wins home_losses away_wins  \\\n",
       "24074  33  26   7  0.788  LAL2020-01-01        11           4        15   \n",
       "24075  33  23  10  0.697  DEN2020-01-01        15           4         8   \n",
       "24076  35  24  11  0.686  LAC2020-01-01        14           3        10   \n",
       "24077  34  23  11  0.676  HOU2020-01-01        12           4        11   \n",
       "24078  33  21  12  0.636  DAL2020-01-01         9           7        12   \n",
       "\n",
       "      away_losses  \n",
       "24074           3  \n",
       "24075           6  \n",
       "24076           8  \n",
       "24077           7  \n",
       "24078           5  "
      ]
     },
     "execution_count": 28,
     "metadata": {},
     "output_type": "execute_result"
    }
   ],
   "source": [
    "df_rank_f1.head()"
   ]
  },
  {
   "cell_type": "markdown",
   "metadata": {},
   "source": [
    "## Combining ELO with season Standing Stats"
   ]
  },
  {
   "cell_type": "markdown",
   "metadata": {},
   "source": [
    "### Merge df_elo_f2 and df_rank_f1\n",
    "df_merge1"
   ]
  },
  {
   "cell_type": "code",
   "execution_count": 29,
   "metadata": {},
   "outputs": [
    {
     "data": {
      "text/html": [
       "<div>\n",
       "<style scoped>\n",
       "    .dataframe tbody tr th:only-of-type {\n",
       "        vertical-align: middle;\n",
       "    }\n",
       "\n",
       "    .dataframe tbody tr th {\n",
       "        vertical-align: top;\n",
       "    }\n",
       "\n",
       "    .dataframe thead th {\n",
       "        text-align: right;\n",
       "    }\n",
       "</style>\n",
       "<table border=\"1\" class=\"dataframe\">\n",
       "  <thead>\n",
       "    <tr style=\"text-align: right;\">\n",
       "      <th></th>\n",
       "      <th>date</th>\n",
       "      <th>season</th>\n",
       "      <th>team1</th>\n",
       "      <th>team2</th>\n",
       "      <th>elo1_pre</th>\n",
       "      <th>elo2_pre</th>\n",
       "      <th>team1_win</th>\n",
       "      <th>G_team1</th>\n",
       "      <th>W_team1</th>\n",
       "      <th>L_team1</th>\n",
       "      <th>...</th>\n",
       "      <th>away_wins_team1</th>\n",
       "      <th>away_losses_team1</th>\n",
       "      <th>G_team2</th>\n",
       "      <th>W_team2</th>\n",
       "      <th>L_team2</th>\n",
       "      <th>W_PCT_team2</th>\n",
       "      <th>home_wins_team2</th>\n",
       "      <th>home_losses_team2</th>\n",
       "      <th>away_wins_team2</th>\n",
       "      <th>away_losses_team2</th>\n",
       "    </tr>\n",
       "  </thead>\n",
       "  <tbody>\n",
       "    <tr>\n",
       "      <th>0</th>\n",
       "      <td>2008-10-28</td>\n",
       "      <td>2009</td>\n",
       "      <td>LAL</td>\n",
       "      <td>POR</td>\n",
       "      <td>1651.7117</td>\n",
       "      <td>1472.9480</td>\n",
       "      <td>1</td>\n",
       "      <td>8</td>\n",
       "      <td>6</td>\n",
       "      <td>2</td>\n",
       "      <td>...</td>\n",
       "      <td>0</td>\n",
       "      <td>0</td>\n",
       "      <td>7</td>\n",
       "      <td>4</td>\n",
       "      <td>3</td>\n",
       "      <td>0.571</td>\n",
       "      <td>2</td>\n",
       "      <td>2</td>\n",
       "      <td>2</td>\n",
       "      <td>1</td>\n",
       "    </tr>\n",
       "    <tr>\n",
       "      <th>1</th>\n",
       "      <td>2008-10-28</td>\n",
       "      <td>2009</td>\n",
       "      <td>CHI</td>\n",
       "      <td>MIL</td>\n",
       "      <td>1450.1299</td>\n",
       "      <td>1335.4137</td>\n",
       "      <td>1</td>\n",
       "      <td>8</td>\n",
       "      <td>4</td>\n",
       "      <td>4</td>\n",
       "      <td>...</td>\n",
       "      <td>2</td>\n",
       "      <td>1</td>\n",
       "      <td>8</td>\n",
       "      <td>1</td>\n",
       "      <td>7</td>\n",
       "      <td>0.125</td>\n",
       "      <td>1</td>\n",
       "      <td>3</td>\n",
       "      <td>0</td>\n",
       "      <td>4</td>\n",
       "    </tr>\n",
       "    <tr>\n",
       "      <th>2</th>\n",
       "      <td>2008-10-28</td>\n",
       "      <td>2009</td>\n",
       "      <td>BOS</td>\n",
       "      <td>CLE</td>\n",
       "      <td>1667.4963</td>\n",
       "      <td>1547.7573</td>\n",
       "      <td>1</td>\n",
       "      <td>8</td>\n",
       "      <td>6</td>\n",
       "      <td>2</td>\n",
       "      <td>...</td>\n",
       "      <td>3</td>\n",
       "      <td>1</td>\n",
       "      <td>8</td>\n",
       "      <td>3</td>\n",
       "      <td>5</td>\n",
       "      <td>0.375</td>\n",
       "      <td>2</td>\n",
       "      <td>3</td>\n",
       "      <td>1</td>\n",
       "      <td>2</td>\n",
       "    </tr>\n",
       "    <tr>\n",
       "      <th>3</th>\n",
       "      <td>2008-10-29</td>\n",
       "      <td>2009</td>\n",
       "      <td>NYK</td>\n",
       "      <td>MIA</td>\n",
       "      <td>1359.4448</td>\n",
       "      <td>1320.1884</td>\n",
       "      <td>1</td>\n",
       "      <td>0</td>\n",
       "      <td>0</td>\n",
       "      <td>0</td>\n",
       "      <td>...</td>\n",
       "      <td>0</td>\n",
       "      <td>0</td>\n",
       "      <td>0</td>\n",
       "      <td>0</td>\n",
       "      <td>0</td>\n",
       "      <td>0.000</td>\n",
       "      <td>0</td>\n",
       "      <td>0</td>\n",
       "      <td>0</td>\n",
       "      <td>0</td>\n",
       "    </tr>\n",
       "    <tr>\n",
       "      <th>4</th>\n",
       "      <td>2008-10-29</td>\n",
       "      <td>2009</td>\n",
       "      <td>ORL</td>\n",
       "      <td>ATL</td>\n",
       "      <td>1590.5756</td>\n",
       "      <td>1479.3201</td>\n",
       "      <td>0</td>\n",
       "      <td>0</td>\n",
       "      <td>0</td>\n",
       "      <td>0</td>\n",
       "      <td>...</td>\n",
       "      <td>0</td>\n",
       "      <td>0</td>\n",
       "      <td>0</td>\n",
       "      <td>0</td>\n",
       "      <td>0</td>\n",
       "      <td>0.000</td>\n",
       "      <td>0</td>\n",
       "      <td>0</td>\n",
       "      <td>0</td>\n",
       "      <td>0</td>\n",
       "    </tr>\n",
       "  </tbody>\n",
       "</table>\n",
       "<p>5 rows × 23 columns</p>\n",
       "</div>"
      ],
      "text/plain": [
       "         date  season team1 team2   elo1_pre   elo2_pre  team1_win  G_team1  \\\n",
       "0  2008-10-28    2009   LAL   POR  1651.7117  1472.9480          1        8   \n",
       "1  2008-10-28    2009   CHI   MIL  1450.1299  1335.4137          1        8   \n",
       "2  2008-10-28    2009   BOS   CLE  1667.4963  1547.7573          1        8   \n",
       "3  2008-10-29    2009   NYK   MIA  1359.4448  1320.1884          1        0   \n",
       "4  2008-10-29    2009   ORL   ATL  1590.5756  1479.3201          0        0   \n",
       "\n",
       "   W_team1  L_team1  ...  away_wins_team1 away_losses_team1 G_team2 W_team2  \\\n",
       "0        6        2  ...                0                 0       7       4   \n",
       "1        4        4  ...                2                 1       8       1   \n",
       "2        6        2  ...                3                 1       8       3   \n",
       "3        0        0  ...                0                 0       0       0   \n",
       "4        0        0  ...                0                 0       0       0   \n",
       "\n",
       "  L_team2  W_PCT_team2  home_wins_team2  home_losses_team2  away_wins_team2  \\\n",
       "0       3        0.571                2                  2                2   \n",
       "1       7        0.125                1                  3                0   \n",
       "2       5        0.375                2                  3                1   \n",
       "3       0        0.000                0                  0                0   \n",
       "4       0        0.000                0                  0                0   \n",
       "\n",
       "  away_losses_team2  \n",
       "0                 1  \n",
       "1                 4  \n",
       "2                 2  \n",
       "3                 0  \n",
       "4                 0  \n",
       "\n",
       "[5 rows x 23 columns]"
      ]
     },
     "execution_count": 29,
     "metadata": {},
     "output_type": "execute_result"
    }
   ],
   "source": [
    "# Merge Data Frames\n",
    "df_merge1 = df_elo_f2.merge(df_rank_f1, how='left', left_on='team1_join_date', right_on='join_col')\n",
    "df_merge1 = df_merge1.merge(df_rank_f1, how='left', left_on='team2_join_date', right_on='join_col', suffixes=(\"_team1\",\"_team2\"))\n",
    "df_merge1.drop(columns=['team1_join_date', 'team2_join_date', 'join_col_team1',\n",
    "                        'join_col_team2', 'score1', 'score2'], inplace=True)\n",
    "df_merge1.head()"
   ]
  },
  {
   "cell_type": "code",
   "execution_count": 30,
   "metadata": {},
   "outputs": [
    {
     "data": {
      "image/png": "[encoded data removed]",
      "text/plain": [
       "<Figure size 2880x1440 with 2 Axes>"
      ]
     },
     "metadata": {
      "needs_background": "light"
     },
     "output_type": "display_data"
    }
   ],
   "source": [
    "# Correlation Map\n",
    "df_corr = df_merge1.drop(columns=['team1', 'team2']).corr()\n",
    "plt.figure(figsize=(40,20))\n",
    "sn.heatmap(df_corr, annot=True, cmap=\"Blues\")\n",
    "plt.show()"
   ]
  },
  {
   "cell_type": "markdown",
   "metadata": {},
   "source": [
    "## Merge Last Game Key to first Merge"
   ]
  },
  {
   "cell_type": "markdown",
   "metadata": {},
   "source": [
    "### Make Key"
   ]
  },
  {
   "cell_type": "code",
   "execution_count": 31,
   "metadata": {},
   "outputs": [],
   "source": [
    "df_key = df_st_f2[['home_team', 'away_team', 'GAME_DATE',\n",
    "                    'GAME_ID', 'LAST_GAME_ID']].copy()"
   ]
  },
  {
   "cell_type": "code",
   "execution_count": 32,
   "metadata": {},
   "outputs": [
    {
     "data": {
      "text/html": [
       "<div>\n",
       "<style scoped>\n",
       "    .dataframe tbody tr th:only-of-type {\n",
       "        vertical-align: middle;\n",
       "    }\n",
       "\n",
       "    .dataframe tbody tr th {\n",
       "        vertical-align: top;\n",
       "    }\n",
       "\n",
       "    .dataframe thead th {\n",
       "        text-align: right;\n",
       "    }\n",
       "</style>\n",
       "<table border=\"1\" class=\"dataframe\">\n",
       "  <thead>\n",
       "    <tr style=\"text-align: right;\">\n",
       "      <th></th>\n",
       "      <th>GAME_DATE</th>\n",
       "      <th>GAME_ID</th>\n",
       "      <th>LAST_GAME_ID</th>\n",
       "      <th>team1</th>\n",
       "      <th>team2</th>\n",
       "      <th>matchup</th>\n",
       "      <th>join_key</th>\n",
       "    </tr>\n",
       "  </thead>\n",
       "  <tbody>\n",
       "    <tr>\n",
       "      <th>52208</th>\n",
       "      <td>2013-01-16</td>\n",
       "      <td>0021200572</td>\n",
       "      <td>0021100703</td>\n",
       "      <td>ATL</td>\n",
       "      <td>BKN</td>\n",
       "      <td>ATLBKN</td>\n",
       "      <td>20130116/ATLBKN</td>\n",
       "    </tr>\n",
       "    <tr>\n",
       "      <th>52218</th>\n",
       "      <td>2013-01-18</td>\n",
       "      <td>0021200588</td>\n",
       "      <td>0021200572</td>\n",
       "      <td>ATL</td>\n",
       "      <td>BKN</td>\n",
       "      <td>ATLBKN</td>\n",
       "      <td>20130118/ATLBKN</td>\n",
       "    </tr>\n",
       "    <tr>\n",
       "      <th>52563</th>\n",
       "      <td>2013-03-09</td>\n",
       "      <td>0021200927</td>\n",
       "      <td>0021200588</td>\n",
       "      <td>ATL</td>\n",
       "      <td>BKN</td>\n",
       "      <td>ATLBKN</td>\n",
       "      <td>20130309/ATLBKN</td>\n",
       "    </tr>\n",
       "    <tr>\n",
       "      <th>52619</th>\n",
       "      <td>2013-03-17</td>\n",
       "      <td>0021200991</td>\n",
       "      <td>0021200927</td>\n",
       "      <td>ATL</td>\n",
       "      <td>BKN</td>\n",
       "      <td>ATLBKN</td>\n",
       "      <td>20130317/ATLBKN</td>\n",
       "    </tr>\n",
       "    <tr>\n",
       "      <th>53383</th>\n",
       "      <td>2014-01-06</td>\n",
       "      <td>0021300506</td>\n",
       "      <td>0021200991</td>\n",
       "      <td>ATL</td>\n",
       "      <td>BKN</td>\n",
       "      <td>ATLBKN</td>\n",
       "      <td>20140106/ATLBKN</td>\n",
       "    </tr>\n",
       "  </tbody>\n",
       "</table>\n",
       "</div>"
      ],
      "text/plain": [
       "        GAME_DATE     GAME_ID LAST_GAME_ID team1 team2 matchup  \\\n",
       "52208  2013-01-16  0021200572   0021100703   ATL   BKN  ATLBKN   \n",
       "52218  2013-01-18  0021200588   0021200572   ATL   BKN  ATLBKN   \n",
       "52563  2013-03-09  0021200927   0021200588   ATL   BKN  ATLBKN   \n",
       "52619  2013-03-17  0021200991   0021200927   ATL   BKN  ATLBKN   \n",
       "53383  2014-01-06  0021300506   0021200991   ATL   BKN  ATLBKN   \n",
       "\n",
       "              join_key  \n",
       "52208  20130116/ATLBKN  \n",
       "52218  20130118/ATLBKN  \n",
       "52563  20130309/ATLBKN  \n",
       "52619  20130317/ATLBKN  \n",
       "53383  20140106/ATLBKN  "
      ]
     },
     "execution_count": 32,
     "metadata": {},
     "output_type": "execute_result"
    }
   ],
   "source": [
    "df_key['team1'] = np.where(df_key.home_team < df_key.away_team, df_key.home_team, df_key.away_team)\n",
    "df_key['team2'] = np.where(df_key.home_team < df_key.away_team, df_key.away_team, df_key.home_team)\n",
    "df_key['matchup'] = df_key.team1 + df_key.team2\n",
    "df_key['join_key'] = (df_key.GAME_DATE.astype('str').replace(\"-\", \"\", regex=True) + \"/\" + df_key.matchup)\n",
    "df_key2 = df_key.drop(columns=['home_team', 'away_team'])\n",
    "df_key2.sort_values(by=['matchup', 'GAME_DATE'], inplace=True)\n",
    "df_key2.head()"
   ]
  },
  {
   "cell_type": "code",
   "execution_count": 33,
   "metadata": {},
   "outputs": [],
   "source": [
    "key_count_dict = df_key2.matchup.value_counts().to_dict()\n",
    "prev_game_array = []\n",
    "game_array = []\n",
    "for value in sorted(key_count_dict.keys()):\n",
    "    for i in list(range(0,key_count_dict[value])):\n",
    "        prev_game_array.append(value+str(i))\n",
    "        game_array.append(value+str(i+1))"
   ]
  },
  {
   "cell_type": "code",
   "execution_count": 34,
   "metadata": {},
   "outputs": [],
   "source": [
    "df_key2['prev_game_id'] = np.array(prev_game_array)\n",
    "df_key2['game_id'] = np.array(game_array)\n",
    "df_key3 = df_key2[['GAME_ID', 'game_id', 'prev_game_id', 'join_key']].copy()"
   ]
  },
  {
   "cell_type": "code",
   "execution_count": 35,
   "metadata": {},
   "outputs": [
    {
     "data": {
      "text/html": [
       "<div>\n",
       "<style scoped>\n",
       "    .dataframe tbody tr th:only-of-type {\n",
       "        vertical-align: middle;\n",
       "    }\n",
       "\n",
       "    .dataframe tbody tr th {\n",
       "        vertical-align: top;\n",
       "    }\n",
       "\n",
       "    .dataframe thead th {\n",
       "        text-align: right;\n",
       "    }\n",
       "</style>\n",
       "<table border=\"1\" class=\"dataframe\">\n",
       "  <thead>\n",
       "    <tr style=\"text-align: right;\">\n",
       "      <th></th>\n",
       "      <th>GAME_ID</th>\n",
       "      <th>game_id</th>\n",
       "      <th>prev_game_id</th>\n",
       "      <th>join_key</th>\n",
       "    </tr>\n",
       "  </thead>\n",
       "  <tbody>\n",
       "    <tr>\n",
       "      <th>52208</th>\n",
       "      <td>0021200572</td>\n",
       "      <td>ATLBKN1</td>\n",
       "      <td>ATLBKN0</td>\n",
       "      <td>20130116/ATLBKN</td>\n",
       "    </tr>\n",
       "    <tr>\n",
       "      <th>52218</th>\n",
       "      <td>0021200588</td>\n",
       "      <td>ATLBKN2</td>\n",
       "      <td>ATLBKN1</td>\n",
       "      <td>20130118/ATLBKN</td>\n",
       "    </tr>\n",
       "    <tr>\n",
       "      <th>52563</th>\n",
       "      <td>0021200927</td>\n",
       "      <td>ATLBKN3</td>\n",
       "      <td>ATLBKN2</td>\n",
       "      <td>20130309/ATLBKN</td>\n",
       "    </tr>\n",
       "    <tr>\n",
       "      <th>52619</th>\n",
       "      <td>0021200991</td>\n",
       "      <td>ATLBKN4</td>\n",
       "      <td>ATLBKN3</td>\n",
       "      <td>20130317/ATLBKN</td>\n",
       "    </tr>\n",
       "    <tr>\n",
       "      <th>53383</th>\n",
       "      <td>0021300506</td>\n",
       "      <td>ATLBKN5</td>\n",
       "      <td>ATLBKN4</td>\n",
       "      <td>20140106/ATLBKN</td>\n",
       "    </tr>\n",
       "  </tbody>\n",
       "</table>\n",
       "</div>"
      ],
      "text/plain": [
       "          GAME_ID  game_id prev_game_id         join_key\n",
       "52208  0021200572  ATLBKN1      ATLBKN0  20130116/ATLBKN\n",
       "52218  0021200588  ATLBKN2      ATLBKN1  20130118/ATLBKN\n",
       "52563  0021200927  ATLBKN3      ATLBKN2  20130309/ATLBKN\n",
       "52619  0021200991  ATLBKN4      ATLBKN3  20130317/ATLBKN\n",
       "53383  0021300506  ATLBKN5      ATLBKN4  20140106/ATLBKN"
      ]
     },
     "execution_count": 35,
     "metadata": {},
     "output_type": "execute_result"
    }
   ],
   "source": [
    "df_key3.head()"
   ]
  },
  {
   "cell_type": "markdown",
   "metadata": {},
   "source": [
    "### Adding keys first merge data"
   ]
  },
  {
   "cell_type": "code",
   "execution_count": 36,
   "metadata": {},
   "outputs": [
    {
     "data": {
      "text/html": [
       "<div>\n",
       "<style scoped>\n",
       "    .dataframe tbody tr th:only-of-type {\n",
       "        vertical-align: middle;\n",
       "    }\n",
       "\n",
       "    .dataframe tbody tr th {\n",
       "        vertical-align: top;\n",
       "    }\n",
       "\n",
       "    .dataframe thead th {\n",
       "        text-align: right;\n",
       "    }\n",
       "</style>\n",
       "<table border=\"1\" class=\"dataframe\">\n",
       "  <thead>\n",
       "    <tr style=\"text-align: right;\">\n",
       "      <th></th>\n",
       "      <th>date</th>\n",
       "      <th>season</th>\n",
       "      <th>team1</th>\n",
       "      <th>team2</th>\n",
       "      <th>elo1_pre</th>\n",
       "      <th>elo2_pre</th>\n",
       "      <th>team1_win</th>\n",
       "      <th>G_team1</th>\n",
       "      <th>W_team1</th>\n",
       "      <th>L_team1</th>\n",
       "      <th>...</th>\n",
       "      <th>L_team2</th>\n",
       "      <th>W_PCT_team2</th>\n",
       "      <th>home_wins_team2</th>\n",
       "      <th>home_losses_team2</th>\n",
       "      <th>away_wins_team2</th>\n",
       "      <th>away_losses_team2</th>\n",
       "      <th>join_key</th>\n",
       "      <th>GAME_ID</th>\n",
       "      <th>game_id</th>\n",
       "      <th>prev_game_id</th>\n",
       "    </tr>\n",
       "  </thead>\n",
       "  <tbody>\n",
       "    <tr>\n",
       "      <th>0</th>\n",
       "      <td>2008-10-28</td>\n",
       "      <td>2009</td>\n",
       "      <td>LAL</td>\n",
       "      <td>POR</td>\n",
       "      <td>1651.7117</td>\n",
       "      <td>1472.9480</td>\n",
       "      <td>1</td>\n",
       "      <td>8</td>\n",
       "      <td>6</td>\n",
       "      <td>2</td>\n",
       "      <td>...</td>\n",
       "      <td>3</td>\n",
       "      <td>0.571</td>\n",
       "      <td>2</td>\n",
       "      <td>2</td>\n",
       "      <td>2</td>\n",
       "      <td>1</td>\n",
       "      <td>20081028/LALPOR</td>\n",
       "      <td>0020800003</td>\n",
       "      <td>LALPOR8</td>\n",
       "      <td>LALPOR7</td>\n",
       "    </tr>\n",
       "    <tr>\n",
       "      <th>1</th>\n",
       "      <td>2008-10-28</td>\n",
       "      <td>2009</td>\n",
       "      <td>CHI</td>\n",
       "      <td>MIL</td>\n",
       "      <td>1450.1299</td>\n",
       "      <td>1335.4137</td>\n",
       "      <td>1</td>\n",
       "      <td>8</td>\n",
       "      <td>4</td>\n",
       "      <td>4</td>\n",
       "      <td>...</td>\n",
       "      <td>7</td>\n",
       "      <td>0.125</td>\n",
       "      <td>1</td>\n",
       "      <td>3</td>\n",
       "      <td>0</td>\n",
       "      <td>4</td>\n",
       "      <td>20081028/CHIMIL</td>\n",
       "      <td>0020800002</td>\n",
       "      <td>CHIMIL9</td>\n",
       "      <td>CHIMIL8</td>\n",
       "    </tr>\n",
       "    <tr>\n",
       "      <th>2</th>\n",
       "      <td>2008-10-28</td>\n",
       "      <td>2009</td>\n",
       "      <td>BOS</td>\n",
       "      <td>CLE</td>\n",
       "      <td>1667.4963</td>\n",
       "      <td>1547.7573</td>\n",
       "      <td>1</td>\n",
       "      <td>8</td>\n",
       "      <td>6</td>\n",
       "      <td>2</td>\n",
       "      <td>...</td>\n",
       "      <td>5</td>\n",
       "      <td>0.375</td>\n",
       "      <td>2</td>\n",
       "      <td>3</td>\n",
       "      <td>1</td>\n",
       "      <td>2</td>\n",
       "      <td>20081028/BOSCLE</td>\n",
       "      <td>0020800001</td>\n",
       "      <td>BOSCLE8</td>\n",
       "      <td>BOSCLE7</td>\n",
       "    </tr>\n",
       "    <tr>\n",
       "      <th>3</th>\n",
       "      <td>2008-10-29</td>\n",
       "      <td>2009</td>\n",
       "      <td>NYK</td>\n",
       "      <td>MIA</td>\n",
       "      <td>1359.4448</td>\n",
       "      <td>1320.1884</td>\n",
       "      <td>1</td>\n",
       "      <td>0</td>\n",
       "      <td>0</td>\n",
       "      <td>0</td>\n",
       "      <td>...</td>\n",
       "      <td>0</td>\n",
       "      <td>0.000</td>\n",
       "      <td>0</td>\n",
       "      <td>0</td>\n",
       "      <td>0</td>\n",
       "      <td>0</td>\n",
       "      <td>20081029/MIANYK</td>\n",
       "      <td>0020800007</td>\n",
       "      <td>MIANYK9</td>\n",
       "      <td>MIANYK8</td>\n",
       "    </tr>\n",
       "    <tr>\n",
       "      <th>4</th>\n",
       "      <td>2008-10-29</td>\n",
       "      <td>2009</td>\n",
       "      <td>ORL</td>\n",
       "      <td>ATL</td>\n",
       "      <td>1590.5756</td>\n",
       "      <td>1479.3201</td>\n",
       "      <td>0</td>\n",
       "      <td>0</td>\n",
       "      <td>0</td>\n",
       "      <td>0</td>\n",
       "      <td>...</td>\n",
       "      <td>0</td>\n",
       "      <td>0.000</td>\n",
       "      <td>0</td>\n",
       "      <td>0</td>\n",
       "      <td>0</td>\n",
       "      <td>0</td>\n",
       "      <td>20081029/ATLORL</td>\n",
       "      <td>0020800004</td>\n",
       "      <td>ATLORL9</td>\n",
       "      <td>ATLORL8</td>\n",
       "    </tr>\n",
       "  </tbody>\n",
       "</table>\n",
       "<p>5 rows × 27 columns</p>\n",
       "</div>"
      ],
      "text/plain": [
       "         date  season team1 team2   elo1_pre   elo2_pre  team1_win  G_team1  \\\n",
       "0  2008-10-28    2009   LAL   POR  1651.7117  1472.9480          1        8   \n",
       "1  2008-10-28    2009   CHI   MIL  1450.1299  1335.4137          1        8   \n",
       "2  2008-10-28    2009   BOS   CLE  1667.4963  1547.7573          1        8   \n",
       "3  2008-10-29    2009   NYK   MIA  1359.4448  1320.1884          1        0   \n",
       "4  2008-10-29    2009   ORL   ATL  1590.5756  1479.3201          0        0   \n",
       "\n",
       "   W_team1  L_team1  ...  L_team2 W_PCT_team2 home_wins_team2  \\\n",
       "0        6        2  ...        3       0.571               2   \n",
       "1        4        4  ...        7       0.125               1   \n",
       "2        6        2  ...        5       0.375               2   \n",
       "3        0        0  ...        0       0.000               0   \n",
       "4        0        0  ...        0       0.000               0   \n",
       "\n",
       "  home_losses_team2 away_wins_team2  away_losses_team2         join_key  \\\n",
       "0                 2               2                  1  20081028/LALPOR   \n",
       "1                 3               0                  4  20081028/CHIMIL   \n",
       "2                 3               1                  2  20081028/BOSCLE   \n",
       "3                 0               0                  0  20081029/MIANYK   \n",
       "4                 0               0                  0  20081029/ATLORL   \n",
       "\n",
       "      GAME_ID  game_id prev_game_id  \n",
       "0  0020800003  LALPOR8      LALPOR7  \n",
       "1  0020800002  CHIMIL9      CHIMIL8  \n",
       "2  0020800001  BOSCLE8      BOSCLE7  \n",
       "3  0020800007  MIANYK9      MIANYK8  \n",
       "4  0020800004  ATLORL9      ATLORL8  \n",
       "\n",
       "[5 rows x 27 columns]"
      ]
     },
     "execution_count": 36,
     "metadata": {},
     "output_type": "execute_result"
    }
   ],
   "source": [
    "df_merge2 = df_merge1.copy()\n",
    "\n",
    "# Make key to join on\n",
    "df_merge2['join_key'] = np.where(df_merge2.team1 < df_merge2.team2,\n",
    "    (df_merge2.date.astype('str').replace(\"-\",\"\", regex=True)+ \"/\" + df_merge2.team1 + df_merge2.team2),\n",
    "    (df_merge2.date.astype('str').replace(\"-\",\"\", regex=True)+ \"/\" + df_merge2.team2 + df_merge2.team1))\n",
    "\n",
    "df_merge3 = df_merge2.merge(df_key3, how='left', on='join_key')\n",
    "df_merge3.head()"
   ]
  },
  {
   "cell_type": "code",
   "execution_count": 37,
   "metadata": {},
   "outputs": [
    {
     "data": {
      "text/html": [
       "<div>\n",
       "<style scoped>\n",
       "    .dataframe tbody tr th:only-of-type {\n",
       "        vertical-align: middle;\n",
       "    }\n",
       "\n",
       "    .dataframe tbody tr th {\n",
       "        vertical-align: top;\n",
       "    }\n",
       "\n",
       "    .dataframe thead th {\n",
       "        text-align: right;\n",
       "    }\n",
       "</style>\n",
       "<table border=\"1\" class=\"dataframe\">\n",
       "  <thead>\n",
       "    <tr style=\"text-align: right;\">\n",
       "      <th></th>\n",
       "      <th>date</th>\n",
       "      <th>season</th>\n",
       "      <th>team1</th>\n",
       "      <th>team2</th>\n",
       "      <th>elo1_pre</th>\n",
       "      <th>elo2_pre</th>\n",
       "      <th>team1_win</th>\n",
       "      <th>G_team1</th>\n",
       "      <th>W_team1</th>\n",
       "      <th>L_team1</th>\n",
       "      <th>...</th>\n",
       "      <th>L_team2</th>\n",
       "      <th>W_PCT_team2</th>\n",
       "      <th>home_wins_team2</th>\n",
       "      <th>home_losses_team2</th>\n",
       "      <th>away_wins_team2</th>\n",
       "      <th>away_losses_team2</th>\n",
       "      <th>join_key</th>\n",
       "      <th>GAME_ID</th>\n",
       "      <th>game_id</th>\n",
       "      <th>prev_game_id</th>\n",
       "    </tr>\n",
       "  </thead>\n",
       "  <tbody>\n",
       "  </tbody>\n",
       "</table>\n",
       "<p>0 rows × 27 columns</p>\n",
       "</div>"
      ],
      "text/plain": [
       "Empty DataFrame\n",
       "Columns: [date, season, team1, team2, elo1_pre, elo2_pre, team1_win, G_team1, W_team1, L_team1, W_PCT_team1, home_wins_team1, home_losses_team1, away_wins_team1, away_losses_team1, G_team2, W_team2, L_team2, W_PCT_team2, home_wins_team2, home_losses_team2, away_wins_team2, away_losses_team2, join_key, GAME_ID, game_id, prev_game_id]\n",
       "Index: []\n",
       "\n",
       "[0 rows x 27 columns]"
      ]
     },
     "execution_count": 37,
     "metadata": {},
     "output_type": "execute_result"
    }
   ],
   "source": [
    "# Check that no more NAs remain\n",
    "df_merge3[df_merge3.game_id.isna()]"
   ]
  },
  {
   "cell_type": "markdown",
   "metadata": {},
   "source": [
    "## Standard Game Set Preparation"
   ]
  },
  {
   "cell_type": "markdown",
   "metadata": {},
   "source": [
    "### Prepare Columns to Merge from Standard Game Data\n",
    "df_st_f3"
   ]
  },
  {
   "cell_type": "code",
   "execution_count": 38,
   "metadata": {},
   "outputs": [],
   "source": [
    "# Try to add to df_st_f3\n",
    "home_team_cols_to_merge = ['home_team', 'FGM_HOME', 'FGA_HOME', 'FG_PCT_HOME',\n",
    "                            'FG3M_HOME', 'FG3A_HOME', 'FG3_PCT_HOME', 'FTM_HOME', 'FTA_HOME',\n",
    "                            'FT_PCT_HOME', 'OREB_HOME', 'DREB_HOME','REB_HOME', 'AST_HOME', 'STL_HOME', 'BLK_HOME',\n",
    "                            'TOV_HOME', 'PF_HOME', 'PTS_HOME', 'PLUS_MINUS_HOME', 'PTS_PAINT_HOME',\n",
    "                            'PTS_2ND_CHANCE_HOME', 'PTS_FB_HOME', 'LARGEST_LEAD_HOME', 'LEAD_CHANGES_HOME',\n",
    "                            'TIMES_TIED_HOME', 'TEAM_TURNOVERS_HOME','TOTAL_TURNOVERS_HOME', 'TEAM_REBOUNDS_HOME',\n",
    "                            'PTS_OFF_TO_HOME', 'LAST_GAME_HOME_TEAM_POINTS']\n",
    "\n",
    "away_team_cols_to_merge = ['away_team', 'FGM_AWAY', 'FGA_AWAY', 'FG_PCT_AWAY',\n",
    "                            'FG3M_AWAY', 'FG3A_AWAY', 'FG3_PCT_AWAY', 'FTM_AWAY', 'FTA_AWAY',\n",
    "                            'FT_PCT_AWAY', 'OREB_AWAY', 'DREB_AWAY', 'REB_AWAY', 'AST_AWAY', 'STL_AWAY', 'BLK_AWAY',\n",
    "                            'TOV_AWAY', 'PF_AWAY', 'PTS_AWAY', 'PLUS_MINUS_AWAY', 'PTS_PAINT_AWAY',\n",
    "                            'PTS_2ND_CHANCE_AWAY', 'PTS_FB_AWAY', 'LARGEST_LEAD_AWAY', 'LEAD_CHANGES_AWAY',\n",
    "                            'TIMES_TIED_AWAY', 'TEAM_TURNOVERS_AWAY', 'TOTAL_TURNOVERS_AWAY', 'TEAM_REBOUNDS_AWAY',\n",
    "                            'PTS_OFF_TO_AWAY', 'LAST_GAME_VISITOR_TEAM_POINTS']\n",
    "\n",
    "game_detail_cols_to_merge = ['GAME_ID', 'SERIES_LEADER']\n",
    "\n",
    "cols_to_merge = game_detail_cols_to_merge + home_team_cols_to_merge + away_team_cols_to_merge\n",
    "df_st_f3 = df_st_f2[cols_to_merge].copy()"
   ]
  },
  {
   "cell_type": "code",
   "execution_count": 39,
   "metadata": {},
   "outputs": [
    {
     "data": {
      "text/html": [
       "<div>\n",
       "<style scoped>\n",
       "    .dataframe tbody tr th:only-of-type {\n",
       "        vertical-align: middle;\n",
       "    }\n",
       "\n",
       "    .dataframe tbody tr th {\n",
       "        vertical-align: top;\n",
       "    }\n",
       "\n",
       "    .dataframe thead th {\n",
       "        text-align: right;\n",
       "    }\n",
       "</style>\n",
       "<table border=\"1\" class=\"dataframe\">\n",
       "  <thead>\n",
       "    <tr style=\"text-align: right;\">\n",
       "      <th></th>\n",
       "      <th>GAME_ID</th>\n",
       "      <th>SERIES_LEADER</th>\n",
       "      <th>home_team</th>\n",
       "      <th>FGM_HOME</th>\n",
       "      <th>FGA_HOME</th>\n",
       "      <th>FG_PCT_HOME</th>\n",
       "      <th>FG3M_HOME</th>\n",
       "      <th>FG3A_HOME</th>\n",
       "      <th>FG3_PCT_HOME</th>\n",
       "      <th>FTM_HOME</th>\n",
       "      <th>...</th>\n",
       "      <th>PTS_2ND_CHANCE_AWAY</th>\n",
       "      <th>PTS_FB_AWAY</th>\n",
       "      <th>LARGEST_LEAD_AWAY</th>\n",
       "      <th>LEAD_CHANGES_AWAY</th>\n",
       "      <th>TIMES_TIED_AWAY</th>\n",
       "      <th>TEAM_TURNOVERS_AWAY</th>\n",
       "      <th>TOTAL_TURNOVERS_AWAY</th>\n",
       "      <th>TEAM_REBOUNDS_AWAY</th>\n",
       "      <th>PTS_OFF_TO_AWAY</th>\n",
       "      <th>LAST_GAME_VISITOR_TEAM_POINTS</th>\n",
       "    </tr>\n",
       "  </thead>\n",
       "  <tbody>\n",
       "    <tr>\n",
       "      <th>44493</th>\n",
       "      <td>0020600002</td>\n",
       "      <td>PHX</td>\n",
       "      <td>LAL</td>\n",
       "      <td>46.0</td>\n",
       "      <td>83</td>\n",
       "      <td>0.554</td>\n",
       "      <td>6</td>\n",
       "      <td>12</td>\n",
       "      <td>0.500</td>\n",
       "      <td>16.0</td>\n",
       "      <td>...</td>\n",
       "      <td>8</td>\n",
       "      <td>20</td>\n",
       "      <td>19</td>\n",
       "      <td>10</td>\n",
       "      <td>5</td>\n",
       "      <td>0</td>\n",
       "      <td>21</td>\n",
       "      <td>6</td>\n",
       "      <td>31</td>\n",
       "      <td>91</td>\n",
       "    </tr>\n",
       "    <tr>\n",
       "      <th>44494</th>\n",
       "      <td>0020600001</td>\n",
       "      <td>CHI</td>\n",
       "      <td>MIA</td>\n",
       "      <td>25.0</td>\n",
       "      <td>65</td>\n",
       "      <td>0.385</td>\n",
       "      <td>3</td>\n",
       "      <td>17</td>\n",
       "      <td>0.176</td>\n",
       "      <td>13.0</td>\n",
       "      <td>...</td>\n",
       "      <td>18</td>\n",
       "      <td>21</td>\n",
       "      <td>42</td>\n",
       "      <td>2</td>\n",
       "      <td>3</td>\n",
       "      <td>0</td>\n",
       "      <td>16</td>\n",
       "      <td>11</td>\n",
       "      <td>15</td>\n",
       "      <td>96</td>\n",
       "    </tr>\n",
       "    <tr>\n",
       "      <th>44495</th>\n",
       "      <td>0020600005</td>\n",
       "      <td>ORL</td>\n",
       "      <td>ORL</td>\n",
       "      <td>35.0</td>\n",
       "      <td>59</td>\n",
       "      <td>0.593</td>\n",
       "      <td>6</td>\n",
       "      <td>8</td>\n",
       "      <td>0.750</td>\n",
       "      <td>33.0</td>\n",
       "      <td>...</td>\n",
       "      <td>11</td>\n",
       "      <td>9</td>\n",
       "      <td>1</td>\n",
       "      <td>1</td>\n",
       "      <td>0</td>\n",
       "      <td>0</td>\n",
       "      <td>15</td>\n",
       "      <td>14</td>\n",
       "      <td>22</td>\n",
       "      <td>116</td>\n",
       "    </tr>\n",
       "    <tr>\n",
       "      <th>44496</th>\n",
       "      <td>0020600014</td>\n",
       "      <td>Tied</td>\n",
       "      <td>PHX</td>\n",
       "      <td>41.0</td>\n",
       "      <td>77</td>\n",
       "      <td>0.532</td>\n",
       "      <td>4</td>\n",
       "      <td>15</td>\n",
       "      <td>0.267</td>\n",
       "      <td>26.0</td>\n",
       "      <td>...</td>\n",
       "      <td>22</td>\n",
       "      <td>2</td>\n",
       "      <td>7</td>\n",
       "      <td>1</td>\n",
       "      <td>3</td>\n",
       "      <td>0</td>\n",
       "      <td>14</td>\n",
       "      <td>8</td>\n",
       "      <td>20</td>\n",
       "      <td>107</td>\n",
       "    </tr>\n",
       "    <tr>\n",
       "      <th>44497</th>\n",
       "      <td>0020600011</td>\n",
       "      <td>Tied</td>\n",
       "      <td>MIN</td>\n",
       "      <td>35.0</td>\n",
       "      <td>72</td>\n",
       "      <td>0.486</td>\n",
       "      <td>4</td>\n",
       "      <td>9</td>\n",
       "      <td>0.444</td>\n",
       "      <td>18.0</td>\n",
       "      <td>...</td>\n",
       "      <td>34</td>\n",
       "      <td>4</td>\n",
       "      <td>7</td>\n",
       "      <td>8</td>\n",
       "      <td>9</td>\n",
       "      <td>0</td>\n",
       "      <td>18</td>\n",
       "      <td>9</td>\n",
       "      <td>20</td>\n",
       "      <td>89</td>\n",
       "    </tr>\n",
       "  </tbody>\n",
       "</table>\n",
       "<p>5 rows × 64 columns</p>\n",
       "</div>"
      ],
      "text/plain": [
       "          GAME_ID SERIES_LEADER home_team  FGM_HOME FGA_HOME  FG_PCT_HOME  \\\n",
       "44493  0020600002           PHX       LAL      46.0       83        0.554   \n",
       "44494  0020600001           CHI       MIA      25.0       65        0.385   \n",
       "44495  0020600005           ORL       ORL      35.0       59        0.593   \n",
       "44496  0020600014          Tied       PHX      41.0       77        0.532   \n",
       "44497  0020600011          Tied       MIN      35.0       72        0.486   \n",
       "\n",
       "      FG3M_HOME FG3A_HOME  FG3_PCT_HOME  FTM_HOME  ...  PTS_2ND_CHANCE_AWAY  \\\n",
       "44493         6        12         0.500      16.0  ...                    8   \n",
       "44494         3        17         0.176      13.0  ...                   18   \n",
       "44495         6         8         0.750      33.0  ...                   11   \n",
       "44496         4        15         0.267      26.0  ...                   22   \n",
       "44497         4         9         0.444      18.0  ...                   34   \n",
       "\n",
       "       PTS_FB_AWAY LARGEST_LEAD_AWAY LEAD_CHANGES_AWAY TIMES_TIED_AWAY  \\\n",
       "44493           20                19                10               5   \n",
       "44494           21                42                 2               3   \n",
       "44495            9                 1                 1               0   \n",
       "44496            2                 7                 1               3   \n",
       "44497            4                 7                 8               9   \n",
       "\n",
       "      TEAM_TURNOVERS_AWAY TOTAL_TURNOVERS_AWAY TEAM_REBOUNDS_AWAY  \\\n",
       "44493                   0                   21                  6   \n",
       "44494                   0                   16                 11   \n",
       "44495                   0                   15                 14   \n",
       "44496                   0                   14                  8   \n",
       "44497                   0                   18                  9   \n",
       "\n",
       "      PTS_OFF_TO_AWAY  LAST_GAME_VISITOR_TEAM_POINTS  \n",
       "44493              31                             91  \n",
       "44494              15                             96  \n",
       "44495              22                            116  \n",
       "44496              20                            107  \n",
       "44497              20                             89  \n",
       "\n",
       "[5 rows x 64 columns]"
      ]
     },
     "execution_count": 39,
     "metadata": {},
     "output_type": "execute_result"
    }
   ],
   "source": [
    "df_st_f3.head()"
   ]
  },
  {
   "cell_type": "markdown",
   "metadata": {},
   "source": [
    "### Merge Join Key To standard data set"
   ]
  },
  {
   "cell_type": "code",
   "execution_count": 40,
   "metadata": {},
   "outputs": [],
   "source": [
    "df_st_f4 = df_st_f3.merge(df_key2, how='left', left_on='GAME_ID', right_on='GAME_ID')"
   ]
  },
  {
   "cell_type": "code",
   "execution_count": 41,
   "metadata": {},
   "outputs": [],
   "source": [
    "df_st_f4.drop(columns=['GAME_ID', 'LAST_GAME_ID', 'team1', 'team2', 'join_key', 'matchup'], inplace=True)"
   ]
  },
  {
   "cell_type": "code",
   "execution_count": 42,
   "metadata": {},
   "outputs": [
    {
     "data": {
      "text/plain": [
       "Index(['SERIES_LEADER', 'home_team', 'FGM_HOME', 'FGA_HOME', 'FG_PCT_HOME',\n",
       "       'FG3M_HOME', 'FG3A_HOME', 'FG3_PCT_HOME', 'FTM_HOME', 'FTA_HOME',\n",
       "       'FT_PCT_HOME', 'OREB_HOME', 'DREB_HOME', 'REB_HOME', 'AST_HOME',\n",
       "       'STL_HOME', 'BLK_HOME', 'TOV_HOME', 'PF_HOME', 'PTS_HOME',\n",
       "       'PLUS_MINUS_HOME', 'PTS_PAINT_HOME', 'PTS_2ND_CHANCE_HOME',\n",
       "       'PTS_FB_HOME', 'LARGEST_LEAD_HOME', 'LEAD_CHANGES_HOME',\n",
       "       'TIMES_TIED_HOME', 'TEAM_TURNOVERS_HOME', 'TOTAL_TURNOVERS_HOME',\n",
       "       'TEAM_REBOUNDS_HOME', 'PTS_OFF_TO_HOME', 'LAST_GAME_HOME_TEAM_POINTS',\n",
       "       'away_team', 'FGM_AWAY', 'FGA_AWAY', 'FG_PCT_AWAY', 'FG3M_AWAY',\n",
       "       'FG3A_AWAY', 'FG3_PCT_AWAY', 'FTM_AWAY', 'FTA_AWAY', 'FT_PCT_AWAY',\n",
       "       'OREB_AWAY', 'DREB_AWAY', 'REB_AWAY', 'AST_AWAY', 'STL_AWAY',\n",
       "       'BLK_AWAY', 'TOV_AWAY', 'PF_AWAY', 'PTS_AWAY', 'PLUS_MINUS_AWAY',\n",
       "       'PTS_PAINT_AWAY', 'PTS_2ND_CHANCE_AWAY', 'PTS_FB_AWAY',\n",
       "       'LARGEST_LEAD_AWAY', 'LEAD_CHANGES_AWAY', 'TIMES_TIED_AWAY',\n",
       "       'TEAM_TURNOVERS_AWAY', 'TOTAL_TURNOVERS_AWAY', 'TEAM_REBOUNDS_AWAY',\n",
       "       'PTS_OFF_TO_AWAY', 'LAST_GAME_VISITOR_TEAM_POINTS', 'GAME_DATE',\n",
       "       'prev_game_id', 'game_id'],\n",
       "      dtype='object')"
      ]
     },
     "execution_count": 42,
     "metadata": {},
     "output_type": "execute_result"
    }
   ],
   "source": [
    "df_st_f4.columns"
   ]
  },
  {
   "cell_type": "code",
   "execution_count": 43,
   "metadata": {},
   "outputs": [
    {
     "data": {
      "text/plain": [
       "Index(['date', 'season', 'team1', 'team2', 'elo1_pre', 'elo2_pre', 'team1_win',\n",
       "       'G_team1', 'W_team1', 'L_team1', 'W_PCT_team1', 'home_wins_team1',\n",
       "       'home_losses_team1', 'away_wins_team1', 'away_losses_team1', 'G_team2',\n",
       "       'W_team2', 'L_team2', 'W_PCT_team2', 'home_wins_team2',\n",
       "       'home_losses_team2', 'away_wins_team2', 'away_losses_team2', 'join_key',\n",
       "       'GAME_ID', 'game_id', 'prev_game_id'],\n",
       "      dtype='object')"
      ]
     },
     "execution_count": 43,
     "metadata": {},
     "output_type": "execute_result"
    }
   ],
   "source": [
    "df_merge3.columns"
   ]
  },
  {
   "cell_type": "code",
   "execution_count": 44,
   "metadata": {},
   "outputs": [
    {
     "data": {
      "text/html": [
       "<div>\n",
       "<style scoped>\n",
       "    .dataframe tbody tr th:only-of-type {\n",
       "        vertical-align: middle;\n",
       "    }\n",
       "\n",
       "    .dataframe tbody tr th {\n",
       "        vertical-align: top;\n",
       "    }\n",
       "\n",
       "    .dataframe thead th {\n",
       "        text-align: right;\n",
       "    }\n",
       "</style>\n",
       "<table border=\"1\" class=\"dataframe\">\n",
       "  <thead>\n",
       "    <tr style=\"text-align: right;\">\n",
       "      <th></th>\n",
       "      <th>date</th>\n",
       "      <th>season</th>\n",
       "      <th>team1</th>\n",
       "      <th>team2</th>\n",
       "      <th>elo1_pre</th>\n",
       "      <th>elo2_pre</th>\n",
       "      <th>team1_win</th>\n",
       "      <th>G_team1</th>\n",
       "      <th>W_team1</th>\n",
       "      <th>L_team1</th>\n",
       "      <th>...</th>\n",
       "      <th>PTS_2ND_CHANCE_AWAY</th>\n",
       "      <th>PTS_FB_AWAY</th>\n",
       "      <th>LARGEST_LEAD_AWAY</th>\n",
       "      <th>LEAD_CHANGES_AWAY</th>\n",
       "      <th>TIMES_TIED_AWAY</th>\n",
       "      <th>TEAM_TURNOVERS_AWAY</th>\n",
       "      <th>TOTAL_TURNOVERS_AWAY</th>\n",
       "      <th>TEAM_REBOUNDS_AWAY</th>\n",
       "      <th>PTS_OFF_TO_AWAY</th>\n",
       "      <th>LAST_GAME_VISITOR_TEAM_POINTS</th>\n",
       "    </tr>\n",
       "  </thead>\n",
       "  <tbody>\n",
       "    <tr>\n",
       "      <th>0</th>\n",
       "      <td>2008-10-28</td>\n",
       "      <td>2009</td>\n",
       "      <td>LAL</td>\n",
       "      <td>POR</td>\n",
       "      <td>1651.7117</td>\n",
       "      <td>1472.9480</td>\n",
       "      <td>1</td>\n",
       "      <td>8</td>\n",
       "      <td>6</td>\n",
       "      <td>2</td>\n",
       "      <td>...</td>\n",
       "      <td>17</td>\n",
       "      <td>5</td>\n",
       "      <td>1</td>\n",
       "      <td>12</td>\n",
       "      <td>5</td>\n",
       "      <td>0</td>\n",
       "      <td>11</td>\n",
       "      <td>7</td>\n",
       "      <td>11</td>\n",
       "      <td>104</td>\n",
       "    </tr>\n",
       "    <tr>\n",
       "      <th>1</th>\n",
       "      <td>2008-10-28</td>\n",
       "      <td>2009</td>\n",
       "      <td>CHI</td>\n",
       "      <td>MIL</td>\n",
       "      <td>1450.1299</td>\n",
       "      <td>1335.4137</td>\n",
       "      <td>1</td>\n",
       "      <td>8</td>\n",
       "      <td>4</td>\n",
       "      <td>4</td>\n",
       "      <td>...</td>\n",
       "      <td>8</td>\n",
       "      <td>20</td>\n",
       "      <td>26</td>\n",
       "      <td>1</td>\n",
       "      <td>2</td>\n",
       "      <td>0</td>\n",
       "      <td>10</td>\n",
       "      <td>3</td>\n",
       "      <td>13</td>\n",
       "      <td>114</td>\n",
       "    </tr>\n",
       "    <tr>\n",
       "      <th>2</th>\n",
       "      <td>2008-10-28</td>\n",
       "      <td>2009</td>\n",
       "      <td>BOS</td>\n",
       "      <td>CLE</td>\n",
       "      <td>1667.4963</td>\n",
       "      <td>1547.7573</td>\n",
       "      <td>1</td>\n",
       "      <td>8</td>\n",
       "      <td>6</td>\n",
       "      <td>2</td>\n",
       "      <td>...</td>\n",
       "      <td>15</td>\n",
       "      <td>8</td>\n",
       "      <td>2</td>\n",
       "      <td>1</td>\n",
       "      <td>2</td>\n",
       "      <td>2</td>\n",
       "      <td>17</td>\n",
       "      <td>7</td>\n",
       "      <td>21</td>\n",
       "      <td>114</td>\n",
       "    </tr>\n",
       "    <tr>\n",
       "      <th>3</th>\n",
       "      <td>2008-10-29</td>\n",
       "      <td>2009</td>\n",
       "      <td>NYK</td>\n",
       "      <td>MIA</td>\n",
       "      <td>1359.4448</td>\n",
       "      <td>1320.1884</td>\n",
       "      <td>1</td>\n",
       "      <td>0</td>\n",
       "      <td>0</td>\n",
       "      <td>0</td>\n",
       "      <td>...</td>\n",
       "      <td>6</td>\n",
       "      <td>9</td>\n",
       "      <td>3</td>\n",
       "      <td>8</td>\n",
       "      <td>10</td>\n",
       "      <td>1</td>\n",
       "      <td>11</td>\n",
       "      <td>9</td>\n",
       "      <td>10</td>\n",
       "      <td>88</td>\n",
       "    </tr>\n",
       "    <tr>\n",
       "      <th>4</th>\n",
       "      <td>2008-10-29</td>\n",
       "      <td>2009</td>\n",
       "      <td>ORL</td>\n",
       "      <td>ATL</td>\n",
       "      <td>1590.5756</td>\n",
       "      <td>1479.3201</td>\n",
       "      <td>0</td>\n",
       "      <td>0</td>\n",
       "      <td>0</td>\n",
       "      <td>0</td>\n",
       "      <td>...</td>\n",
       "      <td>11</td>\n",
       "      <td>18</td>\n",
       "      <td>20</td>\n",
       "      <td>6</td>\n",
       "      <td>8</td>\n",
       "      <td>0</td>\n",
       "      <td>12</td>\n",
       "      <td>5</td>\n",
       "      <td>17</td>\n",
       "      <td>90</td>\n",
       "    </tr>\n",
       "  </tbody>\n",
       "</table>\n",
       "<p>5 rows × 86 columns</p>\n",
       "</div>"
      ],
      "text/plain": [
       "         date  season team1 team2   elo1_pre   elo2_pre  team1_win  G_team1  \\\n",
       "0  2008-10-28    2009   LAL   POR  1651.7117  1472.9480          1        8   \n",
       "1  2008-10-28    2009   CHI   MIL  1450.1299  1335.4137          1        8   \n",
       "2  2008-10-28    2009   BOS   CLE  1667.4963  1547.7573          1        8   \n",
       "3  2008-10-29    2009   NYK   MIA  1359.4448  1320.1884          1        0   \n",
       "4  2008-10-29    2009   ORL   ATL  1590.5756  1479.3201          0        0   \n",
       "\n",
       "   W_team1  L_team1  ...  PTS_2ND_CHANCE_AWAY PTS_FB_AWAY LARGEST_LEAD_AWAY  \\\n",
       "0        6        2  ...                   17           5                 1   \n",
       "1        4        4  ...                    8          20                26   \n",
       "2        6        2  ...                   15           8                 2   \n",
       "3        0        0  ...                    6           9                 3   \n",
       "4        0        0  ...                   11          18                20   \n",
       "\n",
       "  LEAD_CHANGES_AWAY TIMES_TIED_AWAY  TEAM_TURNOVERS_AWAY  \\\n",
       "0                12               5                    0   \n",
       "1                 1               2                    0   \n",
       "2                 1               2                    2   \n",
       "3                 8              10                    1   \n",
       "4                 6               8                    0   \n",
       "\n",
       "   TOTAL_TURNOVERS_AWAY  TEAM_REBOUNDS_AWAY  PTS_OFF_TO_AWAY  \\\n",
       "0                    11                   7               11   \n",
       "1                    10                   3               13   \n",
       "2                    17                   7               21   \n",
       "3                    11                   9               10   \n",
       "4                    12                   5               17   \n",
       "\n",
       "  LAST_GAME_VISITOR_TEAM_POINTS  \n",
       "0                           104  \n",
       "1                           114  \n",
       "2                           114  \n",
       "3                            88  \n",
       "4                            90  \n",
       "\n",
       "[5 rows x 86 columns]"
      ]
     },
     "execution_count": 44,
     "metadata": {},
     "output_type": "execute_result"
    }
   ],
   "source": [
    "df_merge4 = df_merge3.merge(df_st_f4, how='left', left_on='prev_game_id', right_on='game_id')\n",
    "df_merge5 = df_merge4[['date', 'season', 'team1', 'team2', 'elo1_pre', 'elo2_pre', 'team1_win',\n",
    "       'G_team1', 'W_team1', 'L_team1', 'W_PCT_team1', 'home_wins_team1',\n",
    "       'home_losses_team1', 'away_wins_team1', 'away_losses_team1', 'G_team2',\n",
    "       'W_team2', 'L_team2', 'W_PCT_team2', 'home_wins_team2',\n",
    "       'home_losses_team2', 'away_wins_team2', 'away_losses_team2',\n",
    "       'SERIES_LEADER', 'home_team',\n",
    "       'FGM_HOME', 'FGA_HOME', 'FG_PCT_HOME', 'FG3M_HOME', 'FG3A_HOME',\n",
    "       'FG3_PCT_HOME', 'FTM_HOME', 'FTA_HOME', 'FT_PCT_HOME', 'OREB_HOME',\n",
    "       'DREB_HOME', 'REB_HOME', 'AST_HOME', 'STL_HOME', 'BLK_HOME', 'TOV_HOME',\n",
    "       'PF_HOME', 'PTS_HOME', 'PLUS_MINUS_HOME', 'PTS_PAINT_HOME',\n",
    "       'PTS_2ND_CHANCE_HOME', 'PTS_FB_HOME', 'LARGEST_LEAD_HOME',\n",
    "       'LEAD_CHANGES_HOME', 'TIMES_TIED_HOME', 'TEAM_TURNOVERS_HOME',\n",
    "       'TOTAL_TURNOVERS_HOME', 'TEAM_REBOUNDS_HOME', 'PTS_OFF_TO_HOME',\n",
    "       'LAST_GAME_HOME_TEAM_POINTS', 'away_team', 'FGM_AWAY', 'FGA_AWAY',\n",
    "       'FG_PCT_AWAY', 'FG3M_AWAY', 'FG3A_AWAY', 'FG3_PCT_AWAY', 'FTM_AWAY',\n",
    "       'FTA_AWAY', 'FT_PCT_AWAY', 'OREB_AWAY', 'DREB_AWAY', 'REB_AWAY',\n",
    "       'AST_AWAY', 'STL_AWAY', 'BLK_AWAY', 'TOV_AWAY', 'PF_AWAY', 'PTS_AWAY',\n",
    "       'PLUS_MINUS_AWAY', 'PTS_PAINT_AWAY', 'PTS_2ND_CHANCE_AWAY',\n",
    "       'PTS_FB_AWAY', 'LARGEST_LEAD_AWAY', 'LEAD_CHANGES_AWAY',\n",
    "       'TIMES_TIED_AWAY', 'TEAM_TURNOVERS_AWAY', 'TOTAL_TURNOVERS_AWAY',\n",
    "       'TEAM_REBOUNDS_AWAY', 'PTS_OFF_TO_AWAY',\n",
    "       'LAST_GAME_VISITOR_TEAM_POINTS']].copy()\n",
    "df_merge5.head()"
   ]
  },
  {
   "cell_type": "code",
   "execution_count": 45,
   "metadata": {},
   "outputs": [],
   "source": [
    "df_merge6 = df_merge5.copy()"
   ]
  },
  {
   "cell_type": "code",
   "execution_count": 46,
   "metadata": {},
   "outputs": [],
   "source": [
    "## Put game stats in terms of team1 and team2\n",
    "# if df_full_f1.team1 == df_full_f1.home_team:\n",
    "df_merge6['pgame_team1_home'] = np.where(df_merge6.team1 == df_merge6.home_team, 1, 0)\n",
    "df_merge6['FGM_team1'] = np.where(df_merge6.team1 == df_merge6.home_team, df_merge6.FGM_HOME, df_merge6.FGM_AWAY)\n",
    "df_merge6['FGA_team1'] = np.where(df_merge6.team1 == df_merge6.home_team, df_merge6.FGA_HOME, df_merge6.FGA_AWAY)\n",
    "df_merge6['FG_PCT_team1'] = np.where(df_merge6.team1 == df_merge6.home_team, df_merge6.FG_PCT_HOME, df_merge6.FG_PCT_AWAY)\n",
    "df_merge6['FG3M_team1'] = np.where(df_merge6.team1 == df_merge6.home_team, df_merge6.FG3M_HOME, df_merge6.FG3M_AWAY)\n",
    "df_merge6['FG3A_team1'] = np.where(df_merge6.team1 == df_merge6.home_team, df_merge6.FG3A_HOME, df_merge6.FG3A_AWAY)\n",
    "df_merge6['FG3_PCT_team1'] = np.where(df_merge6.team1 == df_merge6.home_team, df_merge6.FG3_PCT_HOME, df_merge6.FG3_PCT_AWAY)\n",
    "df_merge6['FTM_team1'] = np.where(df_merge6.team1 == df_merge6.home_team, df_merge6.FTM_HOME, df_merge6.FTM_AWAY)\n",
    "df_merge6['FTA_team1'] = np.where(df_merge6.team1 == df_merge6.home_team, df_merge6.FTA_HOME, df_merge6.FTA_AWAY)\n",
    "df_merge6['FT_PCT_team1'] = np.where(df_merge6.team1 == df_merge6.home_team, df_merge6.FT_PCT_HOME, df_merge6.FT_PCT_AWAY)\n",
    "df_merge6['OREB_team1'] = np.where(df_merge6.team1 == df_merge6.home_team, df_merge6.OREB_HOME, df_merge6.OREB_AWAY)\n",
    "df_merge6['DREB_team1'] = np.where(df_merge6.team1 == df_merge6.home_team, df_merge6.DREB_HOME, df_merge6.DREB_AWAY)\n",
    "df_merge6['REB_team1'] = np.where(df_merge6.team1 == df_merge6.home_team, df_merge6.REB_HOME, df_merge6.REB_AWAY)\n",
    "df_merge6['AST_team1'] = np.where(df_merge6.team1 == df_merge6.home_team, df_merge6.AST_HOME, df_merge6.AST_AWAY)\n",
    "df_merge6['STL_team1'] = np.where(df_merge6.team1 == df_merge6.home_team, df_merge6.STL_HOME, df_merge6.STL_AWAY)\n",
    "df_merge6['BLK_team1'] = np.where(df_merge6.team1 == df_merge6.home_team, df_merge6.BLK_HOME, df_merge6.BLK_AWAY)\n",
    "df_merge6['TOV_team1'] = np.where(df_merge6.team1 == df_merge6.home_team, df_merge6.TOV_HOME, df_merge6.TOV_AWAY)\n",
    "df_merge6['PF_team1'] = np.where(df_merge6.team1 == df_merge6.home_team, df_merge6.PF_HOME, df_merge6.PF_AWAY)\n",
    "df_merge6['PTS_team1'] = np.where(df_merge6.team1 == df_merge6.home_team, df_merge6.PTS_HOME, df_merge6.PTS_AWAY)\n",
    "df_merge6['PLUS_MINUS_team1'] = np.where(df_merge6.team1 == df_merge6.home_team, df_merge6.PLUS_MINUS_HOME, df_merge6.PLUS_MINUS_AWAY)\n",
    "df_merge6['PTS_PAINT_team1'] = np.where(df_merge6.team1 == df_merge6.home_team, df_merge6.PTS_PAINT_HOME, df_merge6.PTS_PAINT_AWAY)\n",
    "df_merge6['PTS_2ND_CHANCE_team1'] = np.where(df_merge6.team1 == df_merge6.home_team, df_merge6.PTS_2ND_CHANCE_HOME, df_merge6.PTS_2ND_CHANCE_AWAY)\n",
    "df_merge6['PTS_FB_team1'] = np.where(df_merge6.team1 == df_merge6.home_team, df_merge6.PTS_FB_HOME, df_merge6.PTS_FB_AWAY)\n",
    "df_merge6['LARGEST_LEAD_team1'] = np.where(df_merge6.team1 == df_merge6.home_team, df_merge6.LARGEST_LEAD_HOME, df_merge6.LARGEST_LEAD_AWAY)\n",
    "df_merge6['LEAD_CHANGES_team1'] = np.where(df_merge6.team1 == df_merge6.home_team, df_merge6.LEAD_CHANGES_HOME, df_merge6.LEAD_CHANGES_AWAY)\n",
    "df_merge6['TIMES_TIED_team1'] = np.where(df_merge6.team1 == df_merge6.home_team, df_merge6.TIMES_TIED_HOME, df_merge6.TIMES_TIED_AWAY)\n",
    "df_merge6['TEAM_TURNOVERS_team1'] = np.where(df_merge6.team1 == df_merge6.home_team, df_merge6.TEAM_TURNOVERS_HOME, df_merge6.TEAM_TURNOVERS_AWAY)\n",
    "df_merge6['TOTAL_TURNOVERS_team1'] = np.where(df_merge6.team1 == df_merge6.home_team, df_merge6.TOTAL_TURNOVERS_HOME, df_merge6.TOTAL_TURNOVERS_AWAY)\n",
    "df_merge6['TEAM_REBOUNDS_team1'] = np.where(df_merge6.team1 == df_merge6.home_team, df_merge6.TEAM_REBOUNDS_HOME, df_merge6.TEAM_REBOUNDS_AWAY)\n",
    "df_merge6['PTS_FB_team1'] = np.where(df_merge6.team1 == df_merge6.home_team, df_merge6.PTS_FB_HOME, df_merge6.PTS_FB_AWAY)\n",
    "df_merge6['PTS_OFF_TO_team1'] = np.where(df_merge6.team1 == df_merge6.home_team, df_merge6.PTS_OFF_TO_HOME, df_merge6.PTS_OFF_TO_AWAY)\n",
    "df_merge6['LAST_GAME_POINTS_team1'] = np.where(df_merge6.team1 == df_merge6.home_team, df_merge6.LAST_GAME_HOME_TEAM_POINTS, df_merge6.LAST_GAME_VISITOR_TEAM_POINTS)\n",
    "\n",
    "# if df_full_f1.team2 == df_full_f1.home_team:\n",
    "df_merge6['pgame_team2_home'] = np.where(df_merge6.team2 == df_merge6.home_team, 1, 0)\n",
    "df_merge6['FGM_team2'] = np.where(df_merge6.team2 == df_merge6.home_team, df_merge6.FGM_HOME, df_merge6.FGM_AWAY)\n",
    "df_merge6['FGA_team2'] = np.where(df_merge6.team2 == df_merge6.home_team, df_merge6.FGA_HOME, df_merge6.FGA_AWAY)\n",
    "df_merge6['FG_PCT_team2'] = np.where(df_merge6.team2 == df_merge6.home_team, df_merge6.FG_PCT_HOME, df_merge6.FG_PCT_AWAY)\n",
    "df_merge6['FG3M_team2'] = np.where(df_merge6.team2 == df_merge6.home_team, df_merge6.FG3M_HOME, df_merge6.FG3M_AWAY)\n",
    "df_merge6['FG3A_team2'] = np.where(df_merge6.team2 == df_merge6.home_team, df_merge6.FG3A_HOME, df_merge6.FG3A_AWAY)\n",
    "df_merge6['FG3_PCT_team2'] = np.where(df_merge6.team2 == df_merge6.home_team, df_merge6.FG3_PCT_HOME, df_merge6.FG3_PCT_AWAY)\n",
    "df_merge6['FTM_team2'] = np.where(df_merge6.team2 == df_merge6.home_team, df_merge6.FTM_HOME, df_merge6.FTM_AWAY)\n",
    "df_merge6['FTA_team2'] = np.where(df_merge6.team2 == df_merge6.home_team, df_merge6.FTA_HOME, df_merge6.FTA_AWAY)\n",
    "df_merge6['FT_PCT_team2'] = np.where(df_merge6.team2 == df_merge6.home_team, df_merge6.FT_PCT_HOME, df_merge6.FT_PCT_AWAY)\n",
    "df_merge6['OREB_team2'] = np.where(df_merge6.team2 == df_merge6.home_team, df_merge6.OREB_HOME, df_merge6.OREB_AWAY)\n",
    "df_merge6['DREB_team2'] = np.where(df_merge6.team2 == df_merge6.home_team, df_merge6.DREB_HOME, df_merge6.DREB_AWAY)\n",
    "df_merge6['REB_team2'] = np.where(df_merge6.team2 == df_merge6.home_team, df_merge6.REB_HOME, df_merge6.REB_AWAY)\n",
    "df_merge6['AST_team2'] = np.where(df_merge6.team2 == df_merge6.home_team, df_merge6.AST_HOME, df_merge6.AST_AWAY)\n",
    "df_merge6['STL_team2'] = np.where(df_merge6.team2 == df_merge6.home_team, df_merge6.STL_HOME, df_merge6.STL_AWAY)\n",
    "df_merge6['BLK_team2'] = np.where(df_merge6.team2 == df_merge6.home_team, df_merge6.BLK_HOME, df_merge6.BLK_AWAY)\n",
    "df_merge6['TOV_team2'] = np.where(df_merge6.team2 == df_merge6.home_team, df_merge6.TOV_HOME, df_merge6.TOV_AWAY)\n",
    "df_merge6['PF_team2'] = np.where(df_merge6.team2 == df_merge6.home_team, df_merge6.PF_HOME, df_merge6.PF_AWAY)\n",
    "df_merge6['PTS_team2'] = np.where(df_merge6.team2 == df_merge6.home_team, df_merge6.PTS_HOME, df_merge6.PTS_AWAY)\n",
    "df_merge6['PLUS_MINUS_team2'] = np.where(df_merge6.team2 == df_merge6.home_team, df_merge6.PLUS_MINUS_HOME, df_merge6.PLUS_MINUS_AWAY)\n",
    "df_merge6['PTS_PAINT_team2'] = np.where(df_merge6.team2 == df_merge6.home_team, df_merge6.PTS_PAINT_HOME, df_merge6.PTS_PAINT_AWAY)\n",
    "df_merge6['PTS_2ND_CHANCE_team2'] = np.where(df_merge6.team2 == df_merge6.home_team, df_merge6.PTS_2ND_CHANCE_HOME, df_merge6.PTS_2ND_CHANCE_AWAY)\n",
    "df_merge6['PTS_FB_team2'] = np.where(df_merge6.team2 == df_merge6.home_team, df_merge6.PTS_FB_HOME, df_merge6.PTS_FB_AWAY)\n",
    "df_merge6['LARGEST_LEAD_team2'] = np.where(df_merge6.team2 == df_merge6.home_team, df_merge6.LARGEST_LEAD_HOME, df_merge6.LARGEST_LEAD_AWAY)\n",
    "df_merge6['LEAD_CHANGES_team2'] = np.where(df_merge6.team2 == df_merge6.home_team, df_merge6.LEAD_CHANGES_HOME, df_merge6.LEAD_CHANGES_AWAY)\n",
    "df_merge6['TIMES_TIED_team2'] = np.where(df_merge6.team2 == df_merge6.home_team, df_merge6.TIMES_TIED_HOME, df_merge6.TIMES_TIED_AWAY)\n",
    "df_merge6['TEAM_TURNOVERS_team2'] = np.where(df_merge6.team2 == df_merge6.home_team, df_merge6.TEAM_TURNOVERS_HOME, df_merge6.TEAM_TURNOVERS_AWAY)\n",
    "df_merge6['TOTAL_TURNOVERS_team2'] = np.where(df_merge6.team2 == df_merge6.home_team, df_merge6.TOTAL_TURNOVERS_HOME, df_merge6.TOTAL_TURNOVERS_AWAY)\n",
    "df_merge6['TEAM_REBOUNDS_team2'] = np.where(df_merge6.team2 == df_merge6.home_team, df_merge6.TEAM_REBOUNDS_HOME, df_merge6.TEAM_REBOUNDS_AWAY)\n",
    "df_merge6['LAST_GAME_POINTS_team2'] = np.where(df_merge6.team2 == df_merge6.home_team, df_merge6.LAST_GAME_HOME_TEAM_POINTS, df_merge6.LAST_GAME_VISITOR_TEAM_POINTS)\n",
    "df_merge6['PTS_FB_team2'] = np.where(df_merge6.team2 == df_merge6.home_team, df_merge6.PTS_FB_HOME, df_merge6.PTS_FB_AWAY)\n",
    "df_merge6['PTS_OFF_TO_team2'] = np.where(df_merge6.team2 == df_merge6.home_team, df_merge6.PTS_OFF_TO_HOME, df_merge6.PTS_OFF_TO_AWAY)\n",
    "\n",
    "df_full = df_merge6.drop(columns=['home_team', 'FGM_HOME', 'FGA_HOME', 'FG_PCT_HOME', 'FG3M_HOME',\n",
    "       'FG3A_HOME', 'FG3_PCT_HOME', 'FTM_HOME', 'FTA_HOME', 'FT_PCT_HOME',\n",
    "       'OREB_HOME', 'DREB_HOME', 'REB_HOME', 'AST_HOME', 'STL_HOME',\n",
    "       'BLK_HOME', 'TOV_HOME', 'PTS_HOME', 'PLUS_MINUS_HOME', 'PTS_PAINT_HOME',\n",
    "       'PTS_2ND_CHANCE_HOME', 'PTS_FB_HOME', 'LARGEST_LEAD_HOME',\n",
    "       'LEAD_CHANGES_HOME', 'TIMES_TIED_HOME', 'TOTAL_TURNOVERS_HOME',\n",
    "       'LAST_GAME_HOME_TEAM_POINTS', 'away_team', 'FGM_AWAY',\n",
    "       'FGA_AWAY', 'FG_PCT_AWAY', 'FG3M_AWAY', 'FG3A_AWAY', 'FG3_PCT_AWAY',\n",
    "       'FTM_AWAY', 'FTA_AWAY', 'FT_PCT_AWAY', 'OREB_AWAY', 'DREB_AWAY',\n",
    "       'REB_AWAY', 'AST_HOME', 'AST_AWAY', 'STL_AWAY', 'BLK_AWAY', 'TOV_AWAY', 'PTS_AWAY',\n",
    "       'PLUS_MINUS_AWAY', 'PTS_PAINT_AWAY', 'PTS_2ND_CHANCE_AWAY',\n",
    "       'PTS_FB_AWAY', 'LARGEST_LEAD_AWAY', 'LEAD_CHANGES_AWAY',\n",
    "       'TIMES_TIED_AWAY', 'TOTAL_TURNOVERS_AWAY',\n",
    "       'LAST_GAME_VISITOR_TEAM_POINTS',  'PTS_FB_HOME', 'PTS_OFF_TO_HOME',\n",
    "       'PTS_OFF_TO_AWAY', 'PTS_FB_AWAY', 'PF_HOME', 'PF_AWAY', 'TEAM_TURNOVERS_AWAY', 'TEAM_TURNOVERS_HOME',\n",
    "       'TEAM_REBOUNDS_HOME', 'TEAM_REBOUNDS_AWAY'])\n"
   ]
  },
  {
   "cell_type": "markdown",
   "metadata": {},
   "source": [
    "### Fill NA Values with mean for the column"
   ]
  },
  {
   "cell_type": "markdown",
   "metadata": {},
   "source": [
    "These nulls are the result of newly formed teams playing each opponent for the first time, meaning there is no data for previous matchup stats. These will be replaced with the avg value for each stat."
   ]
  },
  {
   "cell_type": "code",
   "execution_count": 47,
   "metadata": {},
   "outputs": [
    {
     "name": "stdout",
     "output_type": "stream",
     "text": [
      "SERIES_LEADER\n",
      "FGM_team1\n",
      "FGA_team1\n",
      "FG_PCT_team1\n",
      "FG3M_team1\n",
      "FG3A_team1\n",
      "FG3_PCT_team1\n",
      "FTM_team1\n",
      "FTA_team1\n",
      "FT_PCT_team1\n",
      "OREB_team1\n",
      "DREB_team1\n",
      "REB_team1\n",
      "AST_team1\n",
      "STL_team1\n",
      "BLK_team1\n",
      "TOV_team1\n",
      "PF_team1\n",
      "PTS_team1\n",
      "PLUS_MINUS_team1\n",
      "PTS_PAINT_team1\n",
      "PTS_2ND_CHANCE_team1\n",
      "PTS_FB_team1\n",
      "LARGEST_LEAD_team1\n",
      "LEAD_CHANGES_team1\n",
      "TIMES_TIED_team1\n",
      "TEAM_TURNOVERS_team1\n",
      "TOTAL_TURNOVERS_team1\n",
      "TEAM_REBOUNDS_team1\n",
      "PTS_OFF_TO_team1\n",
      "LAST_GAME_POINTS_team1\n",
      "FGM_team2\n",
      "FGA_team2\n",
      "FG_PCT_team2\n",
      "FG3M_team2\n",
      "FG3A_team2\n",
      "FG3_PCT_team2\n",
      "FTM_team2\n",
      "FTA_team2\n",
      "FT_PCT_team2\n",
      "OREB_team2\n",
      "DREB_team2\n",
      "REB_team2\n",
      "AST_team2\n",
      "STL_team2\n",
      "BLK_team2\n",
      "TOV_team2\n",
      "PF_team2\n",
      "PTS_team2\n",
      "PLUS_MINUS_team2\n",
      "PTS_PAINT_team2\n",
      "PTS_2ND_CHANCE_team2\n",
      "PTS_FB_team2\n",
      "LARGEST_LEAD_team2\n",
      "LEAD_CHANGES_team2\n",
      "TIMES_TIED_team2\n",
      "TEAM_TURNOVERS_team2\n",
      "TOTAL_TURNOVERS_team2\n",
      "TEAM_REBOUNDS_team2\n",
      "LAST_GAME_POINTS_team2\n",
      "PTS_OFF_TO_team2\n"
     ]
    }
   ],
   "source": [
    "# Find columns with NA values\n",
    "for i in df_full.columns:\n",
    "    empty = df_full[i].isna().sum()\n",
    "    if empty != 0:\n",
    "        print(i)"
   ]
  },
  {
   "cell_type": "code",
   "execution_count": 48,
   "metadata": {},
   "outputs": [],
   "source": [
    "cols_with_nulls = [\"FGM_team1\", \"FGA_team1\", \"FG_PCT_team1\", \"FG3M_team1\",\n",
    "                   \"FG3A_team1\", \"FG3_PCT_team1\", \"FTM_team1\", \"FTA_team1\", \"FT_PCT_team1\",\n",
    "                   \"OREB_team1\", \"DREB_team1\", \"REB_team1\", \"AST_team1\", \"STL_team1\", \"BLK_team1\",\n",
    "                   \"TOV_team1\", \"PF_team1\", \"PTS_team1\", \"PLUS_MINUS_team1\", \"PTS_PAINT_team1\",\n",
    "                   \"PTS_2ND_CHANCE_team1\", \"PTS_FB_team1\", \"LARGEST_LEAD_team1\", \"LEAD_CHANGES_team1\",\n",
    "                   \"TIMES_TIED_team1\", \"TEAM_TURNOVERS_team1\", \"TOTAL_TURNOVERS_team1\",\n",
    "                   \"TEAM_REBOUNDS_team1\", \"PTS_OFF_TO_team1\", \"LAST_GAME_POINTS_team1\",\n",
    "                   \"FGM_team2\", \"FGA_team2\", \"FG_PCT_team2\", \"FG3M_team2\", \"FG3A_team2\",\n",
    "                   \"FG3_PCT_team2\", \"FTM_team2\", \"FTA_team2\", \"FT_PCT_team2\", \"OREB_team2\",\n",
    "                   \"DREB_team2\", \"REB_team2\", \"AST_team2\", \"STL_team2\", \"BLK_team2\", \"TOV_team2\",\n",
    "                   \"PF_team2\", \"PTS_team2\", \"PLUS_MINUS_team2\", \"PTS_PAINT_team2\", \"PTS_2ND_CHANCE_team2\",\n",
    "                   \"PTS_FB_team2\", \"LARGEST_LEAD_team2\", \"LEAD_CHANGES_team2\", \"TIMES_TIED_team2\",\n",
    "                   \"TEAM_TURNOVERS_team2\", \"TOTAL_TURNOVERS_team2\", \"TEAM_REBOUNDS_team2\",\n",
    "                   \"LAST_GAME_POINTS_team2\", \"PTS_OFF_TO_team2\"]\n",
    "\n",
    "for col in cols_with_nulls:\n",
    "    df_full[col].fillna((df_full[col].astype('float').mean()), inplace=True)"
   ]
  },
  {
   "cell_type": "markdown",
   "metadata": {},
   "source": [
    "### Set Series Leader Data"
   ]
  },
  {
   "cell_type": "code",
   "execution_count": 49,
   "metadata": {},
   "outputs": [],
   "source": [
    "df_full['team1_leads_series'] = np.where(df_full.SERIES_LEADER == df_full.team1, 1, 0)\n",
    "df_full['team2_leads_series'] = np.where(df_full.SERIES_LEADER == df_full.team2, 1, 0)\n",
    "df_full['tied_series'] = np.where((df_full.SERIES_LEADER == 'Tied') | (df_full.SERIES_LEADER.isna()), 1, 0)\n",
    "df_full_f2 = df_full.drop(columns='SERIES_LEADER')"
   ]
  },
  {
   "cell_type": "markdown",
   "metadata": {},
   "source": [
    "## Make each row its own game"
   ]
  },
  {
   "cell_type": "code",
   "execution_count": 50,
   "metadata": {},
   "outputs": [],
   "source": [
    "# Prepare df thats already correctly labeled\n",
    "df_home = df_full_f2.copy()\n",
    "df_home['home_game'] = 1\n",
    "df_home['outcome']=df_home['team1_win']\n",
    "df_home.drop(columns=['team1_win'], inplace=True)\n",
    "\n",
    "# Prepare df where away team needs to be tranformed into team1\n",
    "df_away = df_full_f2.copy()\n",
    "df_away['home_game'] = 0\n",
    "df_away['outcome']=np.where(df_away['team1_win']==1, 0, 1)\n",
    "df_away.drop(columns=['team1_win'], inplace=True)\n",
    "\n",
    "# Rename columns for away team, switching team1 and team2\n",
    "cols_to_rename = ['team1', 'team2', 'elo1_pre', 'elo2_pre',\n",
    "       'G_team1', 'W_team1', 'L_team1', 'W_PCT_team1', 'home_wins_team1',\n",
    "       'home_losses_team1', 'away_wins_team1', 'away_losses_team1', 'G_team2',\n",
    "       'W_team2', 'L_team2', 'W_PCT_team2', 'home_wins_team2',\n",
    "       'home_losses_team2', 'away_wins_team2', 'away_losses_team2', 'AST_AWAY',\n",
    "       'pgame_team1_home', 'FGM_team1', 'FGA_team1', 'FG_PCT_team1',\n",
    "       'FG3M_team1', 'FG3A_team1', 'FG3_PCT_team1', 'FTM_team1', 'FTA_team1',\n",
    "       'FT_PCT_team1', 'OREB_team1', 'DREB_team1', 'REB_team1', 'AST_team1',\n",
    "       'STL_team1', 'BLK_team1', 'TOV_team1', 'PF_team1', 'PTS_team1',\n",
    "       'PLUS_MINUS_team1', 'PTS_PAINT_team1',\n",
    "       'PTS_FB_team1', 'LARGEST_LEAD_team1', 'LEAD_CHANGES_team1',\n",
    "       'TIMES_TIED_team1', 'TEAM_TURNOVERS_team1', 'TOTAL_TURNOVERS_team1',\n",
    "       'TEAM_REBOUNDS_team1', 'PTS_OFF_TO_team1', 'LAST_GAME_POINTS_team1',\n",
    "       'FGM_team2', 'FGA_team2', 'FG_PCT_team2', 'FG3M_team2', 'FG3A_team2',\n",
    "       'FG3_PCT_team2', 'FTM_team2', 'FTA_team2', 'FT_PCT_team2', 'OREB_team2',\n",
    "       'DREB_team2', 'REB_team2', 'AST_team2', 'STL_team2', 'BLK_team2',\n",
    "       'TOV_team2', 'PF_team2', 'PTS_team2', 'PLUS_MINUS_team2',\n",
    "       'PTS_PAINT_team2', 'PTS_FB_team2', 'pgame_team2_home',\n",
    "       'LARGEST_LEAD_team2', 'LEAD_CHANGES_team2', 'TIMES_TIED_team2',\n",
    "       'TEAM_TURNOVERS_team2', 'TOTAL_TURNOVERS_team2', 'TEAM_REBOUNDS_team2',\n",
    "       'LAST_GAME_POINTS_team2', 'PTS_OFF_TO_team2', 'team1_leads_series',\n",
    "       'team2_leads_series', 'tied_series', 'no_series_data']\n",
    "\n",
    "# Initialize dictionary to rename away team columns\n",
    "dict_for_renaming = {'PTS_2ND_CHANCE_team1': 'PTS_2ND_CHANCE_team2',\n",
    "                     'PTS_2ND_CHANCE_team2': 'PTS_2ND_CHANCE_team1'}\n",
    "\n",
    "# Fill dictionary with column name replacements\n",
    "for col in cols_to_rename:\n",
    "       if \"1\" in col:\n",
    "              new_col_name = col.replace(\"1\", \"2\")\n",
    "       else:\n",
    "              new_col_name=col.replace(\"2\",\"1\")\n",
    "       dict_for_renaming[col] = new_col_name\n",
    "\n",
    "# Rename columns\n",
    "df_away.rename(columns=dict_for_renaming, inplace=True)"
   ]
  },
  {
   "cell_type": "code",
   "execution_count": 51,
   "metadata": {},
   "outputs": [],
   "source": [
    "# Combine away and home team dfs\n",
    "df_full_f3 = pd.concat([df_home, df_away])"
   ]
  },
  {
   "cell_type": "code",
   "execution_count": 52,
   "metadata": {},
   "outputs": [
    {
     "data": {
      "text/html": [
       "<div>\n",
       "<style scoped>\n",
       "    .dataframe tbody tr th:only-of-type {\n",
       "        vertical-align: middle;\n",
       "    }\n",
       "\n",
       "    .dataframe tbody tr th {\n",
       "        vertical-align: top;\n",
       "    }\n",
       "\n",
       "    .dataframe thead th {\n",
       "        text-align: right;\n",
       "    }\n",
       "</style>\n",
       "<table border=\"1\" class=\"dataframe\">\n",
       "  <thead>\n",
       "    <tr style=\"text-align: right;\">\n",
       "      <th></th>\n",
       "      <th>date</th>\n",
       "      <th>season</th>\n",
       "      <th>team1</th>\n",
       "      <th>team2</th>\n",
       "      <th>elo1_pre</th>\n",
       "      <th>elo2_pre</th>\n",
       "      <th>G_team1</th>\n",
       "      <th>W_team1</th>\n",
       "      <th>L_team1</th>\n",
       "      <th>W_PCT_team1</th>\n",
       "      <th>...</th>\n",
       "      <th>TEAM_TURNOVERS_team2</th>\n",
       "      <th>TOTAL_TURNOVERS_team2</th>\n",
       "      <th>TEAM_REBOUNDS_team2</th>\n",
       "      <th>LAST_GAME_POINTS_team2</th>\n",
       "      <th>PTS_OFF_TO_team2</th>\n",
       "      <th>team1_leads_series</th>\n",
       "      <th>team2_leads_series</th>\n",
       "      <th>tied_series</th>\n",
       "      <th>home_game</th>\n",
       "      <th>outcome</th>\n",
       "    </tr>\n",
       "  </thead>\n",
       "  <tbody>\n",
       "    <tr>\n",
       "      <th>0</th>\n",
       "      <td>2008-10-28</td>\n",
       "      <td>2009</td>\n",
       "      <td>LAL</td>\n",
       "      <td>POR</td>\n",
       "      <td>1651.711700</td>\n",
       "      <td>1472.948000</td>\n",
       "      <td>8</td>\n",
       "      <td>6</td>\n",
       "      <td>2</td>\n",
       "      <td>0.750</td>\n",
       "      <td>...</td>\n",
       "      <td>0</td>\n",
       "      <td>13</td>\n",
       "      <td>9</td>\n",
       "      <td>91</td>\n",
       "      <td>19</td>\n",
       "      <td>0</td>\n",
       "      <td>0</td>\n",
       "      <td>1</td>\n",
       "      <td>1</td>\n",
       "      <td>1</td>\n",
       "    </tr>\n",
       "    <tr>\n",
       "      <th>0</th>\n",
       "      <td>2008-10-28</td>\n",
       "      <td>2009</td>\n",
       "      <td>POR</td>\n",
       "      <td>LAL</td>\n",
       "      <td>1472.948000</td>\n",
       "      <td>1651.711700</td>\n",
       "      <td>7</td>\n",
       "      <td>4</td>\n",
       "      <td>3</td>\n",
       "      <td>0.571</td>\n",
       "      <td>...</td>\n",
       "      <td>0</td>\n",
       "      <td>11</td>\n",
       "      <td>7</td>\n",
       "      <td>104</td>\n",
       "      <td>11</td>\n",
       "      <td>0</td>\n",
       "      <td>0</td>\n",
       "      <td>1</td>\n",
       "      <td>0</td>\n",
       "      <td>0</td>\n",
       "    </tr>\n",
       "    <tr>\n",
       "      <th>1</th>\n",
       "      <td>2008-10-28</td>\n",
       "      <td>2009</td>\n",
       "      <td>CHI</td>\n",
       "      <td>MIL</td>\n",
       "      <td>1450.129900</td>\n",
       "      <td>1335.413700</td>\n",
       "      <td>8</td>\n",
       "      <td>4</td>\n",
       "      <td>4</td>\n",
       "      <td>0.500</td>\n",
       "      <td>...</td>\n",
       "      <td>0</td>\n",
       "      <td>14</td>\n",
       "      <td>8</td>\n",
       "      <td>111</td>\n",
       "      <td>20</td>\n",
       "      <td>1</td>\n",
       "      <td>0</td>\n",
       "      <td>0</td>\n",
       "      <td>1</td>\n",
       "      <td>1</td>\n",
       "    </tr>\n",
       "    <tr>\n",
       "      <th>1</th>\n",
       "      <td>2008-10-28</td>\n",
       "      <td>2009</td>\n",
       "      <td>MIL</td>\n",
       "      <td>CHI</td>\n",
       "      <td>1335.413700</td>\n",
       "      <td>1450.129900</td>\n",
       "      <td>8</td>\n",
       "      <td>1</td>\n",
       "      <td>7</td>\n",
       "      <td>0.125</td>\n",
       "      <td>...</td>\n",
       "      <td>0</td>\n",
       "      <td>10</td>\n",
       "      <td>3</td>\n",
       "      <td>114</td>\n",
       "      <td>13</td>\n",
       "      <td>0</td>\n",
       "      <td>1</td>\n",
       "      <td>0</td>\n",
       "      <td>0</td>\n",
       "      <td>0</td>\n",
       "    </tr>\n",
       "    <tr>\n",
       "      <th>2</th>\n",
       "      <td>2008-10-28</td>\n",
       "      <td>2009</td>\n",
       "      <td>BOS</td>\n",
       "      <td>CLE</td>\n",
       "      <td>1667.496300</td>\n",
       "      <td>1547.757300</td>\n",
       "      <td>8</td>\n",
       "      <td>6</td>\n",
       "      <td>2</td>\n",
       "      <td>0.750</td>\n",
       "      <td>...</td>\n",
       "      <td>2</td>\n",
       "      <td>17</td>\n",
       "      <td>7</td>\n",
       "      <td>114</td>\n",
       "      <td>21</td>\n",
       "      <td>0</td>\n",
       "      <td>0</td>\n",
       "      <td>1</td>\n",
       "      <td>1</td>\n",
       "      <td>1</td>\n",
       "    </tr>\n",
       "    <tr>\n",
       "      <th>...</th>\n",
       "      <td>...</td>\n",
       "      <td>...</td>\n",
       "      <td>...</td>\n",
       "      <td>...</td>\n",
       "      <td>...</td>\n",
       "      <td>...</td>\n",
       "      <td>...</td>\n",
       "      <td>...</td>\n",
       "      <td>...</td>\n",
       "      <td>...</td>\n",
       "      <td>...</td>\n",
       "      <td>...</td>\n",
       "      <td>...</td>\n",
       "      <td>...</td>\n",
       "      <td>...</td>\n",
       "      <td>...</td>\n",
       "      <td>...</td>\n",
       "      <td>...</td>\n",
       "      <td>...</td>\n",
       "      <td>...</td>\n",
       "      <td>...</td>\n",
       "    </tr>\n",
       "    <tr>\n",
       "      <th>13286</th>\n",
       "      <td>2019-04-10</td>\n",
       "      <td>2019</td>\n",
       "      <td>POR</td>\n",
       "      <td>SAC</td>\n",
       "      <td>1662.137027</td>\n",
       "      <td>1457.489816</td>\n",
       "      <td>81</td>\n",
       "      <td>52</td>\n",
       "      <td>29</td>\n",
       "      <td>0.642</td>\n",
       "      <td>...</td>\n",
       "      <td>0</td>\n",
       "      <td>13</td>\n",
       "      <td>9</td>\n",
       "      <td>108</td>\n",
       "      <td>14</td>\n",
       "      <td>1</td>\n",
       "      <td>0</td>\n",
       "      <td>0</td>\n",
       "      <td>1</td>\n",
       "      <td>1</td>\n",
       "    </tr>\n",
       "    <tr>\n",
       "      <th>13287</th>\n",
       "      <td>2019-04-10</td>\n",
       "      <td>2019</td>\n",
       "      <td>UTA</td>\n",
       "      <td>LAC</td>\n",
       "      <td>1645.361255</td>\n",
       "      <td>1534.789243</td>\n",
       "      <td>81</td>\n",
       "      <td>50</td>\n",
       "      <td>31</td>\n",
       "      <td>0.617</td>\n",
       "      <td>...</td>\n",
       "      <td>1</td>\n",
       "      <td>11</td>\n",
       "      <td>9</td>\n",
       "      <td>109</td>\n",
       "      <td>13</td>\n",
       "      <td>1</td>\n",
       "      <td>0</td>\n",
       "      <td>0</td>\n",
       "      <td>0</td>\n",
       "      <td>0</td>\n",
       "    </tr>\n",
       "    <tr>\n",
       "      <th>13287</th>\n",
       "      <td>2019-04-10</td>\n",
       "      <td>2019</td>\n",
       "      <td>LAC</td>\n",
       "      <td>UTA</td>\n",
       "      <td>1534.789243</td>\n",
       "      <td>1645.361255</td>\n",
       "      <td>81</td>\n",
       "      <td>47</td>\n",
       "      <td>34</td>\n",
       "      <td>0.580</td>\n",
       "      <td>...</td>\n",
       "      <td>0</td>\n",
       "      <td>16</td>\n",
       "      <td>11</td>\n",
       "      <td>129</td>\n",
       "      <td>19</td>\n",
       "      <td>0</td>\n",
       "      <td>1</td>\n",
       "      <td>0</td>\n",
       "      <td>1</td>\n",
       "      <td>1</td>\n",
       "    </tr>\n",
       "    <tr>\n",
       "      <th>13288</th>\n",
       "      <td>2019-04-10</td>\n",
       "      <td>2019</td>\n",
       "      <td>DEN</td>\n",
       "      <td>MIN</td>\n",
       "      <td>1593.232887</td>\n",
       "      <td>1454.360385</td>\n",
       "      <td>81</td>\n",
       "      <td>53</td>\n",
       "      <td>28</td>\n",
       "      <td>0.654</td>\n",
       "      <td>...</td>\n",
       "      <td>1</td>\n",
       "      <td>15</td>\n",
       "      <td>4</td>\n",
       "      <td>106</td>\n",
       "      <td>20</td>\n",
       "      <td>1</td>\n",
       "      <td>0</td>\n",
       "      <td>0</td>\n",
       "      <td>1</td>\n",
       "      <td>1</td>\n",
       "    </tr>\n",
       "    <tr>\n",
       "      <th>13288</th>\n",
       "      <td>2019-04-10</td>\n",
       "      <td>2019</td>\n",
       "      <td>MIN</td>\n",
       "      <td>DEN</td>\n",
       "      <td>1454.360385</td>\n",
       "      <td>1593.232887</td>\n",
       "      <td>81</td>\n",
       "      <td>36</td>\n",
       "      <td>45</td>\n",
       "      <td>0.444</td>\n",
       "      <td>...</td>\n",
       "      <td>0</td>\n",
       "      <td>14</td>\n",
       "      <td>9</td>\n",
       "      <td>107</td>\n",
       "      <td>18</td>\n",
       "      <td>0</td>\n",
       "      <td>1</td>\n",
       "      <td>0</td>\n",
       "      <td>0</td>\n",
       "      <td>0</td>\n",
       "    </tr>\n",
       "  </tbody>\n",
       "</table>\n",
       "<p>26578 rows × 89 columns</p>\n",
       "</div>"
      ],
      "text/plain": [
       "             date  season team1 team2     elo1_pre     elo2_pre  G_team1  \\\n",
       "0      2008-10-28    2009   LAL   POR  1651.711700  1472.948000        8   \n",
       "0      2008-10-28    2009   POR   LAL  1472.948000  1651.711700        7   \n",
       "1      2008-10-28    2009   CHI   MIL  1450.129900  1335.413700        8   \n",
       "1      2008-10-28    2009   MIL   CHI  1335.413700  1450.129900        8   \n",
       "2      2008-10-28    2009   BOS   CLE  1667.496300  1547.757300        8   \n",
       "...           ...     ...   ...   ...          ...          ...      ...   \n",
       "13286  2019-04-10    2019   POR   SAC  1662.137027  1457.489816       81   \n",
       "13287  2019-04-10    2019   UTA   LAC  1645.361255  1534.789243       81   \n",
       "13287  2019-04-10    2019   LAC   UTA  1534.789243  1645.361255       81   \n",
       "13288  2019-04-10    2019   DEN   MIN  1593.232887  1454.360385       81   \n",
       "13288  2019-04-10    2019   MIN   DEN  1454.360385  1593.232887       81   \n",
       "\n",
       "       W_team1  L_team1  W_PCT_team1  ... TEAM_TURNOVERS_team2  \\\n",
       "0            6        2        0.750  ...                    0   \n",
       "0            4        3        0.571  ...                    0   \n",
       "1            4        4        0.500  ...                    0   \n",
       "1            1        7        0.125  ...                    0   \n",
       "2            6        2        0.750  ...                    2   \n",
       "...        ...      ...          ...  ...                  ...   \n",
       "13286       52       29        0.642  ...                    0   \n",
       "13287       50       31        0.617  ...                    1   \n",
       "13287       47       34        0.580  ...                    0   \n",
       "13288       53       28        0.654  ...                    1   \n",
       "13288       36       45        0.444  ...                    0   \n",
       "\n",
       "      TOTAL_TURNOVERS_team2 TEAM_REBOUNDS_team2 LAST_GAME_POINTS_team2  \\\n",
       "0                        13                   9                     91   \n",
       "0                        11                   7                    104   \n",
       "1                        14                   8                    111   \n",
       "1                        10                   3                    114   \n",
       "2                        17                   7                    114   \n",
       "...                     ...                 ...                    ...   \n",
       "13286                    13                   9                    108   \n",
       "13287                    11                   9                    109   \n",
       "13287                    16                  11                    129   \n",
       "13288                    15                   4                    106   \n",
       "13288                    14                   9                    107   \n",
       "\n",
       "       PTS_OFF_TO_team2  team1_leads_series  team2_leads_series  tied_series  \\\n",
       "0                    19                   0                   0            1   \n",
       "0                    11                   0                   0            1   \n",
       "1                    20                   1                   0            0   \n",
       "1                    13                   0                   1            0   \n",
       "2                    21                   0                   0            1   \n",
       "...                 ...                 ...                 ...          ...   \n",
       "13286                14                   1                   0            0   \n",
       "13287                13                   1                   0            0   \n",
       "13287                19                   0                   1            0   \n",
       "13288                20                   1                   0            0   \n",
       "13288                18                   0                   1            0   \n",
       "\n",
       "      home_game outcome  \n",
       "0             1       1  \n",
       "0             0       0  \n",
       "1             1       1  \n",
       "1             0       0  \n",
       "2             1       1  \n",
       "...         ...     ...  \n",
       "13286         1       1  \n",
       "13287         0       0  \n",
       "13287         1       1  \n",
       "13288         1       1  \n",
       "13288         0       0  \n",
       "\n",
       "[26578 rows x 89 columns]"
      ]
     },
     "execution_count": 52,
     "metadata": {},
     "output_type": "execute_result"
    }
   ],
   "source": [
    "# Eye check values were swapped correctly\n",
    "df_full_f3.sort_index()"
   ]
  },
  {
   "cell_type": "code",
   "execution_count": 53,
   "metadata": {},
   "outputs": [
    {
     "data": {
      "text/plain": [
       "0.5"
      ]
     },
     "execution_count": 53,
     "metadata": {},
     "output_type": "execute_result"
    }
   ],
   "source": [
    "# Check outcomes are exactly 0.5\n",
    "df_full_f3.outcome.mean()"
   ]
  },
  {
   "cell_type": "markdown",
   "metadata": {},
   "source": [
    "## Feature Engineering Last10 Columns"
   ]
  },
  {
   "cell_type": "code",
   "execution_count": 54,
   "metadata": {},
   "outputs": [],
   "source": [
    "df_full_f4 = df_full_f3.copy()\n",
    "df_full_f4['l10_key'] = np.where(df_full_f4.G_team1 <= 10,\n",
    "                                df_full_f4.team1+df_full_f4.season.astype('str')+df_full_f4.G_team1.astype('str'),\n",
    "                                df_full_f4.team1+df_full_f4.season.astype('str')+(df_full_f4.G_team1-10).astype('str'))\n",
    "\n",
    "# Make DF of just last 10 info\n",
    "df_l10_t1 = df_full_f4[['season', 'team1', 'G_team1', 'W_team1', 'L_team1']]\n",
    "df_l10_t1['l10_key'] = df_l10_t1.team1+df_l10_t1.season.astype('str')+df_l10_t1.G_team1.astype('str')\n",
    "df_l10_t1.drop(columns=['season', 'team1', 'G_team1'], inplace=True)"
   ]
  },
  {
   "cell_type": "code",
   "execution_count": 55,
   "metadata": {},
   "outputs": [],
   "source": [
    "df_l10_t1 = df_full_f4[['season', 'team1', 'G_team1', 'W_team1', 'L_team1']]\n",
    "df_l10_t1['l10_key'] = df_l10_t1.team1+df_l10_t1.season.astype('str')+df_l10_t1.G_team1.astype('str')\n",
    "df_l10_t1.drop(columns=['season', 'team1', 'G_team1'], inplace=True)\n",
    "df_l10_t1.drop_duplicates(subset='l10_key', inplace=True)"
   ]
  },
  {
   "cell_type": "code",
   "execution_count": 56,
   "metadata": {},
   "outputs": [],
   "source": [
    "df_full_f5 = df_full_f4.reset_index().merge(df_l10_t1, on='l10_key', how='left', suffixes=(\"\",\"_l10\")).set_index('index')\n",
    "df_full_f5.drop(columns=['l10_key'], inplace=True)"
   ]
  },
  {
   "cell_type": "code",
   "execution_count": 57,
   "metadata": {},
   "outputs": [
    {
     "data": {
      "text/html": [
       "<div>\n",
       "<style scoped>\n",
       "    .dataframe tbody tr th:only-of-type {\n",
       "        vertical-align: middle;\n",
       "    }\n",
       "\n",
       "    .dataframe tbody tr th {\n",
       "        vertical-align: top;\n",
       "    }\n",
       "\n",
       "    .dataframe thead th {\n",
       "        text-align: right;\n",
       "    }\n",
       "</style>\n",
       "<table border=\"1\" class=\"dataframe\">\n",
       "  <thead>\n",
       "    <tr style=\"text-align: right;\">\n",
       "      <th></th>\n",
       "      <th>date</th>\n",
       "      <th>season</th>\n",
       "      <th>team1</th>\n",
       "      <th>team2</th>\n",
       "      <th>elo1_pre</th>\n",
       "      <th>elo2_pre</th>\n",
       "      <th>G_team1</th>\n",
       "      <th>W_team1</th>\n",
       "      <th>L_team1</th>\n",
       "      <th>W_PCT_team1</th>\n",
       "      <th>...</th>\n",
       "      <th>TEAM_REBOUNDS_team2</th>\n",
       "      <th>LAST_GAME_POINTS_team2</th>\n",
       "      <th>PTS_OFF_TO_team2</th>\n",
       "      <th>team1_leads_series</th>\n",
       "      <th>team2_leads_series</th>\n",
       "      <th>tied_series</th>\n",
       "      <th>home_game</th>\n",
       "      <th>outcome</th>\n",
       "      <th>W_team1_l10</th>\n",
       "      <th>L_team1_l10</th>\n",
       "    </tr>\n",
       "    <tr>\n",
       "      <th>index</th>\n",
       "      <th></th>\n",
       "      <th></th>\n",
       "      <th></th>\n",
       "      <th></th>\n",
       "      <th></th>\n",
       "      <th></th>\n",
       "      <th></th>\n",
       "      <th></th>\n",
       "      <th></th>\n",
       "      <th></th>\n",
       "      <th></th>\n",
       "      <th></th>\n",
       "      <th></th>\n",
       "      <th></th>\n",
       "      <th></th>\n",
       "      <th></th>\n",
       "      <th></th>\n",
       "      <th></th>\n",
       "      <th></th>\n",
       "      <th></th>\n",
       "      <th></th>\n",
       "    </tr>\n",
       "  </thead>\n",
       "  <tbody>\n",
       "    <tr>\n",
       "      <th>0</th>\n",
       "      <td>2008-10-28</td>\n",
       "      <td>2009</td>\n",
       "      <td>LAL</td>\n",
       "      <td>POR</td>\n",
       "      <td>1651.711700</td>\n",
       "      <td>1472.948000</td>\n",
       "      <td>8</td>\n",
       "      <td>6</td>\n",
       "      <td>2</td>\n",
       "      <td>0.750</td>\n",
       "      <td>...</td>\n",
       "      <td>9</td>\n",
       "      <td>91</td>\n",
       "      <td>19</td>\n",
       "      <td>0</td>\n",
       "      <td>0</td>\n",
       "      <td>1</td>\n",
       "      <td>1</td>\n",
       "      <td>1</td>\n",
       "      <td>6</td>\n",
       "      <td>2</td>\n",
       "    </tr>\n",
       "    <tr>\n",
       "      <th>1</th>\n",
       "      <td>2008-10-28</td>\n",
       "      <td>2009</td>\n",
       "      <td>CHI</td>\n",
       "      <td>MIL</td>\n",
       "      <td>1450.129900</td>\n",
       "      <td>1335.413700</td>\n",
       "      <td>8</td>\n",
       "      <td>4</td>\n",
       "      <td>4</td>\n",
       "      <td>0.500</td>\n",
       "      <td>...</td>\n",
       "      <td>8</td>\n",
       "      <td>111</td>\n",
       "      <td>20</td>\n",
       "      <td>1</td>\n",
       "      <td>0</td>\n",
       "      <td>0</td>\n",
       "      <td>1</td>\n",
       "      <td>1</td>\n",
       "      <td>4</td>\n",
       "      <td>4</td>\n",
       "    </tr>\n",
       "    <tr>\n",
       "      <th>2</th>\n",
       "      <td>2008-10-28</td>\n",
       "      <td>2009</td>\n",
       "      <td>BOS</td>\n",
       "      <td>CLE</td>\n",
       "      <td>1667.496300</td>\n",
       "      <td>1547.757300</td>\n",
       "      <td>8</td>\n",
       "      <td>6</td>\n",
       "      <td>2</td>\n",
       "      <td>0.750</td>\n",
       "      <td>...</td>\n",
       "      <td>7</td>\n",
       "      <td>114</td>\n",
       "      <td>21</td>\n",
       "      <td>0</td>\n",
       "      <td>0</td>\n",
       "      <td>1</td>\n",
       "      <td>1</td>\n",
       "      <td>1</td>\n",
       "      <td>6</td>\n",
       "      <td>2</td>\n",
       "    </tr>\n",
       "    <tr>\n",
       "      <th>3</th>\n",
       "      <td>2008-10-29</td>\n",
       "      <td>2009</td>\n",
       "      <td>NYK</td>\n",
       "      <td>MIA</td>\n",
       "      <td>1359.444800</td>\n",
       "      <td>1320.188400</td>\n",
       "      <td>0</td>\n",
       "      <td>0</td>\n",
       "      <td>0</td>\n",
       "      <td>0.000</td>\n",
       "      <td>...</td>\n",
       "      <td>9</td>\n",
       "      <td>88</td>\n",
       "      <td>10</td>\n",
       "      <td>1</td>\n",
       "      <td>0</td>\n",
       "      <td>0</td>\n",
       "      <td>1</td>\n",
       "      <td>1</td>\n",
       "      <td>0</td>\n",
       "      <td>0</td>\n",
       "    </tr>\n",
       "    <tr>\n",
       "      <th>4</th>\n",
       "      <td>2008-10-29</td>\n",
       "      <td>2009</td>\n",
       "      <td>ORL</td>\n",
       "      <td>ATL</td>\n",
       "      <td>1590.575600</td>\n",
       "      <td>1479.320100</td>\n",
       "      <td>0</td>\n",
       "      <td>0</td>\n",
       "      <td>0</td>\n",
       "      <td>0.000</td>\n",
       "      <td>...</td>\n",
       "      <td>10</td>\n",
       "      <td>98</td>\n",
       "      <td>16</td>\n",
       "      <td>0</td>\n",
       "      <td>0</td>\n",
       "      <td>1</td>\n",
       "      <td>1</td>\n",
       "      <td>0</td>\n",
       "      <td>0</td>\n",
       "      <td>0</td>\n",
       "    </tr>\n",
       "    <tr>\n",
       "      <th>...</th>\n",
       "      <td>...</td>\n",
       "      <td>...</td>\n",
       "      <td>...</td>\n",
       "      <td>...</td>\n",
       "      <td>...</td>\n",
       "      <td>...</td>\n",
       "      <td>...</td>\n",
       "      <td>...</td>\n",
       "      <td>...</td>\n",
       "      <td>...</td>\n",
       "      <td>...</td>\n",
       "      <td>...</td>\n",
       "      <td>...</td>\n",
       "      <td>...</td>\n",
       "      <td>...</td>\n",
       "      <td>...</td>\n",
       "      <td>...</td>\n",
       "      <td>...</td>\n",
       "      <td>...</td>\n",
       "      <td>...</td>\n",
       "      <td>...</td>\n",
       "    </tr>\n",
       "    <tr>\n",
       "      <th>13284</th>\n",
       "      <td>2019-04-10</td>\n",
       "      <td>2019</td>\n",
       "      <td>IND</td>\n",
       "      <td>ATL</td>\n",
       "      <td>1534.416065</td>\n",
       "      <td>1399.474243</td>\n",
       "      <td>81</td>\n",
       "      <td>47</td>\n",
       "      <td>34</td>\n",
       "      <td>0.580</td>\n",
       "      <td>...</td>\n",
       "      <td>8</td>\n",
       "      <td>121</td>\n",
       "      <td>21</td>\n",
       "      <td>1</td>\n",
       "      <td>0</td>\n",
       "      <td>0</td>\n",
       "      <td>0</td>\n",
       "      <td>1</td>\n",
       "      <td>44</td>\n",
       "      <td>27</td>\n",
       "    </tr>\n",
       "    <tr>\n",
       "      <th>13285</th>\n",
       "      <td>2019-04-10</td>\n",
       "      <td>2019</td>\n",
       "      <td>DAL</td>\n",
       "      <td>SAS</td>\n",
       "      <td>1452.014364</td>\n",
       "      <td>1573.958831</td>\n",
       "      <td>81</td>\n",
       "      <td>33</td>\n",
       "      <td>48</td>\n",
       "      <td>0.407</td>\n",
       "      <td>...</td>\n",
       "      <td>6</td>\n",
       "      <td>105</td>\n",
       "      <td>12</td>\n",
       "      <td>0</td>\n",
       "      <td>1</td>\n",
       "      <td>0</td>\n",
       "      <td>0</td>\n",
       "      <td>0</td>\n",
       "      <td>28</td>\n",
       "      <td>43</td>\n",
       "    </tr>\n",
       "    <tr>\n",
       "      <th>13286</th>\n",
       "      <td>2019-04-10</td>\n",
       "      <td>2019</td>\n",
       "      <td>SAC</td>\n",
       "      <td>POR</td>\n",
       "      <td>1457.489816</td>\n",
       "      <td>1662.137027</td>\n",
       "      <td>81</td>\n",
       "      <td>39</td>\n",
       "      <td>42</td>\n",
       "      <td>0.481</td>\n",
       "      <td>...</td>\n",
       "      <td>4</td>\n",
       "      <td>113</td>\n",
       "      <td>12</td>\n",
       "      <td>0</td>\n",
       "      <td>1</td>\n",
       "      <td>0</td>\n",
       "      <td>0</td>\n",
       "      <td>0</td>\n",
       "      <td>35</td>\n",
       "      <td>36</td>\n",
       "    </tr>\n",
       "    <tr>\n",
       "      <th>13287</th>\n",
       "      <td>2019-04-10</td>\n",
       "      <td>2019</td>\n",
       "      <td>UTA</td>\n",
       "      <td>LAC</td>\n",
       "      <td>1645.361255</td>\n",
       "      <td>1534.789243</td>\n",
       "      <td>81</td>\n",
       "      <td>50</td>\n",
       "      <td>31</td>\n",
       "      <td>0.617</td>\n",
       "      <td>...</td>\n",
       "      <td>9</td>\n",
       "      <td>109</td>\n",
       "      <td>13</td>\n",
       "      <td>1</td>\n",
       "      <td>0</td>\n",
       "      <td>0</td>\n",
       "      <td>0</td>\n",
       "      <td>0</td>\n",
       "      <td>42</td>\n",
       "      <td>29</td>\n",
       "    </tr>\n",
       "    <tr>\n",
       "      <th>13288</th>\n",
       "      <td>2019-04-10</td>\n",
       "      <td>2019</td>\n",
       "      <td>MIN</td>\n",
       "      <td>DEN</td>\n",
       "      <td>1454.360385</td>\n",
       "      <td>1593.232887</td>\n",
       "      <td>81</td>\n",
       "      <td>36</td>\n",
       "      <td>45</td>\n",
       "      <td>0.444</td>\n",
       "      <td>...</td>\n",
       "      <td>9</td>\n",
       "      <td>107</td>\n",
       "      <td>18</td>\n",
       "      <td>0</td>\n",
       "      <td>1</td>\n",
       "      <td>0</td>\n",
       "      <td>0</td>\n",
       "      <td>0</td>\n",
       "      <td>32</td>\n",
       "      <td>39</td>\n",
       "    </tr>\n",
       "  </tbody>\n",
       "</table>\n",
       "<p>26578 rows × 91 columns</p>\n",
       "</div>"
      ],
      "text/plain": [
       "             date  season team1 team2     elo1_pre     elo2_pre  G_team1  \\\n",
       "index                                                                      \n",
       "0      2008-10-28    2009   LAL   POR  1651.711700  1472.948000        8   \n",
       "1      2008-10-28    2009   CHI   MIL  1450.129900  1335.413700        8   \n",
       "2      2008-10-28    2009   BOS   CLE  1667.496300  1547.757300        8   \n",
       "3      2008-10-29    2009   NYK   MIA  1359.444800  1320.188400        0   \n",
       "4      2008-10-29    2009   ORL   ATL  1590.575600  1479.320100        0   \n",
       "...           ...     ...   ...   ...          ...          ...      ...   \n",
       "13284  2019-04-10    2019   IND   ATL  1534.416065  1399.474243       81   \n",
       "13285  2019-04-10    2019   DAL   SAS  1452.014364  1573.958831       81   \n",
       "13286  2019-04-10    2019   SAC   POR  1457.489816  1662.137027       81   \n",
       "13287  2019-04-10    2019   UTA   LAC  1645.361255  1534.789243       81   \n",
       "13288  2019-04-10    2019   MIN   DEN  1454.360385  1593.232887       81   \n",
       "\n",
       "       W_team1  L_team1  W_PCT_team1  ... TEAM_REBOUNDS_team2  \\\n",
       "index                                 ...                       \n",
       "0            6        2        0.750  ...                   9   \n",
       "1            4        4        0.500  ...                   8   \n",
       "2            6        2        0.750  ...                   7   \n",
       "3            0        0        0.000  ...                   9   \n",
       "4            0        0        0.000  ...                  10   \n",
       "...        ...      ...          ...  ...                 ...   \n",
       "13284       47       34        0.580  ...                   8   \n",
       "13285       33       48        0.407  ...                   6   \n",
       "13286       39       42        0.481  ...                   4   \n",
       "13287       50       31        0.617  ...                   9   \n",
       "13288       36       45        0.444  ...                   9   \n",
       "\n",
       "      LAST_GAME_POINTS_team2 PTS_OFF_TO_team2 team1_leads_series  \\\n",
       "index                                                              \n",
       "0                         91               19                  0   \n",
       "1                        111               20                  1   \n",
       "2                        114               21                  0   \n",
       "3                         88               10                  1   \n",
       "4                         98               16                  0   \n",
       "...                      ...              ...                ...   \n",
       "13284                    121               21                  1   \n",
       "13285                    105               12                  0   \n",
       "13286                    113               12                  0   \n",
       "13287                    109               13                  1   \n",
       "13288                    107               18                  0   \n",
       "\n",
       "       team2_leads_series  tied_series  home_game  outcome W_team1_l10  \\\n",
       "index                                                                    \n",
       "0                       0            1          1        1           6   \n",
       "1                       0            0          1        1           4   \n",
       "2                       0            1          1        1           6   \n",
       "3                       0            0          1        1           0   \n",
       "4                       0            1          1        0           0   \n",
       "...                   ...          ...        ...      ...         ...   \n",
       "13284                   0            0          0        1          44   \n",
       "13285                   1            0          0        0          28   \n",
       "13286                   1            0          0        0          35   \n",
       "13287                   0            0          0        0          42   \n",
       "13288                   1            0          0        0          32   \n",
       "\n",
       "      L_team1_l10  \n",
       "index              \n",
       "0               2  \n",
       "1               4  \n",
       "2               2  \n",
       "3               0  \n",
       "4               0  \n",
       "...           ...  \n",
       "13284          27  \n",
       "13285          43  \n",
       "13286          36  \n",
       "13287          29  \n",
       "13288          39  \n",
       "\n",
       "[26578 rows x 91 columns]"
      ]
     },
     "execution_count": 57,
     "metadata": {},
     "output_type": "execute_result"
    }
   ],
   "source": [
    "df_full_f5"
   ]
  },
  {
   "cell_type": "code",
   "execution_count": 58,
   "metadata": {},
   "outputs": [],
   "source": [
    "# Consider adding opponent team l10\n",
    "# df_full_f5['l10_key'] = np.where(df_full_f5.G_team2 <= 10,\n",
    "#                                 df_full_f5.team2+df_full_f5.season.astype('str')+df_full_f5.G_team2.astype('str'),\n",
    "#                                 df_full_f5.team2+df_full_f5.season.astype('str')+(df_full_f5.G_team2).astype('str'))\n",
    "\n",
    "# # Make DF of just last 10 info\n",
    "# df_l10_t2 = df_full_f5[['season', 'team1', 'G_team1', 'W_team1', 'L_team1']]\n",
    "# df_l10_t2['l10_key'] = df_l10_t2.team1+df_l10_t2.season.astype('str')+df_l10_t2.G_team1.astype('str')\n",
    "# df_l10_t2.drop(columns=['season', 'team1', 'G_team1'], inplace=True)"
   ]
  },
  {
   "cell_type": "code",
   "execution_count": 59,
   "metadata": {},
   "outputs": [
    {
     "data": {
      "text/plain": [
       "0"
      ]
     },
     "execution_count": 59,
     "metadata": {},
     "output_type": "execute_result"
    }
   ],
   "source": [
    "df_full_f5.duplicated().sum()"
   ]
  },
  {
   "cell_type": "code",
   "execution_count": 60,
   "metadata": {},
   "outputs": [
    {
     "data": {
      "text/plain": [
       "Index(['date', 'season', 'team1', 'team2', 'elo1_pre', 'elo2_pre', 'G_team1',\n",
       "       'W_team1', 'L_team1', 'W_PCT_team1', 'home_wins_team1',\n",
       "       'home_losses_team1', 'away_wins_team1', 'away_losses_team1', 'G_team2',\n",
       "       'W_team2', 'L_team2', 'W_PCT_team2', 'home_wins_team2',\n",
       "       'home_losses_team2', 'away_wins_team2', 'away_losses_team2',\n",
       "       'pgame_team1_home', 'FGM_team1', 'FGA_team1', 'FG_PCT_team1',\n",
       "       'FG3M_team1', 'FG3A_team1', 'FG3_PCT_team1', 'FTM_team1', 'FTA_team1',\n",
       "       'FT_PCT_team1', 'OREB_team1', 'DREB_team1', 'REB_team1', 'AST_team1',\n",
       "       'STL_team1', 'BLK_team1', 'TOV_team1', 'PF_team1', 'PTS_team1',\n",
       "       'PLUS_MINUS_team1', 'PTS_PAINT_team1', 'PTS_2ND_CHANCE_team1',\n",
       "       'PTS_FB_team1', 'LARGEST_LEAD_team1', 'LEAD_CHANGES_team1',\n",
       "       'TIMES_TIED_team1', 'TEAM_TURNOVERS_team1', 'TOTAL_TURNOVERS_team1',\n",
       "       'TEAM_REBOUNDS_team1', 'PTS_OFF_TO_team1', 'LAST_GAME_POINTS_team1',\n",
       "       'pgame_team2_home', 'FGM_team2', 'FGA_team2', 'FG_PCT_team2',\n",
       "       'FG3M_team2', 'FG3A_team2', 'FG3_PCT_team2', 'FTM_team2', 'FTA_team2',\n",
       "       'FT_PCT_team2', 'OREB_team2', 'DREB_team2', 'REB_team2', 'AST_team2',\n",
       "       'STL_team2', 'BLK_team2', 'TOV_team2', 'PF_team2', 'PTS_team2',\n",
       "       'PLUS_MINUS_team2', 'PTS_PAINT_team2', 'PTS_2ND_CHANCE_team2',\n",
       "       'PTS_FB_team2', 'LARGEST_LEAD_team2', 'LEAD_CHANGES_team2',\n",
       "       'TIMES_TIED_team2', 'TEAM_TURNOVERS_team2', 'TOTAL_TURNOVERS_team2',\n",
       "       'TEAM_REBOUNDS_team2', 'LAST_GAME_POINTS_team2', 'PTS_OFF_TO_team2',\n",
       "       'team1_leads_series', 'team2_leads_series', 'tied_series', 'home_game',\n",
       "       'outcome', 'W_team1_l10', 'L_team1_l10'],\n",
       "      dtype='object')"
      ]
     },
     "execution_count": 60,
     "metadata": {},
     "output_type": "execute_result"
    }
   ],
   "source": [
    "df_full_f5.columns"
   ]
  },
  {
   "cell_type": "code",
   "execution_count": 61,
   "metadata": {},
   "outputs": [
    {
     "data": {
      "text/plain": [
       "index\n",
       "0         8\n",
       "1         8\n",
       "2         8\n",
       "3         0\n",
       "4         0\n",
       "         ..\n",
       "13284    81\n",
       "13285    81\n",
       "13286    81\n",
       "13287    81\n",
       "13288    81\n",
       "Name: G_team1, Length: 26578, dtype: int64"
      ]
     },
     "execution_count": 61,
     "metadata": {},
     "output_type": "execute_result"
    }
   ],
   "source": [
    "df_full_f5.G_team1"
   ]
  },
  {
   "cell_type": "code",
   "execution_count": 62,
   "metadata": {},
   "outputs": [
    {
     "data": {
      "text/html": [
       "<div>\n",
       "<style scoped>\n",
       "    .dataframe tbody tr th:only-of-type {\n",
       "        vertical-align: middle;\n",
       "    }\n",
       "\n",
       "    .dataframe tbody tr th {\n",
       "        vertical-align: top;\n",
       "    }\n",
       "\n",
       "    .dataframe thead th {\n",
       "        text-align: right;\n",
       "    }\n",
       "</style>\n",
       "<table border=\"1\" class=\"dataframe\">\n",
       "  <thead>\n",
       "    <tr style=\"text-align: right;\">\n",
       "      <th></th>\n",
       "      <th>date</th>\n",
       "      <th>season</th>\n",
       "      <th>team1</th>\n",
       "      <th>team2</th>\n",
       "      <th>elo1_pre</th>\n",
       "      <th>elo2_pre</th>\n",
       "      <th>G_team1</th>\n",
       "      <th>W_team1</th>\n",
       "      <th>L_team1</th>\n",
       "      <th>W_PCT_team1</th>\n",
       "      <th>...</th>\n",
       "      <th>TEAM_REBOUNDS_team2</th>\n",
       "      <th>LAST_GAME_POINTS_team2</th>\n",
       "      <th>PTS_OFF_TO_team2</th>\n",
       "      <th>team1_leads_series</th>\n",
       "      <th>team2_leads_series</th>\n",
       "      <th>tied_series</th>\n",
       "      <th>home_game</th>\n",
       "      <th>outcome</th>\n",
       "      <th>W_team1_l10</th>\n",
       "      <th>L_team1_l10</th>\n",
       "    </tr>\n",
       "    <tr>\n",
       "      <th>index</th>\n",
       "      <th></th>\n",
       "      <th></th>\n",
       "      <th></th>\n",
       "      <th></th>\n",
       "      <th></th>\n",
       "      <th></th>\n",
       "      <th></th>\n",
       "      <th></th>\n",
       "      <th></th>\n",
       "      <th></th>\n",
       "      <th></th>\n",
       "      <th></th>\n",
       "      <th></th>\n",
       "      <th></th>\n",
       "      <th></th>\n",
       "      <th></th>\n",
       "      <th></th>\n",
       "      <th></th>\n",
       "      <th></th>\n",
       "      <th></th>\n",
       "      <th></th>\n",
       "    </tr>\n",
       "  </thead>\n",
       "  <tbody>\n",
       "    <tr>\n",
       "      <th>0</th>\n",
       "      <td>2008-10-28</td>\n",
       "      <td>2009</td>\n",
       "      <td>LAL</td>\n",
       "      <td>POR</td>\n",
       "      <td>1651.711700</td>\n",
       "      <td>1472.948000</td>\n",
       "      <td>8</td>\n",
       "      <td>6</td>\n",
       "      <td>2</td>\n",
       "      <td>0.750</td>\n",
       "      <td>...</td>\n",
       "      <td>9</td>\n",
       "      <td>91</td>\n",
       "      <td>19</td>\n",
       "      <td>0</td>\n",
       "      <td>0</td>\n",
       "      <td>1</td>\n",
       "      <td>1</td>\n",
       "      <td>1</td>\n",
       "      <td>6</td>\n",
       "      <td>2</td>\n",
       "    </tr>\n",
       "    <tr>\n",
       "      <th>1</th>\n",
       "      <td>2008-10-28</td>\n",
       "      <td>2009</td>\n",
       "      <td>CHI</td>\n",
       "      <td>MIL</td>\n",
       "      <td>1450.129900</td>\n",
       "      <td>1335.413700</td>\n",
       "      <td>8</td>\n",
       "      <td>4</td>\n",
       "      <td>4</td>\n",
       "      <td>0.500</td>\n",
       "      <td>...</td>\n",
       "      <td>8</td>\n",
       "      <td>111</td>\n",
       "      <td>20</td>\n",
       "      <td>1</td>\n",
       "      <td>0</td>\n",
       "      <td>0</td>\n",
       "      <td>1</td>\n",
       "      <td>1</td>\n",
       "      <td>4</td>\n",
       "      <td>4</td>\n",
       "    </tr>\n",
       "    <tr>\n",
       "      <th>2</th>\n",
       "      <td>2008-10-28</td>\n",
       "      <td>2009</td>\n",
       "      <td>BOS</td>\n",
       "      <td>CLE</td>\n",
       "      <td>1667.496300</td>\n",
       "      <td>1547.757300</td>\n",
       "      <td>8</td>\n",
       "      <td>6</td>\n",
       "      <td>2</td>\n",
       "      <td>0.750</td>\n",
       "      <td>...</td>\n",
       "      <td>7</td>\n",
       "      <td>114</td>\n",
       "      <td>21</td>\n",
       "      <td>0</td>\n",
       "      <td>0</td>\n",
       "      <td>1</td>\n",
       "      <td>1</td>\n",
       "      <td>1</td>\n",
       "      <td>6</td>\n",
       "      <td>2</td>\n",
       "    </tr>\n",
       "    <tr>\n",
       "      <th>3</th>\n",
       "      <td>2008-10-29</td>\n",
       "      <td>2009</td>\n",
       "      <td>NYK</td>\n",
       "      <td>MIA</td>\n",
       "      <td>1359.444800</td>\n",
       "      <td>1320.188400</td>\n",
       "      <td>0</td>\n",
       "      <td>0</td>\n",
       "      <td>0</td>\n",
       "      <td>0.000</td>\n",
       "      <td>...</td>\n",
       "      <td>9</td>\n",
       "      <td>88</td>\n",
       "      <td>10</td>\n",
       "      <td>1</td>\n",
       "      <td>0</td>\n",
       "      <td>0</td>\n",
       "      <td>1</td>\n",
       "      <td>1</td>\n",
       "      <td>0</td>\n",
       "      <td>0</td>\n",
       "    </tr>\n",
       "    <tr>\n",
       "      <th>4</th>\n",
       "      <td>2008-10-29</td>\n",
       "      <td>2009</td>\n",
       "      <td>ORL</td>\n",
       "      <td>ATL</td>\n",
       "      <td>1590.575600</td>\n",
       "      <td>1479.320100</td>\n",
       "      <td>0</td>\n",
       "      <td>0</td>\n",
       "      <td>0</td>\n",
       "      <td>0.000</td>\n",
       "      <td>...</td>\n",
       "      <td>10</td>\n",
       "      <td>98</td>\n",
       "      <td>16</td>\n",
       "      <td>0</td>\n",
       "      <td>0</td>\n",
       "      <td>1</td>\n",
       "      <td>1</td>\n",
       "      <td>0</td>\n",
       "      <td>0</td>\n",
       "      <td>0</td>\n",
       "    </tr>\n",
       "    <tr>\n",
       "      <th>...</th>\n",
       "      <td>...</td>\n",
       "      <td>...</td>\n",
       "      <td>...</td>\n",
       "      <td>...</td>\n",
       "      <td>...</td>\n",
       "      <td>...</td>\n",
       "      <td>...</td>\n",
       "      <td>...</td>\n",
       "      <td>...</td>\n",
       "      <td>...</td>\n",
       "      <td>...</td>\n",
       "      <td>...</td>\n",
       "      <td>...</td>\n",
       "      <td>...</td>\n",
       "      <td>...</td>\n",
       "      <td>...</td>\n",
       "      <td>...</td>\n",
       "      <td>...</td>\n",
       "      <td>...</td>\n",
       "      <td>...</td>\n",
       "      <td>...</td>\n",
       "    </tr>\n",
       "    <tr>\n",
       "      <th>13284</th>\n",
       "      <td>2019-04-10</td>\n",
       "      <td>2019</td>\n",
       "      <td>IND</td>\n",
       "      <td>ATL</td>\n",
       "      <td>1534.416065</td>\n",
       "      <td>1399.474243</td>\n",
       "      <td>81</td>\n",
       "      <td>47</td>\n",
       "      <td>34</td>\n",
       "      <td>0.580</td>\n",
       "      <td>...</td>\n",
       "      <td>8</td>\n",
       "      <td>121</td>\n",
       "      <td>21</td>\n",
       "      <td>1</td>\n",
       "      <td>0</td>\n",
       "      <td>0</td>\n",
       "      <td>0</td>\n",
       "      <td>1</td>\n",
       "      <td>3</td>\n",
       "      <td>7</td>\n",
       "    </tr>\n",
       "    <tr>\n",
       "      <th>13285</th>\n",
       "      <td>2019-04-10</td>\n",
       "      <td>2019</td>\n",
       "      <td>DAL</td>\n",
       "      <td>SAS</td>\n",
       "      <td>1452.014364</td>\n",
       "      <td>1573.958831</td>\n",
       "      <td>81</td>\n",
       "      <td>33</td>\n",
       "      <td>48</td>\n",
       "      <td>0.407</td>\n",
       "      <td>...</td>\n",
       "      <td>6</td>\n",
       "      <td>105</td>\n",
       "      <td>12</td>\n",
       "      <td>0</td>\n",
       "      <td>1</td>\n",
       "      <td>0</td>\n",
       "      <td>0</td>\n",
       "      <td>0</td>\n",
       "      <td>5</td>\n",
       "      <td>5</td>\n",
       "    </tr>\n",
       "    <tr>\n",
       "      <th>13286</th>\n",
       "      <td>2019-04-10</td>\n",
       "      <td>2019</td>\n",
       "      <td>SAC</td>\n",
       "      <td>POR</td>\n",
       "      <td>1457.489816</td>\n",
       "      <td>1662.137027</td>\n",
       "      <td>81</td>\n",
       "      <td>39</td>\n",
       "      <td>42</td>\n",
       "      <td>0.481</td>\n",
       "      <td>...</td>\n",
       "      <td>4</td>\n",
       "      <td>113</td>\n",
       "      <td>12</td>\n",
       "      <td>0</td>\n",
       "      <td>1</td>\n",
       "      <td>0</td>\n",
       "      <td>0</td>\n",
       "      <td>0</td>\n",
       "      <td>4</td>\n",
       "      <td>6</td>\n",
       "    </tr>\n",
       "    <tr>\n",
       "      <th>13287</th>\n",
       "      <td>2019-04-10</td>\n",
       "      <td>2019</td>\n",
       "      <td>UTA</td>\n",
       "      <td>LAC</td>\n",
       "      <td>1645.361255</td>\n",
       "      <td>1534.789243</td>\n",
       "      <td>81</td>\n",
       "      <td>50</td>\n",
       "      <td>31</td>\n",
       "      <td>0.617</td>\n",
       "      <td>...</td>\n",
       "      <td>9</td>\n",
       "      <td>109</td>\n",
       "      <td>13</td>\n",
       "      <td>1</td>\n",
       "      <td>0</td>\n",
       "      <td>0</td>\n",
       "      <td>0</td>\n",
       "      <td>0</td>\n",
       "      <td>8</td>\n",
       "      <td>2</td>\n",
       "    </tr>\n",
       "    <tr>\n",
       "      <th>13288</th>\n",
       "      <td>2019-04-10</td>\n",
       "      <td>2019</td>\n",
       "      <td>MIN</td>\n",
       "      <td>DEN</td>\n",
       "      <td>1454.360385</td>\n",
       "      <td>1593.232887</td>\n",
       "      <td>81</td>\n",
       "      <td>36</td>\n",
       "      <td>45</td>\n",
       "      <td>0.444</td>\n",
       "      <td>...</td>\n",
       "      <td>9</td>\n",
       "      <td>107</td>\n",
       "      <td>18</td>\n",
       "      <td>0</td>\n",
       "      <td>1</td>\n",
       "      <td>0</td>\n",
       "      <td>0</td>\n",
       "      <td>0</td>\n",
       "      <td>4</td>\n",
       "      <td>6</td>\n",
       "    </tr>\n",
       "  </tbody>\n",
       "</table>\n",
       "<p>26578 rows × 91 columns</p>\n",
       "</div>"
      ],
      "text/plain": [
       "             date  season team1 team2     elo1_pre     elo2_pre  G_team1  \\\n",
       "index                                                                      \n",
       "0      2008-10-28    2009   LAL   POR  1651.711700  1472.948000        8   \n",
       "1      2008-10-28    2009   CHI   MIL  1450.129900  1335.413700        8   \n",
       "2      2008-10-28    2009   BOS   CLE  1667.496300  1547.757300        8   \n",
       "3      2008-10-29    2009   NYK   MIA  1359.444800  1320.188400        0   \n",
       "4      2008-10-29    2009   ORL   ATL  1590.575600  1479.320100        0   \n",
       "...           ...     ...   ...   ...          ...          ...      ...   \n",
       "13284  2019-04-10    2019   IND   ATL  1534.416065  1399.474243       81   \n",
       "13285  2019-04-10    2019   DAL   SAS  1452.014364  1573.958831       81   \n",
       "13286  2019-04-10    2019   SAC   POR  1457.489816  1662.137027       81   \n",
       "13287  2019-04-10    2019   UTA   LAC  1645.361255  1534.789243       81   \n",
       "13288  2019-04-10    2019   MIN   DEN  1454.360385  1593.232887       81   \n",
       "\n",
       "       W_team1  L_team1  W_PCT_team1  ... TEAM_REBOUNDS_team2  \\\n",
       "index                                 ...                       \n",
       "0            6        2        0.750  ...                   9   \n",
       "1            4        4        0.500  ...                   8   \n",
       "2            6        2        0.750  ...                   7   \n",
       "3            0        0        0.000  ...                   9   \n",
       "4            0        0        0.000  ...                  10   \n",
       "...        ...      ...          ...  ...                 ...   \n",
       "13284       47       34        0.580  ...                   8   \n",
       "13285       33       48        0.407  ...                   6   \n",
       "13286       39       42        0.481  ...                   4   \n",
       "13287       50       31        0.617  ...                   9   \n",
       "13288       36       45        0.444  ...                   9   \n",
       "\n",
       "      LAST_GAME_POINTS_team2 PTS_OFF_TO_team2 team1_leads_series  \\\n",
       "index                                                              \n",
       "0                         91               19                  0   \n",
       "1                        111               20                  1   \n",
       "2                        114               21                  0   \n",
       "3                         88               10                  1   \n",
       "4                         98               16                  0   \n",
       "...                      ...              ...                ...   \n",
       "13284                    121               21                  1   \n",
       "13285                    105               12                  0   \n",
       "13286                    113               12                  0   \n",
       "13287                    109               13                  1   \n",
       "13288                    107               18                  0   \n",
       "\n",
       "       team2_leads_series  tied_series  home_game  outcome W_team1_l10  \\\n",
       "index                                                                    \n",
       "0                       0            1          1        1           6   \n",
       "1                       0            0          1        1           4   \n",
       "2                       0            1          1        1           6   \n",
       "3                       0            0          1        1           0   \n",
       "4                       0            1          1        0           0   \n",
       "...                   ...          ...        ...      ...         ...   \n",
       "13284                   0            0          0        1           3   \n",
       "13285                   1            0          0        0           5   \n",
       "13286                   1            0          0        0           4   \n",
       "13287                   0            0          0        0           8   \n",
       "13288                   1            0          0        0           4   \n",
       "\n",
       "      L_team1_l10  \n",
       "index              \n",
       "0               2  \n",
       "1               4  \n",
       "2               2  \n",
       "3               0  \n",
       "4               0  \n",
       "...           ...  \n",
       "13284           7  \n",
       "13285           5  \n",
       "13286           6  \n",
       "13287           2  \n",
       "13288           6  \n",
       "\n",
       "[26578 rows x 91 columns]"
      ]
     },
     "execution_count": 62,
     "metadata": {},
     "output_type": "execute_result"
    }
   ],
   "source": [
    "df_full_f5['W_team1_l10'] = np.where(df_full_f5.G_team1 <= 10, \n",
    "                                     df_full_f5.W_team1,\n",
    "                                     (df_full_f5.W_team1 - df_full_f5.W_team1_l10))\n",
    "df_full_f5['L_team1_l10'] = np.where(df_full_f5.G_team1 <= 10, \n",
    "                                     df_full_f5.L_team1,\n",
    "                                     (df_full_f5.L_team1 - df_full_f5.L_team1_l10))\n",
    "df_full_f5"
   ]
  },
  {
   "cell_type": "markdown",
   "metadata": {},
   "source": [
    "## Final Data Set"
   ]
  },
  {
   "cell_type": "code",
   "execution_count": 63,
   "metadata": {},
   "outputs": [],
   "source": [
    "for col in df_full_f4.columns:\n",
    "    blanks = df_full_f4[col].isna().sum()\n",
    "    if blanks != 0:\n",
    "        print(col, blanks)"
   ]
  },
  {
   "cell_type": "code",
   "execution_count": 64,
   "metadata": {},
   "outputs": [],
   "source": [
    "# Drop Date column\n",
    "df_full_f6 = df_full_f5.drop(columns=['date'])"
   ]
  },
  {
   "cell_type": "code",
   "execution_count": 65,
   "metadata": {},
   "outputs": [
    {
     "data": {
      "text/plain": [
       "2009    2460\n",
       "2010    2460\n",
       "2011    2460\n",
       "2014    2460\n",
       "2015    2460\n",
       "2016    2460\n",
       "2017    2460\n",
       "2018    2460\n",
       "2019    2460\n",
       "2013    2458\n",
       "2012    1980\n",
       "Name: season, dtype: int64"
      ]
     },
     "execution_count": 65,
     "metadata": {},
     "output_type": "execute_result"
    }
   ],
   "source": [
    "# Check that there are the correct number of rows per season\n",
    "df_full_f6.season.value_counts()"
   ]
  },
  {
   "cell_type": "code",
   "execution_count": 66,
   "metadata": {},
   "outputs": [
    {
     "data": {
      "text/plain": [
       "Index(['season', 'team1', 'team2', 'elo1_pre', 'elo2_pre', 'G_team1',\n",
       "       'W_team1', 'L_team1', 'W_PCT_team1', 'home_wins_team1',\n",
       "       'home_losses_team1', 'away_wins_team1', 'away_losses_team1', 'G_team2',\n",
       "       'W_team2', 'L_team2', 'W_PCT_team2', 'home_wins_team2',\n",
       "       'home_losses_team2', 'away_wins_team2', 'away_losses_team2',\n",
       "       'pgame_team1_home', 'FGM_team1', 'FGA_team1', 'FG_PCT_team1',\n",
       "       'FG3M_team1', 'FG3A_team1', 'FG3_PCT_team1', 'FTM_team1', 'FTA_team1',\n",
       "       'FT_PCT_team1', 'OREB_team1', 'DREB_team1', 'REB_team1', 'AST_team1',\n",
       "       'STL_team1', 'BLK_team1', 'TOV_team1', 'PF_team1', 'PTS_team1',\n",
       "       'PLUS_MINUS_team1', 'PTS_PAINT_team1', 'PTS_2ND_CHANCE_team1',\n",
       "       'PTS_FB_team1', 'LARGEST_LEAD_team1', 'LEAD_CHANGES_team1',\n",
       "       'TIMES_TIED_team1', 'TEAM_TURNOVERS_team1', 'TOTAL_TURNOVERS_team1',\n",
       "       'TEAM_REBOUNDS_team1', 'PTS_OFF_TO_team1', 'LAST_GAME_POINTS_team1',\n",
       "       'pgame_team2_home', 'FGM_team2', 'FGA_team2', 'FG_PCT_team2',\n",
       "       'FG3M_team2', 'FG3A_team2', 'FG3_PCT_team2', 'FTM_team2', 'FTA_team2',\n",
       "       'FT_PCT_team2', 'OREB_team2', 'DREB_team2', 'REB_team2', 'AST_team2',\n",
       "       'STL_team2', 'BLK_team2', 'TOV_team2', 'PF_team2', 'PTS_team2',\n",
       "       'PLUS_MINUS_team2', 'PTS_PAINT_team2', 'PTS_2ND_CHANCE_team2',\n",
       "       'PTS_FB_team2', 'LARGEST_LEAD_team2', 'LEAD_CHANGES_team2',\n",
       "       'TIMES_TIED_team2', 'TEAM_TURNOVERS_team2', 'TOTAL_TURNOVERS_team2',\n",
       "       'TEAM_REBOUNDS_team2', 'LAST_GAME_POINTS_team2', 'PTS_OFF_TO_team2',\n",
       "       'team1_leads_series', 'team2_leads_series', 'tied_series', 'home_game',\n",
       "       'outcome', 'W_team1_l10', 'L_team1_l10'],\n",
       "      dtype='object')"
      ]
     },
     "execution_count": 66,
     "metadata": {},
     "output_type": "execute_result"
    }
   ],
   "source": [
    "df_full_f6.columns"
   ]
  },
  {
   "cell_type": "code",
   "execution_count": 67,
   "metadata": {},
   "outputs": [
    {
     "data": {
      "text/plain": [
       "(26578, 90)"
      ]
     },
     "execution_count": 67,
     "metadata": {},
     "output_type": "execute_result"
    }
   ],
   "source": [
    "df_full_f6.shape"
   ]
  },
  {
   "cell_type": "markdown",
   "metadata": {},
   "source": [
    "# Modeling"
   ]
  },
  {
   "cell_type": "markdown",
   "metadata": {},
   "source": [
    "## Test and Training Set"
   ]
  },
  {
   "cell_type": "code",
   "execution_count": 68,
   "metadata": {},
   "outputs": [],
   "source": [
    "X = pd.get_dummies(df_full_f6, columns=['team1', 'team2'])\n",
    "Y = X['outcome']\n",
    "X.drop(['outcome'], axis=1, inplace=True)"
   ]
  },
  {
   "cell_type": "code",
   "execution_count": 69,
   "metadata": {},
   "outputs": [],
   "source": [
    "# Splitting into early/late season\n",
    "X_train = X[X.G_team1 <= 66]\n",
    "y_train = Y[X.G_team1 <= 66]\n",
    "X_test = X[X.G_team1 > 66]\n",
    "y_test = Y[X.G_team1 > 66]\n",
    "X_train_std = StandardScaler().fit_transform(X_train)\n",
    "X_test_std = StandardScaler().fit_transform(X_test)"
   ]
  },
  {
   "cell_type": "code",
   "execution_count": 70,
   "metadata": {},
   "outputs": [],
   "source": [
    "#Split on game unit\n",
    "splitter = GroupShuffleSplit(test_size=.20, n_splits=1, random_state = 7)\n",
    "split = splitter.split(X, groups=X.index)\n",
    "train_inds, test_inds = next(split)\n",
    "X_train_rand = X.iloc[train_inds]\n",
    "y_train_rand = Y.iloc[train_inds]\n",
    "X_test_rand = X.iloc[test_inds]\n",
    "y_test_rand = Y.iloc[test_inds]\n",
    "X_train_std_rand = StandardScaler().fit_transform(X_train)\n",
    "X_test_std_rand = StandardScaler().fit_transform(X_test)"
   ]
  },
  {
   "cell_type": "code",
   "execution_count": 71,
   "metadata": {},
   "outputs": [],
   "source": [
    "# Test train split\n",
    "# X_train,X_test,y_train,y_test=train_test_split(X,Y,test_size=0.20,random_state=42)\n",
    "# X_train_std = StandardScaler().fit_transform(X_train)\n",
    "# X_test_std = StandardScaler().fit_transform(X_test)"
   ]
  },
  {
   "cell_type": "code",
   "execution_count": 72,
   "metadata": {},
   "outputs": [
    {
     "data": {
      "text/plain": [
       "(22080, 149)"
      ]
     },
     "execution_count": 72,
     "metadata": {},
     "output_type": "execute_result"
    }
   ],
   "source": [
    "X_train.shape"
   ]
  },
  {
   "cell_type": "markdown",
   "metadata": {},
   "source": [
    "## Summary Storage"
   ]
  },
  {
   "cell_type": "code",
   "execution_count": 73,
   "metadata": {},
   "outputs": [],
   "source": [
    "model_summaries = {}\n",
    "split_summary = {}\n",
    "target_names = ['home_loss', 'home_win']"
   ]
  },
  {
   "cell_type": "code",
   "execution_count": 74,
   "metadata": {},
   "outputs": [],
   "source": [
    "def add_model_summary(model_name, y_pred_model, summary_dict, y_data=y_test):\n",
    "    \"\"\"Add the Accuracy, AUC, and weighted avg precision,\n",
    "    recall and f-score to summary dictionary\"\"\"\n",
    "    classification_report_dict = classification_report(y_data, y_pred_model, output_dict=True)\n",
    "    summary_dict[model_name] = {'Accuracy': classification_report_dict['accuracy'],\n",
    "                                'Precision': classification_report_dict['weighted avg']['precision'],\n",
    "                                'Recall': classification_report_dict['weighted avg']['recall'],\n",
    "                                'f1-score': classification_report_dict['weighted avg']['f1-score']}\n"
   ]
  },
  {
   "cell_type": "markdown",
   "metadata": {},
   "source": [
    "## Baseline Model"
   ]
  },
  {
   "cell_type": "code",
   "execution_count": 75,
   "metadata": {},
   "outputs": [
    {
     "name": "stdout",
     "output_type": "stream",
     "text": [
      "              precision    recall  f1-score   support\n",
      "\n",
      "           0       0.58      0.58      0.58      2249\n",
      "           1       0.58      0.58      0.58      2249\n",
      "\n",
      "    accuracy                           0.58      4498\n",
      "   macro avg       0.58      0.58      0.58      4498\n",
      "weighted avg       0.58      0.58      0.58      4498\n",
      "\n"
     ]
    },
    {
     "data": {
      "text/plain": [
       "0.5813694975544687"
      ]
     },
     "execution_count": 75,
     "metadata": {},
     "output_type": "execute_result"
    }
   ],
   "source": [
    "y_pred_baseline = np.where(X_test.PTS_team1 < X_test.PTS_team2, 0, 1)\n",
    "print(classification_report(y_test,y_pred_baseline))\n",
    "roc_auc_score(y_test, y_pred_baseline)"
   ]
  },
  {
   "cell_type": "code",
   "execution_count": 76,
   "metadata": {},
   "outputs": [],
   "source": [
    "add_model_summary('Baseline', y_pred_baseline, model_summaries)"
   ]
  },
  {
   "cell_type": "code",
   "execution_count": 77,
   "metadata": {},
   "outputs": [
    {
     "name": "stdout",
     "output_type": "stream",
     "text": [
      "              precision    recall  f1-score   support\n",
      "\n",
      "           0       0.56      0.56      0.56      2658\n",
      "           1       0.56      0.56      0.56      2658\n",
      "\n",
      "    accuracy                           0.56      5316\n",
      "   macro avg       0.56      0.56      0.56      5316\n",
      "weighted avg       0.56      0.56      0.56      5316\n",
      "\n"
     ]
    },
    {
     "data": {
      "text/plain": [
       "0.5613243039879608"
      ]
     },
     "execution_count": 77,
     "metadata": {},
     "output_type": "execute_result"
    }
   ],
   "source": [
    "y_pred_baseline_rand = np.where(X_test_rand.PTS_team1 < X_test_rand.PTS_team2, 0, 1)\n",
    "print(classification_report(y_test_rand,y_pred_baseline_rand))\n",
    "roc_auc_score(y_test_rand, y_pred_baseline_rand)"
   ]
  },
  {
   "cell_type": "code",
   "execution_count": 78,
   "metadata": {},
   "outputs": [],
   "source": [
    "# add_model_summary('Baseline_rand', y_test_rand, y_pred_baseline_rand, split_summary)"
   ]
  },
  {
   "cell_type": "markdown",
   "metadata": {},
   "source": [
    "## Keras Sequential Model"
   ]
  },
  {
   "cell_type": "code",
   "execution_count": 79,
   "metadata": {},
   "outputs": [
    {
     "data": {
      "text/plain": [
       "(26578, 149)"
      ]
     },
     "execution_count": 79,
     "metadata": {},
     "output_type": "execute_result"
    }
   ],
   "source": [
    "X.shape"
   ]
  },
  {
   "cell_type": "code",
   "execution_count": 80,
   "metadata": {},
   "outputs": [
    {
     "name": "stderr",
     "output_type": "stream",
     "text": [
      "2022-12-07 11:04:31.688259: I tensorflow/core/platform/cpu_feature_guard.cc:193] This TensorFlow binary is optimized with oneAPI Deep Neural Network Library (oneDNN) to use the following CPU instructions in performance-critical operations:  AVX2 FMA\n",
      "To enable them in other operations, rebuild TensorFlow with the appropriate compiler flags.\n"
     ]
    }
   ],
   "source": [
    "tf.keras.backend.clear_session()\n",
    "ks = tf.keras.Sequential()\n",
    "ks.add(tf.keras.layers.Dense(\n",
    "    units=1,                    \n",
    "    input_shape=[149],          \n",
    "    use_bias=True,              \n",
    "    activation='sigmoid',        # apply a sigmoid to the output\n",
    "    kernel_initializer=tf.ones_initializer,  # initialize params to 1\n",
    "))\n",
    "optimizer = tf.keras.optimizers.SGD(learning_rate=0.05)\n",
    "ks.compile(loss='binary_crossentropy', optimizer=optimizer)"
   ]
  },
  {
   "cell_type": "code",
   "execution_count": 81,
   "metadata": {},
   "outputs": [
    {
     "name": "stdout",
     "output_type": "stream",
     "text": [
      "Epoch 1/5\n",
      "690/690 [==============================] - 1s 906us/step - loss: 1.4570\n",
      "Epoch 2/5\n",
      "690/690 [==============================] - 1s 797us/step - loss: 0.5693\n",
      "Epoch 3/5\n",
      "690/690 [==============================] - 1s 795us/step - loss: 0.5620\n",
      "Epoch 4/5\n",
      "690/690 [==============================] - 1s 929us/step - loss: 0.5611\n",
      "Epoch 5/5\n",
      "690/690 [==============================] - 1s 804us/step - loss: 0.5595\n"
     ]
    },
    {
     "data": {
      "text/plain": [
       "<keras.callbacks.History at 0x7f7a26a18310>"
      ]
     },
     "execution_count": 81,
     "metadata": {},
     "output_type": "execute_result"
    }
   ],
   "source": [
    "ks.fit(x=X_train_std, y=y_train, epochs=5)"
   ]
  },
  {
   "cell_type": "code",
   "execution_count": 82,
   "metadata": {},
   "outputs": [
    {
     "name": "stdout",
     "output_type": "stream",
     "text": [
      "141/141 [==============================] - 0s 787us/step\n",
      "              precision    recall  f1-score   support\n",
      "\n",
      "           0       0.80      0.78      0.79      2249\n",
      "           1       0.78      0.80      0.79      2249\n",
      "\n",
      "    accuracy                           0.79      4498\n",
      "   macro avg       0.79      0.79      0.79      4498\n",
      "weighted avg       0.79      0.79      0.79      4498\n",
      "\n"
     ]
    },
    {
     "data": {
      "text/plain": [
       "0.7899066251667408"
      ]
     },
     "execution_count": 82,
     "metadata": {},
     "output_type": "execute_result"
    }
   ],
   "source": [
    "y_pred_ks = ks.predict(X_test_std)\n",
    "y_pred_ks = np.where(y_pred_ks >= 0.5, 1, 0)\n",
    "print(classification_report(y_test,y_pred_ks))\n",
    "roc_auc_score(y_test, y_pred_ks)"
   ]
  },
  {
   "cell_type": "code",
   "execution_count": 83,
   "metadata": {},
   "outputs": [],
   "source": [
    "add_model_summary('Keras_Sequential', y_pred_ks, model_summaries)"
   ]
  },
  {
   "cell_type": "code",
   "execution_count": 84,
   "metadata": {},
   "outputs": [],
   "source": [
    "# add_model_summary('Keras_Sequential_', y_test_rand, y_pred_baseline_rand, split_summary)"
   ]
  },
  {
   "cell_type": "markdown",
   "metadata": {},
   "source": [
    "## Neural Network Model"
   ]
  },
  {
   "cell_type": "code",
   "execution_count": 85,
   "metadata": {},
   "outputs": [],
   "source": [
    "nn_summaries = {}"
   ]
  },
  {
   "cell_type": "markdown",
   "metadata": {},
   "source": [
    "### NN - []"
   ]
  },
  {
   "cell_type": "code",
   "execution_count": 86,
   "metadata": {},
   "outputs": [],
   "source": [
    "tf.keras.backend.clear_session()\n",
    "np.random.seed(0)\n",
    "tf.random.set_seed(0)\n",
    "\n",
    "# Initialize Model\n",
    "nn = tf.keras.Sequential()\n",
    "\n",
    "# Input Layer\n",
    "nn.add(tf.keras.layers.Dense(\n",
    "    units=32,\n",
    "    input_shape=[149],             # input dim\n",
    "    use_bias=True,\n",
    "    kernel_initializer=tf.ones_initializer,  # initialize params to 1\n",
    "))\n",
    "\n",
    "# Add hidden layer\n",
    "nn.add(tf.keras.layers.Dense(units=32, activation='relu'))\n",
    "\n",
    "# Add hidden layer\n",
    "nn.add(tf.keras.layers.Dense(units=8, activation='relu'))\n",
    "\n",
    "# Add output layer\n",
    "nn.add(tf.keras.layers.Dense(units=1, activation='sigmoid'))\n",
    "\n",
    "optimizer = tf.keras.optimizers.Adam()\n",
    "\n",
    "nn.compile(loss='binary_crossentropy', optimizer=optimizer)"
   ]
  },
  {
   "cell_type": "code",
   "execution_count": 87,
   "metadata": {},
   "outputs": [
    {
     "name": "stdout",
     "output_type": "stream",
     "text": [
      "Epoch 1/5\n",
      "690/690 [==============================] - 1s 1ms/step - loss: 0.6385\n",
      "Epoch 2/5\n",
      "690/690 [==============================] - 1s 1ms/step - loss: 0.5706\n",
      "Epoch 3/5\n",
      "690/690 [==============================] - 1s 1ms/step - loss: 0.5568\n",
      "Epoch 4/5\n",
      "690/690 [==============================] - 1s 1ms/step - loss: 0.5461\n",
      "Epoch 5/5\n",
      "690/690 [==============================] - 1s 1ms/step - loss: 0.5477\n"
     ]
    },
    {
     "data": {
      "text/plain": [
       "<keras.callbacks.History at 0x7f7a2bbe4bd0>"
      ]
     },
     "execution_count": 87,
     "metadata": {},
     "output_type": "execute_result"
    }
   ],
   "source": [
    "nn.fit(x=X_train_std, y=y_train, epochs=5)"
   ]
  },
  {
   "cell_type": "code",
   "execution_count": 88,
   "metadata": {},
   "outputs": [
    {
     "name": "stdout",
     "output_type": "stream",
     "text": [
      "141/141 [==============================] - 0s 1ms/step\n",
      "              precision    recall  f1-score   support\n",
      "\n",
      "           0       0.82      0.77      0.79      2249\n",
      "           1       0.78      0.84      0.81      2249\n",
      "\n",
      "    accuracy                           0.80      4498\n",
      "   macro avg       0.80      0.80      0.80      4498\n",
      "weighted avg       0.80      0.80      0.80      4498\n",
      "\n"
     ]
    },
    {
     "data": {
      "text/plain": [
       "0.8008003557136505"
      ]
     },
     "execution_count": 88,
     "metadata": {},
     "output_type": "execute_result"
    }
   ],
   "source": [
    "y_pred_nn = nn.predict(X_test_std)\n",
    "y_pred_nn = np.where(y_pred_nn >= 0.5, 1, 0)\n",
    "print(classification_report(y_test,y_pred_nn))\n",
    "roc_auc_score(y_test, y_pred_nn)"
   ]
  },
  {
   "cell_type": "code",
   "execution_count": 89,
   "metadata": {},
   "outputs": [],
   "source": [
    "add_model_summary('Neural_Network', y_pred_nn, model_summaries)"
   ]
  },
  {
   "cell_type": "markdown",
   "metadata": {},
   "source": [
    "## Logistic Regression"
   ]
  },
  {
   "cell_type": "code",
   "execution_count": 90,
   "metadata": {},
   "outputs": [],
   "source": [
    "# Store optimization Info\n",
    "lr_summaries = {}"
   ]
  },
  {
   "cell_type": "markdown",
   "metadata": {},
   "source": [
    "### Feature Engineering Comparison"
   ]
  },
  {
   "cell_type": "code",
   "execution_count": 91,
   "metadata": {},
   "outputs": [],
   "source": [
    "feature_engineerings = {}"
   ]
  },
  {
   "cell_type": "code",
   "execution_count": 92,
   "metadata": {},
   "outputs": [
    {
     "name": "stdout",
     "output_type": "stream",
     "text": [
      "              precision    recall  f1-score   support\n",
      "\n",
      "           0       0.81      0.81      0.81      2249\n",
      "           1       0.81      0.81      0.81      2249\n",
      "\n",
      "    accuracy                           0.81      4498\n",
      "   macro avg       0.81      0.81      0.81      4498\n",
      "weighted avg       0.81      0.81      0.81      4498\n",
      "\n"
     ]
    },
    {
     "data": {
      "text/plain": [
       "0.810804802134282"
      ]
     },
     "execution_count": 92,
     "metadata": {},
     "output_type": "execute_result"
    }
   ],
   "source": [
    "lr = LogisticRegression(solver='lbfgs', max_iter=7600)\n",
    "lr.fit(X_train_std, y_train)\n",
    "y_pred_lr = lr.predict(X_test_std)\n",
    "print(classification_report(y_test, y_pred_lr))\n",
    "roc_auc_score(y_test, y_pred_lr)"
   ]
  },
  {
   "cell_type": "code",
   "execution_count": 93,
   "metadata": {},
   "outputs": [],
   "source": [
    "add_model_summary('Final Dataset', y_pred_lr, feature_engineerings)"
   ]
  },
  {
   "cell_type": "code",
   "execution_count": 94,
   "metadata": {},
   "outputs": [
    {
     "name": "stdout",
     "output_type": "stream",
     "text": [
      "              precision    recall  f1-score   support\n",
      "\n",
      "           0       0.81      0.81      0.81      2249\n",
      "           1       0.81      0.81      0.81      2249\n",
      "\n",
      "    accuracy                           0.81      4498\n",
      "   macro avg       0.81      0.81      0.81      4498\n",
      "weighted avg       0.81      0.81      0.81      4498\n",
      "\n"
     ]
    },
    {
     "data": {
      "text/plain": [
       "0.8061360604713205"
      ]
     },
     "execution_count": 94,
     "metadata": {},
     "output_type": "execute_result"
    }
   ],
   "source": [
    "lr = LogisticRegression(solver='lbfgs', max_iter=7600)\n",
    "lr.fit(X_train, y_train)\n",
    "y_pred_lr2 = lr.predict(X_test)\n",
    "print(classification_report(y_test, y_pred_lr2))\n",
    "roc_auc_score(y_test, y_pred_lr2)"
   ]
  },
  {
   "cell_type": "code",
   "execution_count": 95,
   "metadata": {},
   "outputs": [],
   "source": [
    "add_model_summary('Unscaled Dataset', y_pred_lr2, feature_engineerings)"
   ]
  },
  {
   "cell_type": "code",
   "execution_count": 96,
   "metadata": {},
   "outputs": [
    {
     "name": "stdout",
     "output_type": "stream",
     "text": [
      "              precision    recall  f1-score   support\n",
      "\n",
      "           0       0.74      0.74      0.74      2658\n",
      "           1       0.74      0.74      0.74      2658\n",
      "\n",
      "    accuracy                           0.74      5316\n",
      "   macro avg       0.74      0.74      0.74      5316\n",
      "weighted avg       0.74      0.74      0.74      5316\n",
      "\n"
     ]
    },
    {
     "data": {
      "text/plain": [
       "0.7447328818660648"
      ]
     },
     "execution_count": 96,
     "metadata": {},
     "output_type": "execute_result"
    }
   ],
   "source": [
    "X_train_rand_reduced = X_train_rand.drop(columns=['W_team1_l10', 'L_team1_l10'])\n",
    "X_test_rand_reduced = X_test_rand.drop(columns=['W_team1_l10', 'L_team1_l10'])\n",
    "lr = LogisticRegression(solver='lbfgs', max_iter=7600)\n",
    "lr.fit(X_train_rand_reduced, y_train_rand)\n",
    "y_pred_lr3 = lr.predict(X_test_rand_reduced)\n",
    "print(classification_report(y_test_rand, y_pred_lr3))\n",
    "roc_auc_score(y_test_rand, y_pred_lr3)"
   ]
  },
  {
   "cell_type": "code",
   "execution_count": 97,
   "metadata": {},
   "outputs": [],
   "source": [
    "add_model_summary('No Feature Engineering', y_pred_lr3, feature_engineerings, y_data=y_test_rand)"
   ]
  },
  {
   "cell_type": "markdown",
   "metadata": {},
   "source": [
    "### PCA Models"
   ]
  },
  {
   "cell_type": "code",
   "execution_count": 99,
   "metadata": {},
   "outputs": [],
   "source": [
    "sklearn_pca = sklearnPCA(n_components=0.98)\n",
    "X_pca= sklearn_pca.fit_transform(X_train_std)\n",
    "Y_pca = sklearn_pca.transform(X_test_std)\n",
    "lr_pca = LogisticRegression(solver='lbfgs', max_iter=7600)\n",
    "lr_pca.fit(X_pca, y_train)\n",
    "y_pred_pca = lr_pca.predict(Y_pca)"
   ]
  },
  {
   "cell_type": "code",
   "execution_count": 100,
   "metadata": {},
   "outputs": [
    {
     "name": "stdout",
     "output_type": "stream",
     "text": [
      "              precision    recall  f1-score   support\n",
      "\n",
      "           0       0.80      0.80      0.80      2249\n",
      "           1       0.80      0.80      0.80      2249\n",
      "\n",
      "    accuracy                           0.80      4498\n",
      "   macro avg       0.80      0.80      0.80      4498\n",
      "weighted avg       0.80      0.80      0.80      4498\n",
      "\n"
     ]
    }
   ],
   "source": [
    "print(classification_report(y_test, y_pred_pca))\n",
    "roc_auc_score(y_test, y_pred_pca)\n",
    "add_model_summary('LogisticRegression_PCA_0.98', y_pred_pca, lr_summaries)"
   ]
  },
  {
   "cell_type": "code",
   "execution_count": 101,
   "metadata": {},
   "outputs": [],
   "source": [
    "add_model_summary('PCA_0.98', y_pred_pca, feature_engineerings)"
   ]
  },
  {
   "cell_type": "code",
   "execution_count": 102,
   "metadata": {},
   "outputs": [],
   "source": [
    "sklearn_pca = sklearnPCA(n_components=0.95)\n",
    "X_pca= sklearn_pca.fit_transform(X_train_std)\n",
    "Y_pca = sklearn_pca.transform(X_test_std)\n",
    "lr_pca = LogisticRegression(solver='lbfgs', max_iter=7600)\n",
    "lr_pca.fit(X_pca, y_train)\n",
    "y_pred_pca2 = lr_pca.predict(Y_pca)"
   ]
  },
  {
   "cell_type": "code",
   "execution_count": 103,
   "metadata": {},
   "outputs": [
    {
     "name": "stdout",
     "output_type": "stream",
     "text": [
      "              precision    recall  f1-score   support\n",
      "\n",
      "           0       0.78      0.78      0.78      2249\n",
      "           1       0.78      0.79      0.78      2249\n",
      "\n",
      "    accuracy                           0.78      4498\n",
      "   macro avg       0.78      0.78      0.78      4498\n",
      "weighted avg       0.78      0.78      0.78      4498\n",
      "\n"
     ]
    }
   ],
   "source": [
    "print(classification_report(y_test, y_pred_pca2))\n",
    "roc_auc_score(y_test, y_pred_pca2)\n",
    "add_model_summary('LogisticRegression_PCA_0.95', y_pred_pca2, lr_summaries)"
   ]
  },
  {
   "cell_type": "code",
   "execution_count": 104,
   "metadata": {},
   "outputs": [],
   "source": [
    "add_model_summary('PCA_0.95', y_pred_pca2, feature_engineerings)"
   ]
  },
  {
   "cell_type": "code",
   "execution_count": 105,
   "metadata": {},
   "outputs": [
    {
     "data": {
      "image/png": "[encoded data removed]",
      "text/plain": [
       "<Figure size 360x360 with 1 Axes>"
      ]
     },
     "metadata": {
      "needs_background": "light"
     },
     "output_type": "display_data"
    }
   ],
   "source": [
    "# Visualize Summary Data\n",
    "plt.figure(figsize=(5,5))\n",
    "for data_dict in feature_engineerings.values():\n",
    "    x_plot = data_dict.keys()\n",
    "    y_plot = data_dict.values()\n",
    "    plt.scatter(x_plot,y_plot)\n",
    "\n",
    "plt.legend(feature_engineerings.keys(), loc=(1.01, 0.25))\n",
    "plt.ylabel(\"Score\")\n",
    "plt.ylim((0.7,0.85))\n",
    "plt.xlabel(\"Evaluation Metric\")\n",
    "plt.title('Feature Engineering Comparisons\\nLogisticRegression Model')\n",
    "plt.show()"
   ]
  },
  {
   "cell_type": "code",
   "execution_count": 106,
   "metadata": {},
   "outputs": [
    {
     "data": {
      "image/png": "[encoded data removed]",
      "text/plain": [
       "<Figure size 500x500 with 1 Axes>"
      ]
     },
     "metadata": {
      "needs_background": "light"
     },
     "output_type": "display_data"
    }
   ],
   "source": [
    "#Final Model\n",
    "auc_lr = roc_auc_score(y_test, y_pred_lr)\n",
    "fpr_lr, tpr_lr, _ = roc_curve(y_test, y_pred_lr)\n",
    "\n",
    "# Unscaled Dataset\n",
    "auc_lr2 = roc_auc_score(y_test, y_pred_lr2)\n",
    "fpr_lr2, tpr_lr2, _ = roc_curve(y_test, y_pred_lr2)\n",
    "\n",
    "# No Feature Engineering\n",
    "auc_lr3 = roc_auc_score(y_test_rand, y_pred_lr3)\n",
    "fpr_lr3, tpr_lr3, _ = roc_curve(y_test_rand, y_pred_lr3)\n",
    "\n",
    "# PCA 98% Variance\n",
    "auc_lr4 = roc_auc_score(y_test, y_pred_pca)\n",
    "fpr_lr4, tpr_lr4, _ = roc_curve(y_test, y_pred_pca)\n",
    "\n",
    "# PCA 95% Variance\n",
    "auc_lr5 = roc_auc_score(y_test, y_pred_pca2)\n",
    "fpr_lr5, tpr_lr5, _ = roc_curve(y_test, y_pred_pca2)\n",
    "\n",
    "plt.figure(figsize=(5, 5), dpi=100)\n",
    "plt.axis('scaled')\n",
    "plt.xlim([0, 1])\n",
    "plt.ylim([0, 1])\n",
    "plt.title(\"AUC & ROC Curve\\nFeature Engineering Comparisons\")\n",
    "plt.plot(fpr_lr, tpr_lr, label=\"Final Dataset (%0.4f)\"%auc_lr)\n",
    "plt.plot(fpr_lr2, tpr_lr2, label=\"Unscaled Dataset (%0.4f)\"%auc_lr2)\n",
    "plt.plot(fpr_lr3, tpr_lr3, label=\"No Feature Engineering (%0.4f)\"%auc_lr3)\n",
    "plt.plot(fpr_lr4, tpr_lr4, label=\"PCA (98 percent Variance) (%0.4f)\"%auc_lr4)\n",
    "plt.plot(fpr_lr5, tpr_lr5, label=\"PCA (95 percent Variance) (%0.4f)\"%auc_lr5)\n",
    "plt.xlabel(\"False Positive Rate\")\n",
    "plt.ylabel(\"True Positive Rate\")\n",
    "plt.legend(fontsize='small')\n",
    "plt.show()"
   ]
  },
  {
   "cell_type": "markdown",
   "metadata": {},
   "source": [
    "### LR 1 - Default"
   ]
  },
  {
   "cell_type": "code",
   "execution_count": 107,
   "metadata": {},
   "outputs": [],
   "source": [
    "lr = LogisticRegression(solver='lbfgs', max_iter=7600)\n",
    "lr.fit(X_train_std, y_train)\n",
    "y_pred_lr = lr.predict(X_test_std)"
   ]
  },
  {
   "cell_type": "code",
   "execution_count": 108,
   "metadata": {},
   "outputs": [
    {
     "name": "stdout",
     "output_type": "stream",
     "text": [
      "              precision    recall  f1-score   support\n",
      "\n",
      "           0       0.81      0.81      0.81      2249\n",
      "           1       0.81      0.81      0.81      2249\n",
      "\n",
      "    accuracy                           0.81      4498\n",
      "   macro avg       0.81      0.81      0.81      4498\n",
      "weighted avg       0.81      0.81      0.81      4498\n",
      "\n"
     ]
    },
    {
     "data": {
      "text/plain": [
       "0.810804802134282"
      ]
     },
     "execution_count": 108,
     "metadata": {},
     "output_type": "execute_result"
    }
   ],
   "source": [
    "fpr, tpr, _ = roc_curve(y_test, y_pred_lr)\n",
    "print(classification_report(y_test, y_pred_lr))\n",
    "roc_auc_score(y_test, y_pred_lr)"
   ]
  },
  {
   "cell_type": "code",
   "execution_count": 109,
   "metadata": {},
   "outputs": [],
   "source": [
    "add_model_summary('LogisticRegression_default', y_pred_lr, lr_summaries)"
   ]
  },
  {
   "cell_type": "markdown",
   "metadata": {},
   "source": [
    "### LR 2 - liblinear with l1 penalty"
   ]
  },
  {
   "cell_type": "code",
   "execution_count": 110,
   "metadata": {},
   "outputs": [],
   "source": [
    "lr_2 = LogisticRegression(solver='liblinear', penalty='l1', max_iter=7600)\n",
    "lr_2.fit(X_train_std, y_train)\n",
    "y_pred_lr_2 = lr_2.predict(X_test_std)"
   ]
  },
  {
   "cell_type": "code",
   "execution_count": 111,
   "metadata": {},
   "outputs": [
    {
     "name": "stdout",
     "output_type": "stream",
     "text": [
      "              precision    recall  f1-score   support\n",
      "\n",
      "           0       0.81      0.81      0.81      2249\n",
      "           1       0.81      0.81      0.81      2249\n",
      "\n",
      "    accuracy                           0.81      4498\n",
      "   macro avg       0.81      0.81      0.81      4498\n",
      "weighted avg       0.81      0.81      0.81      4498\n",
      "\n"
     ]
    },
    {
     "data": {
      "text/plain": [
       "0.8101378390395731"
      ]
     },
     "execution_count": 111,
     "metadata": {},
     "output_type": "execute_result"
    }
   ],
   "source": [
    "print(classification_report(y_test, y_pred_lr_2))\n",
    "roc_auc_score(y_test, y_pred_lr_2)"
   ]
  },
  {
   "cell_type": "code",
   "execution_count": 112,
   "metadata": {},
   "outputs": [],
   "source": [
    "add_model_summary('LogisticRegression_liblinear_l1', y_pred_lr_2, lr_summaries)"
   ]
  },
  {
   "cell_type": "markdown",
   "metadata": {},
   "source": [
    "### LR 3 - saga solver with elasticnet penalty"
   ]
  },
  {
   "cell_type": "code",
   "execution_count": 113,
   "metadata": {},
   "outputs": [],
   "source": [
    "lr_3 = LogisticRegression(solver='saga', penalty='elasticnet', max_iter=7600, l1_ratio = 0.5)\n",
    "lr_3.fit(X_train_std, y_train)\n",
    "y_pred_lr_3 = lr_3.predict(X_test_std)"
   ]
  },
  {
   "cell_type": "code",
   "execution_count": 114,
   "metadata": {},
   "outputs": [
    {
     "name": "stdout",
     "output_type": "stream",
     "text": [
      "              precision    recall  f1-score   support\n",
      "\n",
      "           0       0.81      0.81      0.81      2249\n",
      "           1       0.81      0.81      0.81      2249\n",
      "\n",
      "    accuracy                           0.81      4498\n",
      "   macro avg       0.81      0.81      0.81      4498\n",
      "weighted avg       0.81      0.81      0.81      4498\n",
      "\n"
     ]
    },
    {
     "data": {
      "text/plain": [
       "0.810804802134282"
      ]
     },
     "execution_count": 114,
     "metadata": {},
     "output_type": "execute_result"
    }
   ],
   "source": [
    "print(classification_report(y_test, y_pred_lr_3))\n",
    "roc_auc_score(y_test, y_pred_lr_3)"
   ]
  },
  {
   "cell_type": "code",
   "execution_count": 115,
   "metadata": {},
   "outputs": [],
   "source": [
    "add_model_summary('LogisticRegression_saga_elasticnet', y_pred_lr_3, lr_summaries)"
   ]
  },
  {
   "cell_type": "markdown",
   "metadata": {},
   "source": [
    "### LR-4 clas weight ='balanced'"
   ]
  },
  {
   "cell_type": "code",
   "execution_count": 116,
   "metadata": {},
   "outputs": [],
   "source": [
    "lr_4 = LogisticRegression(solver='liblinear', penalty='l1', max_iter=7600, class_weight = 'balanced')\n",
    "lr_4.fit(X_train_std, y_train)\n",
    "y_pred_lr_4 = lr_4.predict(X_test_std)"
   ]
  },
  {
   "cell_type": "code",
   "execution_count": 117,
   "metadata": {},
   "outputs": [
    {
     "name": "stdout",
     "output_type": "stream",
     "text": [
      "              precision    recall  f1-score   support\n",
      "\n",
      "           0       0.81      0.81      0.81      2249\n",
      "           1       0.81      0.81      0.81      2249\n",
      "\n",
      "    accuracy                           0.81      4498\n",
      "   macro avg       0.81      0.81      0.81      4498\n",
      "weighted avg       0.81      0.81      0.81      4498\n",
      "\n"
     ]
    },
    {
     "data": {
      "text/plain": [
       "0.8101378390395731"
      ]
     },
     "execution_count": 117,
     "metadata": {},
     "output_type": "execute_result"
    }
   ],
   "source": [
    "print(classification_report(y_test, y_pred_lr_4))\n",
    "roc_auc_score(y_test, y_pred_lr_4)"
   ]
  },
  {
   "cell_type": "code",
   "execution_count": 118,
   "metadata": {},
   "outputs": [],
   "source": [
    "add_model_summary('LogisticRegression_liblinear_l1_balanced', y_pred_lr_4, lr_summaries)"
   ]
  },
  {
   "cell_type": "markdown",
   "metadata": {},
   "source": [
    "### LR Comparison"
   ]
  },
  {
   "cell_type": "code",
   "execution_count": 119,
   "metadata": {},
   "outputs": [
    {
     "data": {
      "text/plain": [
       "<matplotlib.legend.Legend at 0x7f7a2b064150>"
      ]
     },
     "execution_count": 119,
     "metadata": {},
     "output_type": "execute_result"
    },
    {
     "data": {
      "image/png": "[encoded data removed]",
      "text/plain": [
       "<Figure size 720x360 with 1 Axes>"
      ]
     },
     "metadata": {
      "needs_background": "light"
     },
     "output_type": "display_data"
    }
   ],
   "source": [
    "# Visualize Summary Data\n",
    "plt.figure(figsize=(10,5))\n",
    "for data_dict in lr_summaries.values():\n",
    "    x_plot = data_dict.keys()\n",
    "    y_plot = data_dict.values()\n",
    "    plt.scatter(x_plot,y_plot)\n",
    "\n",
    "plt.legend(lr_summaries.keys(), loc=(1.01, 0.25))"
   ]
  },
  {
   "cell_type": "code",
   "execution_count": 120,
   "metadata": {},
   "outputs": [],
   "source": [
    "# Add preferred model to Overall Comparison\n",
    "add_model_summary('LogisticRegression', y_pred_lr_2, model_summaries)"
   ]
  },
  {
   "cell_type": "markdown",
   "metadata": {},
   "source": [
    "## Naive Bayes"
   ]
  },
  {
   "cell_type": "code",
   "execution_count": 121,
   "metadata": {},
   "outputs": [],
   "source": [
    "gnb = GaussianNB()\n",
    "gnb.fit(X_train_std,y_train)\n",
    "y_pred_gnb = gnb.predict(X_test_std)"
   ]
  },
  {
   "cell_type": "code",
   "execution_count": 122,
   "metadata": {},
   "outputs": [
    {
     "name": "stdout",
     "output_type": "stream",
     "text": [
      "              precision    recall  f1-score   support\n",
      "\n",
      "           0       0.67      0.67      0.67      2249\n",
      "           1       0.67      0.67      0.67      2249\n",
      "\n",
      "    accuracy                           0.67      4498\n",
      "   macro avg       0.67      0.67      0.67      4498\n",
      "weighted avg       0.67      0.67      0.67      4498\n",
      "\n"
     ]
    },
    {
     "data": {
      "text/plain": [
       "0.6714095153401511"
      ]
     },
     "execution_count": 122,
     "metadata": {},
     "output_type": "execute_result"
    }
   ],
   "source": [
    "print(classification_report(y_test, y_pred_gnb))\n",
    "roc_auc_score(y_test, y_pred_gnb)"
   ]
  },
  {
   "cell_type": "code",
   "execution_count": 123,
   "metadata": {},
   "outputs": [],
   "source": [
    "# Add Model Summary to overall comparison\n",
    "add_model_summary('NaiveBayes', y_pred_gnb, model_summaries)"
   ]
  },
  {
   "cell_type": "markdown",
   "metadata": {},
   "source": [
    "## Decision Trees"
   ]
  },
  {
   "cell_type": "code",
   "execution_count": 124,
   "metadata": {},
   "outputs": [],
   "source": [
    "dtc = DecisionTreeClassifier()\n",
    "dtc.fit(X_train_std, y_train)\n",
    "y_pred_dtc = dtc.predict(X_test_std)"
   ]
  },
  {
   "cell_type": "code",
   "execution_count": 125,
   "metadata": {},
   "outputs": [
    {
     "name": "stdout",
     "output_type": "stream",
     "text": [
      "              precision    recall  f1-score   support\n",
      "\n",
      "           0       0.66      0.67      0.67      2249\n",
      "           1       0.67      0.66      0.66      2249\n",
      "\n",
      "    accuracy                           0.66      4498\n",
      "   macro avg       0.66      0.66      0.66      4498\n",
      "weighted avg       0.66      0.66      0.66      4498\n",
      "\n"
     ]
    },
    {
     "data": {
      "text/plain": [
       "0.6647398843930636"
      ]
     },
     "execution_count": 125,
     "metadata": {},
     "output_type": "execute_result"
    }
   ],
   "source": [
    "print(classification_report(y_test, y_pred_dtc))\n",
    "roc_auc_score(y_test, y_pred_dtc)"
   ]
  },
  {
   "cell_type": "code",
   "execution_count": 126,
   "metadata": {},
   "outputs": [],
   "source": [
    "# Add Model Summary to overall comparison\n",
    "add_model_summary('DecisionTree', y_pred_dtc, model_summaries)"
   ]
  },
  {
   "cell_type": "markdown",
   "metadata": {},
   "source": [
    "## Random Forest"
   ]
  },
  {
   "cell_type": "markdown",
   "metadata": {},
   "source": [
    "### Store Optimizations"
   ]
  },
  {
   "cell_type": "code",
   "execution_count": 127,
   "metadata": {},
   "outputs": [],
   "source": [
    "rf_summaries = {}"
   ]
  },
  {
   "cell_type": "markdown",
   "metadata": {},
   "source": [
    "### Base Model"
   ]
  },
  {
   "cell_type": "code",
   "execution_count": 128,
   "metadata": {},
   "outputs": [
    {
     "data": {
      "text/plain": [
       "RandomForestClassifier(max_depth=10, n_estimators=150, n_jobs=-1,\n",
       "                       random_state=1)"
      ]
     },
     "execution_count": 128,
     "metadata": {},
     "output_type": "execute_result"
    }
   ],
   "source": [
    "rf = RandomForestClassifier(n_estimators=150, max_depth=10, n_jobs=-1, random_state=1)\n",
    "rf.fit(X_train_std, y_train)"
   ]
  },
  {
   "cell_type": "code",
   "execution_count": 129,
   "metadata": {},
   "outputs": [
    {
     "name": "stdout",
     "output_type": "stream",
     "text": [
      "              precision    recall  f1-score   support\n",
      "\n",
      "           0       0.81      0.81      0.81      2249\n",
      "           1       0.81      0.81      0.81      2249\n",
      "\n",
      "    accuracy                           0.81      4498\n",
      "   macro avg       0.81      0.81      0.81      4498\n",
      "weighted avg       0.81      0.81      0.81      4498\n",
      "\n"
     ]
    },
    {
     "data": {
      "text/plain": [
       "0.812361049355269"
      ]
     },
     "execution_count": 129,
     "metadata": {},
     "output_type": "execute_result"
    }
   ],
   "source": [
    "y_pred_rf = rf.predict(X_test_std)\n",
    "\n",
    "print(classification_report(y_test, y_pred_rf))\n",
    "roc_auc_score(y_test, y_pred_rf)"
   ]
  },
  {
   "cell_type": "code",
   "execution_count": 130,
   "metadata": {},
   "outputs": [],
   "source": [
    "# Add Model Summary to overall comparison\n",
    "add_model_summary('RandomForest_base', y_pred_rf, rf_summaries)"
   ]
  },
  {
   "cell_type": "markdown",
   "metadata": {},
   "source": [
    "### Cross Validation RandomizedSearchCV"
   ]
  },
  {
   "cell_type": "code",
   "execution_count": 131,
   "metadata": {},
   "outputs": [
    {
     "name": "stdout",
     "output_type": "stream",
     "text": [
      "{'bootstrap': True, 'ccp_alpha': 0.0, 'class_weight': None, 'criterion': 'gini', 'max_depth': None, 'max_features': 'auto', 'max_leaf_nodes': None, 'max_samples': None, 'min_impurity_decrease': 0.0, 'min_samples_leaf': 1, 'min_samples_split': 2, 'min_weight_fraction_leaf': 0.0, 'n_estimators': 100, 'n_jobs': None, 'oob_score': False, 'random_state': None, 'verbose': 0, 'warm_start': False}\n"
     ]
    }
   ],
   "source": [
    "rf = RandomForestClassifier()\n",
    "print(rf.get_params())"
   ]
  },
  {
   "cell_type": "code",
   "execution_count": 132,
   "metadata": {},
   "outputs": [],
   "source": [
    "n_estimators = [int(x) for x in np.linspace(100, 1000, 20)]\n",
    "max_features = ['auto', 'sqrt']\n",
    "max_depth = [int(x) for x in np.linspace(5, 105, 11)]\n",
    "max_depth.append(None)\n",
    "min_samples_split = [2, 5, 10]\n",
    "min_samples_leaf = [1, 2, 4]\n",
    "bootstrap = [True, False]\n",
    "\n",
    "random_grid = {'n_estimators': n_estimators,\n",
    "                'max_features': max_features,\n",
    "                'max_depth': max_depth,\n",
    "                'min_samples_split': min_samples_split,\n",
    "                'min_samples_leaf': min_samples_leaf,\n",
    "                'bootstrap': bootstrap}\n"
   ]
  },
  {
   "cell_type": "code",
   "execution_count": 133,
   "metadata": {},
   "outputs": [],
   "source": [
    "if run_hyperparameter_tuning:\n",
    "    rf = RandomForestClassifier()\n",
    "    rf_random = RandomizedSearchCV(estimator=rf, param_distributions=random_grid,\n",
    "                n_iter = 50, cv=3, verbose=2, random_state=42, n_jobs=-1)\n",
    "    rf_random.fit(X_train_std, y_train)\n",
    "else:\n",
    "    pass"
   ]
  },
  {
   "cell_type": "code",
   "execution_count": 134,
   "metadata": {},
   "outputs": [],
   "source": [
    "# rf_random.best_params_"
   ]
  },
  {
   "cell_type": "code",
   "execution_count": 135,
   "metadata": {},
   "outputs": [
    {
     "data": {
      "text/plain": [
       "RandomForestClassifier(bootstrap=False, max_depth=15, max_features='sqrt',\n",
       "                       n_estimators=668, n_jobs=-1, random_state=42)"
      ]
     },
     "execution_count": 135,
     "metadata": {},
     "output_type": "execute_result"
    }
   ],
   "source": [
    "rf_rscv = RandomForestClassifier(n_estimators=668, max_depth=15, n_jobs=-1, random_state=42,\n",
    "                                 min_samples_split=2, min_samples_leaf=1, max_features='sqrt',\n",
    "                                 bootstrap=False)\n",
    "rf_rscv.fit(X_train_std, y_train)"
   ]
  },
  {
   "cell_type": "code",
   "execution_count": 136,
   "metadata": {},
   "outputs": [
    {
     "name": "stdout",
     "output_type": "stream",
     "text": [
      "              precision    recall  f1-score   support\n",
      "\n",
      "           0       0.82      0.82      0.82      2249\n",
      "           1       0.82      0.82      0.82      2249\n",
      "\n",
      "    accuracy                           0.82      4498\n",
      "   macro avg       0.82      0.82      0.82      4498\n",
      "weighted avg       0.82      0.82      0.82      4498\n",
      "\n"
     ]
    },
    {
     "data": {
      "text/plain": [
       "0.8196976433970654"
      ]
     },
     "execution_count": 136,
     "metadata": {},
     "output_type": "execute_result"
    }
   ],
   "source": [
    "y_pred_rf_rscv = rf_rscv.predict(X_test_std)\n",
    "\n",
    "print(classification_report(y_test, y_pred_rf_rscv))\n",
    "roc_auc_score(y_test, y_pred_rf_rscv)"
   ]
  },
  {
   "cell_type": "code",
   "execution_count": 137,
   "metadata": {},
   "outputs": [],
   "source": [
    "# Add Model Summary to overall comparison\n",
    "add_model_summary('RandomForest_RSCV', y_pred_rf_rscv, rf_summaries)"
   ]
  },
  {
   "cell_type": "markdown",
   "metadata": {},
   "source": [
    "### Grid Search with Cross Validation"
   ]
  },
  {
   "cell_type": "code",
   "execution_count": 138,
   "metadata": {},
   "outputs": [],
   "source": [
    "param_grid = {'bootstrap':[False],\n",
    "              'max_depth':[10, 15, 20],\n",
    "              'max_features':['sqrt'],\n",
    "              'n_estimators': [625, 650, 675, 700, 725],\n",
    "              'min_samples_split': [1, 2, 3],\n",
    "              'min_samples_leaf': [1, 2, 3]}\n",
    "\n",
    "rf = RandomForestClassifier()\n",
    "grid_search = GridSearchCV(estimator=rf, param_grid=param_grid, cv=3, n_jobs=-1, verbose=2)"
   ]
  },
  {
   "cell_type": "code",
   "execution_count": 139,
   "metadata": {},
   "outputs": [],
   "source": [
    "if run_hyperparameter_tuning:\n",
    "    grid_search.fit(X_train_std, y_train)\n",
    "else:\n",
    "    pass"
   ]
  },
  {
   "cell_type": "code",
   "execution_count": 140,
   "metadata": {},
   "outputs": [],
   "source": [
    "# grid_search.best_params_"
   ]
  },
  {
   "cell_type": "code",
   "execution_count": 141,
   "metadata": {},
   "outputs": [
    {
     "data": {
      "text/plain": [
       "RandomForestClassifier(bootstrap=False, max_depth=15, max_features='sqrt',\n",
       "                       min_samples_leaf=3, min_samples_split=3,\n",
       "                       n_estimators=625, n_jobs=-1, random_state=42)"
      ]
     },
     "execution_count": 141,
     "metadata": {},
     "output_type": "execute_result"
    }
   ],
   "source": [
    "rf_gs = RandomForestClassifier(n_estimators=625, max_depth=15, n_jobs=-1, random_state=42,\n",
    "                                 min_samples_split=3, min_samples_leaf=3, max_features='sqrt',\n",
    "                                 bootstrap=False)\n",
    "rf_gs.fit(X_train_std, y_train)"
   ]
  },
  {
   "cell_type": "code",
   "execution_count": 142,
   "metadata": {},
   "outputs": [
    {
     "name": "stdout",
     "output_type": "stream",
     "text": [
      "              precision    recall  f1-score   support\n",
      "\n",
      "           0       0.82      0.82      0.82      2249\n",
      "           1       0.82      0.82      0.82      2249\n",
      "\n",
      "    accuracy                           0.82      4498\n",
      "   macro avg       0.82      0.82      0.82      4498\n",
      "weighted avg       0.82      0.82      0.82      4498\n",
      "\n"
     ]
    },
    {
     "data": {
      "text/plain": [
       "0.8194753223654958"
      ]
     },
     "execution_count": 142,
     "metadata": {},
     "output_type": "execute_result"
    }
   ],
   "source": [
    "y_pred_rf_gs = rf_gs.predict(X_test_std)\n",
    "\n",
    "print(classification_report(y_test, y_pred_rf_gs))\n",
    "roc_auc_score(y_test, y_pred_rf_gs)"
   ]
  },
  {
   "cell_type": "code",
   "execution_count": 143,
   "metadata": {},
   "outputs": [],
   "source": [
    "# Add Model Summary to overall comparison\n",
    "add_model_summary('RandomForest_GSCV', y_pred_rf_gs, rf_summaries)"
   ]
  },
  {
   "cell_type": "markdown",
   "metadata": {},
   "source": [
    "### Random Forest Comparisons"
   ]
  },
  {
   "cell_type": "code",
   "execution_count": 144,
   "metadata": {},
   "outputs": [
    {
     "data": {
      "text/plain": [
       "<matplotlib.legend.Legend at 0x7f7a298a0e90>"
      ]
     },
     "execution_count": 144,
     "metadata": {},
     "output_type": "execute_result"
    },
    {
     "data": {
      "image/png": "[encoded data removed]",
      "text/plain": [
       "<Figure size 720x360 with 1 Axes>"
      ]
     },
     "metadata": {
      "needs_background": "light"
     },
     "output_type": "display_data"
    }
   ],
   "source": [
    "# Visualize Summary Data\n",
    "plt.figure(figsize=(10,5))\n",
    "for data_dict in rf_summaries.values():\n",
    "    x_plot = data_dict.keys()\n",
    "    y_plot = data_dict.values()\n",
    "    plt.scatter(x_plot,y_plot)\n",
    "\n",
    "plt.legend(rf_summaries.keys(), loc=(1.01, 0.25))"
   ]
  },
  {
   "cell_type": "code",
   "execution_count": 145,
   "metadata": {},
   "outputs": [],
   "source": [
    "# Add Model Summary to overall comparison\n",
    "add_model_summary('RandomForest', y_pred_rf_gs, model_summaries)"
   ]
  },
  {
   "cell_type": "markdown",
   "metadata": {},
   "source": [
    "## Bagged Decision Trees"
   ]
  },
  {
   "cell_type": "markdown",
   "metadata": {},
   "source": [
    "### Store Optimization Data"
   ]
  },
  {
   "cell_type": "code",
   "execution_count": 146,
   "metadata": {},
   "outputs": [],
   "source": [
    "bc_summaries = {}"
   ]
  },
  {
   "cell_type": "markdown",
   "metadata": {},
   "source": [
    "### Default Bagged Decision Tree"
   ]
  },
  {
   "cell_type": "code",
   "execution_count": 147,
   "metadata": {},
   "outputs": [
    {
     "data": {
      "text/plain": [
       "BaggingClassifier()"
      ]
     },
     "execution_count": 147,
     "metadata": {},
     "output_type": "execute_result"
    }
   ],
   "source": [
    "bc = BaggingClassifier()\n",
    "bc.fit(X_train_std, y_train)"
   ]
  },
  {
   "cell_type": "code",
   "execution_count": 148,
   "metadata": {},
   "outputs": [
    {
     "name": "stdout",
     "output_type": "stream",
     "text": [
      "              precision    recall  f1-score   support\n",
      "\n",
      "           0       0.74      0.80      0.77      2249\n",
      "           1       0.78      0.72      0.75      2249\n",
      "\n",
      "    accuracy                           0.76      4498\n",
      "   macro avg       0.76      0.76      0.76      4498\n",
      "weighted avg       0.76      0.76      0.76      4498\n",
      "\n"
     ]
    },
    {
     "data": {
      "text/plain": [
       "0.7610048910626945"
      ]
     },
     "execution_count": 148,
     "metadata": {},
     "output_type": "execute_result"
    }
   ],
   "source": [
    "y_pred_bc = bc.predict(X_test_std)\n",
    "\n",
    "print(classification_report(y_test, y_pred_bc))\n",
    "roc_auc_score(y_test, y_pred_bc)"
   ]
  },
  {
   "cell_type": "code",
   "execution_count": 149,
   "metadata": {},
   "outputs": [],
   "source": [
    "# Add Model Summary to overall comparison\n",
    "add_model_summary('Unoptimized', y_pred_bc, bc_summaries)"
   ]
  },
  {
   "cell_type": "markdown",
   "metadata": {},
   "source": [
    "### Randomized Search CV"
   ]
  },
  {
   "cell_type": "code",
   "execution_count": 150,
   "metadata": {},
   "outputs": [],
   "source": [
    "# Random grid to test for RSCV\n",
    "random_grid = {'n_estimators': [800, 1000, 1200],\n",
    "                'max_samples': [0.25, 0.5, 0.75, 1],\n",
    "                'max_features': [0.25, 0.5, 0.75, 1],\n",
    "                'bootstrap': [True, False],\n",
    "                'bootstrap_features': [True, False]}"
   ]
  },
  {
   "cell_type": "code",
   "execution_count": 151,
   "metadata": {},
   "outputs": [],
   "source": [
    "if run_hyperparameter_tuning:\n",
    "    bc = BaggingClassifier()\n",
    "    bc_cv = RandomizedSearchCV(estimator=bc, param_distributions=random_grid, n_iter=50, cv=3,\n",
    "                                verbose=2, random_state=42, n_jobs=-1)\n",
    "    bc_cv.fit(X_train_std, y_train)\n",
    "    bc_cv.best_params_\n",
    "else:\n",
    "    pass"
   ]
  },
  {
   "cell_type": "code",
   "execution_count": 152,
   "metadata": {},
   "outputs": [],
   "source": [
    "best_params_search1 = {'n_estimators': 1000,\n",
    " 'max_samples': 0.25,\n",
    " 'max_features': 0.75,\n",
    " 'bootstrap_features': False,\n",
    " 'bootstrap': False}"
   ]
  },
  {
   "cell_type": "code",
   "execution_count": 153,
   "metadata": {},
   "outputs": [
    {
     "data": {
      "text/plain": [
       "BaggingClassifier(bootstrap=False, max_features=0.6, max_samples=0.25,\n",
       "                  n_estimators=750)"
      ]
     },
     "execution_count": 153,
     "metadata": {},
     "output_type": "execute_result"
    }
   ],
   "source": [
    "bc_cv_best = BaggingClassifier(n_estimators=750, max_samples=0.25,\n",
    "                          max_features=0.6, bootstrap_features=False,\n",
    "                          bootstrap=False)\n",
    "bc_cv_best.fit(X_train_std, y_train)"
   ]
  },
  {
   "cell_type": "code",
   "execution_count": 154,
   "metadata": {},
   "outputs": [
    {
     "name": "stdout",
     "output_type": "stream",
     "text": [
      "              precision    recall  f1-score   support\n",
      "\n",
      "           0       0.82      0.82      0.82      2249\n",
      "           1       0.82      0.82      0.82      2249\n",
      "\n",
      "    accuracy                           0.82      4498\n",
      "   macro avg       0.82      0.82      0.82      4498\n",
      "weighted avg       0.82      0.82      0.82      4498\n",
      "\n"
     ]
    },
    {
     "data": {
      "text/plain": [
       "0.8159181858603824"
      ]
     },
     "execution_count": 154,
     "metadata": {},
     "output_type": "execute_result"
    }
   ],
   "source": [
    "y_pred_bc_cv = bc_cv_best.predict(X_test_std)\n",
    "\n",
    "\n",
    "print(classification_report(y_test, y_pred_bc_cv))\n",
    "roc_auc_score(y_test, y_pred_bc_cv)"
   ]
  },
  {
   "cell_type": "code",
   "execution_count": 155,
   "metadata": {},
   "outputs": [],
   "source": [
    "# Add Model Summary to overall comparison\n",
    "add_model_summary('RandomizedSearchCV', y_pred_bc_cv, bc_summaries)"
   ]
  },
  {
   "cell_type": "markdown",
   "metadata": {},
   "source": [
    "### Grid Search"
   ]
  },
  {
   "cell_type": "code",
   "execution_count": 156,
   "metadata": {},
   "outputs": [],
   "source": [
    "param_grid = {'bootstrap':[False],\n",
    "              'max_samples':[0.25, 0.375, 0.5],\n",
    "              'max_features':[0.6, 0.8],\n",
    "              'n_estimators': [750, 1000, 1250],\n",
    "              'bootstrap_features': [False],}\n",
    "\n",
    "bc_gs = BaggingClassifier()\n",
    "grid_search = GridSearchCV(estimator=bc_gs, param_grid=param_grid, cv=3, n_jobs=-1, verbose=2)"
   ]
  },
  {
   "cell_type": "code",
   "execution_count": 157,
   "metadata": {},
   "outputs": [],
   "source": [
    "if run_hyperparameter_tuning:\n",
    "    grid_search.fit(X_train_std,y_train)\n",
    "    grid_search.best_params_\n",
    "else:\n",
    "    pass"
   ]
  },
  {
   "cell_type": "code",
   "execution_count": 158,
   "metadata": {},
   "outputs": [
    {
     "data": {
      "text/plain": [
       "BaggingClassifier(bootstrap=False, max_features=0.75, max_samples=0.25,\n",
       "                  n_estimators=1000)"
      ]
     },
     "execution_count": 158,
     "metadata": {},
     "output_type": "execute_result"
    }
   ],
   "source": [
    "# Test with grid search parameters\n",
    "bc_gscv = BaggingClassifier(n_estimators=1000, max_samples=0.25,\n",
    "                          max_features=0.75, bootstrap_features=False,\n",
    "                          bootstrap=False)\n",
    "bc_gscv.fit(X_train_std, y_train)"
   ]
  },
  {
   "cell_type": "code",
   "execution_count": 159,
   "metadata": {},
   "outputs": [
    {
     "name": "stdout",
     "output_type": "stream",
     "text": [
      "              precision    recall  f1-score   support\n",
      "\n",
      "           0       0.83      0.82      0.83      2249\n",
      "           1       0.82      0.83      0.83      2249\n",
      "\n",
      "    accuracy                           0.83      4498\n",
      "   macro avg       0.83      0.83      0.83      4498\n",
      "weighted avg       0.83      0.83      0.83      4498\n",
      "\n"
     ]
    },
    {
     "data": {
      "text/plain": [
       "0.8254779902178746"
      ]
     },
     "execution_count": 159,
     "metadata": {},
     "output_type": "execute_result"
    }
   ],
   "source": [
    "y_pred_bc_gscv = bc_gscv.predict(X_test_std)\n",
    "\n",
    "\n",
    "print(classification_report(y_test, y_pred_bc_gscv))\n",
    "roc_auc_score(y_test, y_pred_bc_gscv)"
   ]
  },
  {
   "cell_type": "code",
   "execution_count": 170,
   "metadata": {},
   "outputs": [],
   "source": [
    "# Add Model Summary to overall comparison\n",
    "add_model_summary('GridSearchCV', y_pred_bc_gscv, bc_summaries)"
   ]
  },
  {
   "cell_type": "markdown",
   "metadata": {},
   "source": [
    "### Compare Models"
   ]
  },
  {
   "cell_type": "code",
   "execution_count": 171,
   "metadata": {},
   "outputs": [
    {
     "data": {
      "image/png": "[encoded data removed]",
      "text/plain": [
       "<Figure size 360x360 with 1 Axes>"
      ]
     },
     "metadata": {
      "needs_background": "light"
     },
     "output_type": "display_data"
    }
   ],
   "source": [
    "# Visualize Summary Data\n",
    "plt.figure(figsize=(5,5))\n",
    "for data_dict in bc_summaries.values():\n",
    "    x_plot = data_dict.keys()\n",
    "    y_plot = data_dict.values()\n",
    "    plt.scatter(x_plot,y_plot)\n",
    "\n",
    "plt.legend(bc_summaries.keys(), loc=(1.01, 0.25))\n",
    "plt.ylabel(\"Score\")\n",
    "plt.ylim((0.75,0.85))\n",
    "plt.xlabel(\"Evaluation Metric\")\n",
    "plt.title('BaggingClassifier Model Optimization')\n",
    "plt.show()"
   ]
  },
  {
   "cell_type": "code",
   "execution_count": 172,
   "metadata": {},
   "outputs": [
    {
     "data": {
      "image/png": "[encoded data removed]",
      "text/plain": [
       "<Figure size 500x500 with 1 Axes>"
      ]
     },
     "metadata": {
      "needs_background": "light"
     },
     "output_type": "display_data"
    }
   ],
   "source": [
    "# Baseline model\n",
    "auc_basic = roc_auc_score(y_test, y_pred_bc)\n",
    "fpr_basic, tpr_basic, _ = roc_curve(y_test, y_pred_bc)\n",
    "\n",
    "# GridSearchCV\n",
    "auc_bc = roc_auc_score(y_test, y_pred_bc_gscv)\n",
    "fpr_bc, tpr_bc, _ = roc_curve(y_test, y_pred_bc_gscv)\n",
    "\n",
    "# RandomSearchCV\n",
    "auc_bc2 = roc_auc_score(y_test, y_pred_bc_cv)\n",
    "fpr_bc2, tpr_bc2, _ = roc_curve(y_test, y_pred_bc_cv)\n",
    "\n",
    "plt.figure(figsize=(5, 5), dpi=100)\n",
    "plt.axis('scaled')\n",
    "plt.xlim([0, 1])\n",
    "plt.ylim([0, 1])\n",
    "plt.title(\"AUC & ROC Curve\\nBaggingClassifier Optimization\")\n",
    "plt.plot(fpr_basic, tpr_basic, label='Unoptimized (%0.4f)'%auc_basic)\n",
    "plt.plot(fpr_bc, tpr_bc, label=\"GridSearchCV (%0.4f)\"%auc_bc)\n",
    "plt.plot(fpr_bc2, tpr_bc2, label=\"RandomSearchCV (%0.4f)\"%auc_bc2)\n",
    "plt.xlabel(\"False Positive Rate\")\n",
    "plt.ylabel(\"True Positive Rate\")\n",
    "plt.legend(fontsize='small')\n",
    "plt.show()"
   ]
  },
  {
   "cell_type": "code",
   "execution_count": 173,
   "metadata": {},
   "outputs": [],
   "source": [
    "# Add Model Summary to overall comparison\n",
    "add_model_summary('BaggingClassifier', y_pred_bc_gscv, model_summaries)"
   ]
  },
  {
   "cell_type": "markdown",
   "metadata": {},
   "source": [
    "### Confusion Matrix"
   ]
  },
  {
   "cell_type": "code",
   "execution_count": 174,
   "metadata": {},
   "outputs": [
    {
     "data": {
      "image/png": "[encoded data removed]",
      "text/plain": [
       "<Figure size 432x288 with 2 Axes>"
      ]
     },
     "metadata": {
      "needs_background": "light"
     },
     "output_type": "display_data"
    }
   ],
   "source": [
    "conf_matrix_bc = confusion_matrix(y_test, y_pred_bc_gscv)\n",
    "cm_viz = ConfusionMatrixDisplay(confusion_matrix = conf_matrix_bc,\n",
    "        display_labels = [False, True])\n",
    "cm_viz.plot()\n",
    "plt.show()"
   ]
  },
  {
   "cell_type": "markdown",
   "metadata": {},
   "source": [
    "## Stochastic Gradient Descent"
   ]
  },
  {
   "cell_type": "code",
   "execution_count": 175,
   "metadata": {},
   "outputs": [
    {
     "name": "stdout",
     "output_type": "stream",
     "text": [
      "              precision    recall  f1-score   support\n",
      "\n",
      "           0       0.79      0.78      0.79      2249\n",
      "           1       0.79      0.79      0.79      2249\n",
      "\n",
      "    accuracy                           0.79      4498\n",
      "   macro avg       0.79      0.79      0.79      4498\n",
      "weighted avg       0.79      0.79      0.79      4498\n",
      "\n"
     ]
    },
    {
     "data": {
      "text/plain": [
       "0.788128056914184"
      ]
     },
     "execution_count": 175,
     "metadata": {},
     "output_type": "execute_result"
    }
   ],
   "source": [
    "sgd = SGDClassifier(loss='log', penalty='none')\n",
    "sgd.fit(X_train_std, y_train)\n",
    "y_pred_sgd = sgd.predict(X_test_std)\n",
    "\n",
    "print(classification_report(y_test, y_pred_sgd))\n",
    "roc_auc_score(y_test, y_pred_sgd)"
   ]
  },
  {
   "cell_type": "code",
   "execution_count": 176,
   "metadata": {},
   "outputs": [],
   "source": [
    "# Add Model Summary to overall comparison\n",
    "add_model_summary('SGDClassifier', y_pred_sgd, model_summaries)"
   ]
  },
  {
   "cell_type": "markdown",
   "metadata": {},
   "source": [
    "## GradientBoostingClassifier"
   ]
  },
  {
   "cell_type": "code",
   "execution_count": 177,
   "metadata": {},
   "outputs": [],
   "source": [
    "from sklearn.ensemble import GradientBoostingClassifier"
   ]
  },
  {
   "cell_type": "code",
   "execution_count": 178,
   "metadata": {},
   "outputs": [],
   "source": [
    "gbc = GradientBoostingClassifier()\n",
    "gbc.fit(X_train_std, y_train)\n",
    "y_pred_gbc = gbc.predict(X_test_std)"
   ]
  },
  {
   "cell_type": "code",
   "execution_count": 179,
   "metadata": {},
   "outputs": [
    {
     "data": {
      "text/plain": [
       "{'ccp_alpha': 0.0,\n",
       " 'criterion': 'friedman_mse',\n",
       " 'init': None,\n",
       " 'learning_rate': 0.1,\n",
       " 'loss': 'deviance',\n",
       " 'max_depth': 3,\n",
       " 'max_features': None,\n",
       " 'max_leaf_nodes': None,\n",
       " 'min_impurity_decrease': 0.0,\n",
       " 'min_samples_leaf': 1,\n",
       " 'min_samples_split': 2,\n",
       " 'min_weight_fraction_leaf': 0.0,\n",
       " 'n_estimators': 100,\n",
       " 'n_iter_no_change': None,\n",
       " 'random_state': None,\n",
       " 'subsample': 1.0,\n",
       " 'tol': 0.0001,\n",
       " 'validation_fraction': 0.1,\n",
       " 'verbose': 0,\n",
       " 'warm_start': False}"
      ]
     },
     "execution_count": 179,
     "metadata": {},
     "output_type": "execute_result"
    }
   ],
   "source": [
    "gbc.get_params()"
   ]
  },
  {
   "cell_type": "code",
   "execution_count": 180,
   "metadata": {},
   "outputs": [
    {
     "name": "stdout",
     "output_type": "stream",
     "text": [
      "              precision    recall  f1-score   support\n",
      "\n",
      "           0       0.83      0.83      0.83      2249\n",
      "           1       0.83      0.83      0.83      2249\n",
      "\n",
      "    accuracy                           0.83      4498\n",
      "   macro avg       0.83      0.83      0.83      4498\n",
      "weighted avg       0.83      0.83      0.83      4498\n",
      "\n"
     ]
    },
    {
     "data": {
      "text/plain": [
       "0.8252556691863049"
      ]
     },
     "execution_count": 180,
     "metadata": {},
     "output_type": "execute_result"
    }
   ],
   "source": [
    "print(classification_report(y_test, y_pred_gbc))\n",
    "roc_auc_score(y_test, y_pred_gbc)"
   ]
  },
  {
   "cell_type": "code",
   "execution_count": 181,
   "metadata": {},
   "outputs": [],
   "source": [
    "param_grid = {'min_samples_split': [2, 8, 80],\n",
    "            'min_samples_leaf': [1, 5, 50],\n",
    "            'max_depth': [3, 5, 8],\n",
    "            'max_features': ['sqrt', None],\n",
    "            'n_estimators': [40, 80, 120]}\n",
    "gbc = GradientBoostingClassifier()\n",
    "grid_search = GridSearchCV(estimator=gbc, param_grid=param_grid, cv=3, n_jobs=-1, verbose=2)"
   ]
  },
  {
   "cell_type": "code",
   "execution_count": 182,
   "metadata": {},
   "outputs": [],
   "source": [
    "if run_hyperparameter_tuning:\n",
    "    grid_search.fit(X_train_std, y_train)\n",
    "    grid_search.best_params_\n",
    "else:\n",
    "    pass"
   ]
  },
  {
   "cell_type": "code",
   "execution_count": null,
   "metadata": {},
   "outputs": [],
   "source": []
  },
  {
   "cell_type": "code",
   "execution_count": 183,
   "metadata": {},
   "outputs": [
    {
     "data": {
      "text/plain": [
       "GradientBoostingClassifier(max_depth=5, max_features='sqrt',\n",
       "                           min_samples_leaf=50, min_samples_split=40,\n",
       "                           n_estimators=40)"
      ]
     },
     "execution_count": 183,
     "metadata": {},
     "output_type": "execute_result"
    }
   ],
   "source": [
    "gbc_gs = GradientBoostingClassifier(max_depth=5, max_features='sqrt', min_samples_leaf=50, \n",
    "            min_samples_split = 40, n_estimators = 40)\n",
    "gbc_gs.fit(X_train_std, y_train)"
   ]
  },
  {
   "cell_type": "code",
   "execution_count": 184,
   "metadata": {},
   "outputs": [
    {
     "name": "stdout",
     "output_type": "stream",
     "text": [
      "              precision    recall  f1-score   support\n",
      "\n",
      "           0       0.81      0.81      0.81      2249\n",
      "           1       0.81      0.82      0.81      2249\n",
      "\n",
      "    accuracy                           0.81      4498\n",
      "   macro avg       0.81      0.81      0.81      4498\n",
      "weighted avg       0.81      0.81      0.81      4498\n",
      "\n"
     ]
    },
    {
     "data": {
      "text/plain": [
       "0.8128056914184081"
      ]
     },
     "execution_count": 184,
     "metadata": {},
     "output_type": "execute_result"
    }
   ],
   "source": [
    "y_pred_gbc_gs = gbc_gs.predict(X_test_std)\n",
    "\n",
    "print(classification_report(y_test, y_pred_gbc_gs))\n",
    "roc_auc_score(y_test, y_pred_gbc_gs)"
   ]
  },
  {
   "cell_type": "code",
   "execution_count": 185,
   "metadata": {},
   "outputs": [],
   "source": [
    "add_model_summary('Boosting Classifier', y_pred_gbc, model_summaries)"
   ]
  },
  {
   "cell_type": "markdown",
   "metadata": {},
   "source": [
    "## CNN"
   ]
  },
  {
   "cell_type": "code",
   "execution_count": 186,
   "metadata": {},
   "outputs": [],
   "source": [
    "# Convert arrays to float type\n",
    "X_train_cnn = np.asarray(X_train_std).astype('float32')\n",
    "X_test_cnn = np.asarray(X_test_std).astype('float32')\n",
    "y_train_cnn = np.asarray(y_train).astype('float32')\n",
    "y_test_cnn = np.asarray(y_test).astype('float32')\n",
    "\n",
    "# Expand X dim to [Rows, features, 1, 1]\n",
    "X_train_cnn = np.expand_dims(X_train_cnn, axis=2)\n",
    "X_train_cnn = np.expand_dims(X_train_cnn, axis=3)\n",
    "X_test_cnn = np.expand_dims(X_test_cnn, axis=2)\n",
    "X_test_cnn = np.expand_dims(X_test_cnn, axis=3)"
   ]
  },
  {
   "cell_type": "code",
   "execution_count": 187,
   "metadata": {},
   "outputs": [
    {
     "name": "stdout",
     "output_type": "stream",
     "text": [
      "Model: \"sequential_1\"\n",
      "_________________________________________________________________\n",
      " Layer (type)                Output Shape              Param #   \n",
      "=================================================================\n",
      " conv_1 (Conv2D)             (None, 149, 1, 32)        832       \n",
      "                                                                 \n",
      " conv_2 (Conv2D)             (None, 149, 1, 32)        25632     \n",
      "                                                                 \n",
      " flatten (Flatten)           (None, 4768)              0         \n",
      "                                                                 \n",
      " fc_1 (Dense)                (None, 1024)              4883456   \n",
      "                                                                 \n",
      " dropout (Dropout)           (None, 1024)              0         \n",
      "                                                                 \n",
      " fc_2 (Dense)                (None, 1)                 1025      \n",
      "                                                                 \n",
      "=================================================================\n",
      "Total params: 4,910,945\n",
      "Trainable params: 4,910,945\n",
      "Non-trainable params: 0\n",
      "_________________________________________________________________\n"
     ]
    }
   ],
   "source": [
    "cnn = tf.keras.Sequential()\n",
    "\n",
    "# add first convolution layer to the model\n",
    "cnn.add(tf.keras.layers.Conv2D(\n",
    "    filters=32,\n",
    "    kernel_size=(5,5),\n",
    "    strides=(1,1),\n",
    "    padding='same',\n",
    "    data_format='channels_last',\n",
    "    name='conv_1',\n",
    "    activation='relu'))\n",
    "\n",
    "# add second convolutional layer\n",
    "cnn.add(tf.keras.layers.Conv2D(\n",
    "    filters=32,\n",
    "    kernel_size=(5,5),\n",
    "    strides=(1,1),\n",
    "    padding='same',\n",
    "    name='conv_2',\n",
    "    activation='relu'))\n",
    "\n",
    "\n",
    "# add a fully connected layer (need to flatten the output of the previous layers first)\n",
    "cnn.add(tf.keras.layers.Flatten()) \n",
    "cnn.add(tf.keras.layers.Dense(\n",
    "    units=1024,\n",
    "    name='fc_1', \n",
    "    activation='relu'))\n",
    "\n",
    "# add dropout layer\n",
    "cnn.add(tf.keras.layers.Dropout(\n",
    "    rate=0.5))\n",
    "\n",
    "# add the last fully connected layer\n",
    "# this last layer sets the activation function to \"None\" in order to output the logits \n",
    "# note that passing activation = \"sigmoid\" will return class memembership probabilities but\n",
    "# in TensorFlow logits are prefered for numerical stability\n",
    "# set units=1 to get a single output unit (remember it's a binary classification problem)\n",
    "cnn.add(tf.keras.layers.Dense(\n",
    "    units=1,\n",
    "    name='fc_2',\n",
    "    activation=None))\n",
    "\n",
    "# build model and print summary\n",
    "tf.random.set_seed(1)\n",
    "cnn.build(input_shape=(None, 149, 1, 1))\n",
    "cnn.summary()"
   ]
  },
  {
   "cell_type": "code",
   "execution_count": 188,
   "metadata": {},
   "outputs": [],
   "source": [
    "cnn.compile(optimizer=tf.keras.optimizers.Adam(),\n",
    "              loss=tf.keras.losses.BinaryCrossentropy(from_logits=True), #set from_ligits=True because our last layer does not apply sigmoid\n",
    "              metrics=['accuracy']) "
   ]
  },
  {
   "cell_type": "code",
   "execution_count": 189,
   "metadata": {},
   "outputs": [
    {
     "name": "stdout",
     "output_type": "stream",
     "text": [
      "Epoch 1/5\n",
      "690/690 [==============================] - 25s 35ms/step - loss: 0.5652 - accuracy: 0.6909\n",
      "Epoch 2/5\n",
      "690/690 [==============================] - 23s 33ms/step - loss: 0.5334 - accuracy: 0.7200\n",
      "Epoch 3/5\n",
      "690/690 [==============================] - 23s 34ms/step - loss: 0.5189 - accuracy: 0.7316\n",
      "Epoch 4/5\n",
      "690/690 [==============================] - 23s 34ms/step - loss: 0.5020 - accuracy: 0.7404\n",
      "Epoch 5/5\n",
      "690/690 [==============================] - 24s 34ms/step - loss: 0.4806 - accuracy: 0.7540\n"
     ]
    },
    {
     "data": {
      "text/plain": [
       "<keras.callbacks.History at 0x7f7a274ca6d0>"
      ]
     },
     "execution_count": 189,
     "metadata": {},
     "output_type": "execute_result"
    }
   ],
   "source": [
    "cnn.fit(X_train_cnn, y_train_cnn, validation_data=None, epochs=5)"
   ]
  },
  {
   "cell_type": "code",
   "execution_count": 190,
   "metadata": {},
   "outputs": [
    {
     "name": "stdout",
     "output_type": "stream",
     "text": [
      "141/141 [==============================] - 1s 7ms/step\n"
     ]
    }
   ],
   "source": [
    "# transform logits to probabilities\n",
    "y_pred_cnn_raw = cnn.predict(X_test_cnn)\n",
    "y_pred_cnn = tf.sigmoid(y_pred_cnn_raw)\n",
    "y_pred_cnn = np.where(y_pred_cnn >= 0.5, 1, 0)"
   ]
  },
  {
   "cell_type": "code",
   "execution_count": 191,
   "metadata": {},
   "outputs": [
    {
     "name": "stdout",
     "output_type": "stream",
     "text": [
      "              precision    recall  f1-score   support\n",
      "\n",
      "         0.0       0.81      0.79      0.80      2249\n",
      "         1.0       0.79      0.81      0.80      2249\n",
      "\n",
      "    accuracy                           0.80      4498\n",
      "   macro avg       0.80      0.80      0.80      4498\n",
      "weighted avg       0.80      0.80      0.80      4498\n",
      "\n"
     ]
    },
    {
     "data": {
      "text/plain": [
       "0.8012449977767897"
      ]
     },
     "execution_count": 191,
     "metadata": {},
     "output_type": "execute_result"
    }
   ],
   "source": [
    "print(classification_report(y_test_cnn,y_pred_cnn))\n",
    "roc_auc_score(y_test_cnn, y_pred_cnn)"
   ]
  },
  {
   "cell_type": "code",
   "execution_count": 192,
   "metadata": {},
   "outputs": [],
   "source": [
    "add_model_summary('Convolutional Neural Network', y_pred_cnn, model_summaries)"
   ]
  },
  {
   "cell_type": "markdown",
   "metadata": {},
   "source": [
    "# Model Summaries"
   ]
  },
  {
   "cell_type": "markdown",
   "metadata": {},
   "source": [
    "### Ensemble Model Comparisons"
   ]
  },
  {
   "cell_type": "code",
   "execution_count": 193,
   "metadata": {},
   "outputs": [],
   "source": [
    "ensemble_summaries = {}\n",
    "add_model_summary(\"Single Decision Tree\", y_pred_dtc, ensemble_summaries)\n",
    "add_model_summary(\"Random Forest Classifier\", y_pred_rf_rscv, ensemble_summaries)\n",
    "add_model_summary(\"Bagged Decision Tree Classifier\", y_pred_bc_gscv, ensemble_summaries)\n",
    "add_model_summary(\"Boosted Decision Tree Classifier\", y_pred_gbc, ensemble_summaries)"
   ]
  },
  {
   "cell_type": "code",
   "execution_count": 194,
   "metadata": {},
   "outputs": [
    {
     "data": {
      "image/png": "[encoded data removed]",
      "text/plain": [
       "<Figure size 360x360 with 1 Axes>"
      ]
     },
     "metadata": {
      "needs_background": "light"
     },
     "output_type": "display_data"
    }
   ],
   "source": [
    "# Visualize Summary Data\n",
    "plt.figure(figsize=(5,5))\n",
    "for data_dict in ensemble_summaries.values():\n",
    "    x_plot = data_dict.keys()\n",
    "    y_plot = data_dict.values()\n",
    "    plt.scatter(x_plot,y_plot)\n",
    "\n",
    "plt.legend(ensemble_summaries.keys(), loc=(1.01, 0.25))\n",
    "plt.ylabel(\"Score\")\n",
    "plt.ylim((0.65,0.85))\n",
    "plt.xlabel(\"Evaluation Metric\")\n",
    "plt.title('Ensemble Model Comparisons')\n",
    "plt.show()"
   ]
  },
  {
   "cell_type": "code",
   "execution_count": 195,
   "metadata": {},
   "outputs": [
    {
     "data": {
      "image/png": "[encoded data removed]",
      "text/plain": [
       "<Figure size 500x500 with 1 Axes>"
      ]
     },
     "metadata": {
      "needs_background": "light"
     },
     "output_type": "display_data"
    }
   ],
   "source": [
    "#Decision Tree\n",
    "auc_dtc = roc_auc_score(y_test, y_pred_dtc)\n",
    "fpr_dtc, tpr_dtc, _ = roc_curve(y_test, y_pred_dtc)\n",
    "\n",
    "# Random Forest\n",
    "auc_rf = roc_auc_score(y_test, y_pred_rf_rscv)\n",
    "fpr_rf, tpr_rf, _ = roc_curve(y_test, y_pred_rf_rscv)\n",
    "\n",
    "# Bagging Classifier\n",
    "auc_bc = roc_auc_score(y_test, y_pred_bc_gscv)\n",
    "fpr_bc, tpr_bc, _ = roc_curve(y_test, y_pred_bc_gscv)\n",
    "\n",
    "# Gradient Boosting Classifier\n",
    "auc_gbc = roc_auc_score(y_test, y_pred_gbc_gs)\n",
    "fpr_gbc, tpr_gbc, _ = roc_curve(y_test, y_pred_gbc)\n",
    "\n",
    "\n",
    "plt.figure(figsize=(5, 5), dpi=100)\n",
    "plt.axis('scaled')\n",
    "plt.xlim([0, 1])\n",
    "plt.ylim([0, 1])\n",
    "plt.title(\"AUC & ROC Curve\\nEnsemble Model Comparisons\")\n",
    "plt.plot(fpr_dtc, tpr_dtc, label=\"Decision Tree (%0.4f)\"%auc_dtc)\n",
    "plt.plot(fpr_rf, tpr_rf, label=\"Random Forest (%0.4f)\"%auc_rf)\n",
    "plt.plot(fpr_bc, tpr_bc, label=\"Bagging Classifier (%0.4f)\"%auc_bc)\n",
    "plt.plot(fpr_gbc, tpr_gbc, label=\"BoostingGradient (%0.4f)\"%auc_gbc)\n",
    "plt.xlabel(\"False Positive Rate\")\n",
    "plt.ylabel(\"True Positive Rate\")\n",
    "plt.legend(fontsize='small')\n",
    "plt.show()"
   ]
  },
  {
   "cell_type": "markdown",
   "metadata": {},
   "source": [
    "### All Model Comparisons"
   ]
  },
  {
   "cell_type": "code",
   "execution_count": 196,
   "metadata": {},
   "outputs": [
    {
     "data": {
      "text/plain": [
       "{'Baseline': {'Accuracy': 0.5813694975544687,\n",
       "  'Precision': 0.5813696423402804,\n",
       "  'Recall': 0.5813694975544688,\n",
       "  'f1-score': 0.5813693113308895},\n",
       " 'Keras_Sequential': {'Accuracy': 0.7899066251667408,\n",
       "  'Precision': 0.7901062811107681,\n",
       "  'Recall': 0.7899066251667408,\n",
       "  'f1-score': 0.7898704715119338},\n",
       " 'Neural_Network': {'Accuracy': 0.8008003557136505,\n",
       "  'Precision': 0.802254619645924,\n",
       "  'Recall': 0.8008003557136505,\n",
       "  'f1-score': 0.8005604605142959},\n",
       " 'LogisticRegression': {'Accuracy': 0.8101378390395731,\n",
       "  'Precision': 0.8101417633315717,\n",
       "  'Recall': 0.8101378390395731,\n",
       "  'f1-score': 0.8101372384457446},\n",
       " 'NaiveBayes': {'Accuracy': 0.6714095153401511,\n",
       "  'Precision': 0.6714096508954038,\n",
       "  'Recall': 0.6714095153401511,\n",
       "  'f1-score': 0.6714094503756426},\n",
       " 'DecisionTree': {'Accuracy': 0.6647398843930635,\n",
       "  'Precision': 0.6647821061343305,\n",
       "  'Recall': 0.6647398843930635,\n",
       "  'f1-score': 0.6647184072846092},\n",
       " 'RandomForest': {'Accuracy': 0.8194753223654958,\n",
       "  'Precision': 0.819477596226941,\n",
       "  'Recall': 0.8194753223654958,\n",
       "  'f1-score': 0.8194750011467002},\n",
       " 'BaggingClassifier': {'Accuracy': 0.8254779902178746,\n",
       "  'Precision': 0.8254795989542062,\n",
       "  'Recall': 0.8254779902178746,\n",
       "  'f1-score': 0.8254777745666897},\n",
       " 'SGDClassifier': {'Accuracy': 0.7881280569141841,\n",
       "  'Precision': 0.7881408745662124,\n",
       "  'Recall': 0.7881280569141841,\n",
       "  'f1-score': 0.7881257006613209},\n",
       " 'Boosting Classifier': {'Accuracy': 0.825255669186305,\n",
       "  'Precision': 0.825255669186305,\n",
       "  'Recall': 0.825255669186305,\n",
       "  'f1-score': 0.825255669186305},\n",
       " 'Convolutional Neural Network': {'Accuracy': 0.8012449977767897,\n",
       "  'Precision': 0.8014187694173294,\n",
       "  'Recall': 0.8012449977767897,\n",
       "  'f1-score': 0.8012163474695448}}"
      ]
     },
     "execution_count": 196,
     "metadata": {},
     "output_type": "execute_result"
    }
   ],
   "source": [
    "model_summaries"
   ]
  },
  {
   "cell_type": "code",
   "execution_count": 197,
   "metadata": {},
   "outputs": [
    {
     "data": {
      "image/png": "[encoded data removed]",
      "text/plain": [
       "<Figure size 360x360 with 1 Axes>"
      ]
     },
     "metadata": {
      "needs_background": "light"
     },
     "output_type": "display_data"
    }
   ],
   "source": [
    "# Visualize Summary Data\n",
    "plt.figure(figsize=(5,5))\n",
    "for data_dict in model_summaries.values():\n",
    "    x_plot = data_dict.keys()\n",
    "    y_plot = data_dict.values()\n",
    "    plt.scatter(x_plot,y_plot)\n",
    "\n",
    "plt.legend(model_summaries.keys(), loc=(1.01, 0.25))\n",
    "plt.ylabel(\"Score\")\n",
    "plt.ylim((0.55,0.85))\n",
    "plt.xlabel(\"Evaluation Metric\")\n",
    "plt.title('Logistic Regression Model Comparisons')\n",
    "plt.show()\n"
   ]
  },
  {
   "cell_type": "markdown",
   "metadata": {},
   "source": [
    "### Best Model Comparisons"
   ]
  },
  {
   "cell_type": "code",
   "execution_count": 198,
   "metadata": {},
   "outputs": [],
   "source": [
    "best_models = {}\n",
    "\n",
    "for data_dict, model in zip(model_summaries.values(), model_summaries.keys()):\n",
    "    if data_dict['Accuracy'] > 0.7:\n",
    "        best_models[model] = data_dict"
   ]
  },
  {
   "cell_type": "code",
   "execution_count": 199,
   "metadata": {},
   "outputs": [
    {
     "data": {
      "image/png": "[encoded data removed]",
      "text/plain": [
       "<Figure size 360x360 with 1 Axes>"
      ]
     },
     "metadata": {
      "needs_background": "light"
     },
     "output_type": "display_data"
    }
   ],
   "source": [
    "# Visualize Summary Data\n",
    "plt.figure(figsize=(5,5))\n",
    "for data_dict in best_models.values():\n",
    "    x_plot = data_dict.keys()\n",
    "    y_plot = data_dict.values()\n",
    "    plt.scatter(x_plot,y_plot)\n",
    "\n",
    "plt.legend(best_models.keys(), loc=(1.01, 0.25))\n",
    "plt.ylabel(\"Score\")\n",
    "plt.ylim((0.76,0.84))\n",
    "plt.xlabel(\"Evaluation Metric\")\n",
    "plt.title('Best Model Comparisons')\n",
    "plt.show()"
   ]
  },
  {
   "cell_type": "code",
   "execution_count": 200,
   "metadata": {},
   "outputs": [
    {
     "data": {
      "image/png": "[encoded data removed]",
      "text/plain": [
       "<Figure size 500x500 with 1 Axes>"
      ]
     },
     "metadata": {
      "needs_background": "light"
     },
     "output_type": "display_data"
    }
   ],
   "source": [
    "# Baseline model\n",
    "auc_base = roc_auc_score(y_test, y_pred_baseline)\n",
    "fpr_base, tpr_base, _ = roc_curve(y_test, y_pred_baseline)\n",
    "\n",
    "# Keras_Sequential Model\n",
    "auc_ks = roc_auc_score(y_test, y_pred_ks)\n",
    "fpr_ks, tpr_ks, _ = roc_curve(y_test, y_pred_ks)\n",
    "\n",
    "# NN Model\n",
    "auc_nn = roc_auc_score(y_test, y_pred_nn)\n",
    "fpr_nn, tpr_nn, _ = roc_curve(y_test, y_pred_nn)\n",
    "\n",
    "# NN Model\n",
    "auc_lr = roc_auc_score(y_test, y_pred_lr_2)\n",
    "fpr_lr, tpr_lr, _ = roc_curve(y_test, y_pred_lr_2)\n",
    "\n",
    "# Naive Bayes Model\n",
    "auc_gnb = roc_auc_score(y_test, y_pred_gnb)\n",
    "fpr_gnb, tpr_gnb, _ = roc_curve(y_test, y_pred_gnb)\n",
    "\n",
    "#Decision Tree\n",
    "auc_dtc = roc_auc_score(y_test, y_pred_dtc)\n",
    "fpr_dtc, tpr_dtc, _ = roc_curve(y_test, y_pred_dtc)\n",
    "\n",
    "# Random Forest\n",
    "auc_rf = roc_auc_score(y_test, y_pred_rf_rscv)\n",
    "fpr_rf, tpr_rf, _ = roc_curve(y_test, y_pred_rf_rscv)\n",
    "\n",
    "# Bagging Classifier\n",
    "auc_bc = roc_auc_score(y_test, y_pred_bc_gscv)\n",
    "fpr_bc, tpr_bc, _ = roc_curve(y_test, y_pred_bc_gscv)\n",
    "\n",
    "# SGDClassifier\n",
    "auc_sgd = roc_auc_score(y_test, y_pred_sgd)\n",
    "fpr_sgd, tpr_sgd, _ = roc_curve(y_test, y_pred_sgd)\n",
    "\n",
    "# Gradient Boosting Classifier\n",
    "auc_gbc = roc_auc_score(y_test, y_pred_gbc_gs)\n",
    "fpr_gbc, tpr_gbc, _ = roc_curve(y_test, y_pred_gbc_gs)\n",
    "\n",
    "# Gradient Boosting Classifier\n",
    "auc_cnn = roc_auc_score(y_test, y_pred_cnn)\n",
    "fpr_cnn, tpr_cnn, _ = roc_curve(y_test, y_pred_cnn)\n",
    "\n",
    "plt.figure(figsize=(5, 5), dpi=100)\n",
    "plt.axis('scaled')\n",
    "plt.xlim([0, 1])\n",
    "plt.ylim([0, 1])\n",
    "plt.title(\"AUC & ROC Curve\")\n",
    "plt.plot(fpr_base, tpr_base, label='Baseline (%0.4f)'%auc_base)\n",
    "plt.plot(fpr_ks, tpr_ks, label=\"Keras Sequential (%0.4f)\"%auc_ks)\n",
    "plt.plot(fpr_nn, tpr_nn, label=\"Neural Network (%0.4f)\"%auc_nn)\n",
    "plt.plot(fpr_lr, tpr_lr, label=\"Logistic Regression (%0.4f)\"%auc_lr)\n",
    "plt.plot(fpr_gnb, tpr_gnb, label=\"Naive Bayes (%0.4f)\"%auc_gnb)\n",
    "plt.plot(fpr_dtc, tpr_dtc, label=\"Decision Tree (%0.4f)\"%auc_dtc)\n",
    "plt.plot(fpr_rf, tpr_rf, label=\"Random Forest (%0.4f)\"%auc_rf)\n",
    "plt.plot(fpr_bc, tpr_bc, label=\"Bagging Classifier (%0.4f)\"%auc_bc)\n",
    "plt.plot(fpr_sgd, tpr_sgd, label=\"SGDClassifier (%0.4f)\"%auc_sgd)\n",
    "plt.plot(fpr_gbc, tpr_gbc, label=\"BoostingGradient (%0.4f)\"%auc_gbc)\n",
    "plt.plot(fpr_cnn, tpr_cnn, label=\"Convolutional NN (%0.4f)\"%auc_cnn)\n",
    "plt.xlabel(\"False Positive Rate\")\n",
    "plt.ylabel(\"True Positive Rate\")\n",
    "plt.legend(fontsize='small')\n",
    "plt.show()"
   ]
  },
  {
   "cell_type": "code",
   "execution_count": 201,
   "metadata": {},
   "outputs": [
    {
     "data": {
      "image/png": "[encoded data removed]",
      "text/plain": [
       "<Figure size 500x500 with 1 Axes>"
      ]
     },
     "metadata": {
      "needs_background": "light"
     },
     "output_type": "display_data"
    }
   ],
   "source": [
    "# Keras_Sequential Model\n",
    "auc_ks = roc_auc_score(y_test, y_pred_ks)\n",
    "fpr_ks, tpr_ks, _ = roc_curve(y_test, y_pred_ks)\n",
    "\n",
    "# NN Model\n",
    "auc_nn = roc_auc_score(y_test, y_pred_nn)\n",
    "fpr_nn, tpr_nn, _ = roc_curve(y_test, y_pred_nn)\n",
    "\n",
    "# LR Model\n",
    "auc_lr = roc_auc_score(y_test, y_pred_lr_2)\n",
    "fpr_lr, tpr_lr, _ = roc_curve(y_test, y_pred_lr_2)\n",
    "\n",
    "# Random Forest\n",
    "auc_rf = roc_auc_score(y_test, y_pred_rf_rscv)\n",
    "fpr_rf, tpr_rf, _ = roc_curve(y_test, y_pred_rf_rscv)\n",
    "\n",
    "# Bagging Classifier\n",
    "auc_bc = roc_auc_score(y_test, y_pred_bc_gscv)\n",
    "fpr_bc, tpr_bc, _ = roc_curve(y_test, y_pred_bc_gscv)\n",
    "\n",
    "# SGDClassifier\n",
    "auc_sgd = roc_auc_score(y_test, y_pred_sgd)\n",
    "fpr_sgd, tpr_sgd, _ = roc_curve(y_test, y_pred_sgd)\n",
    "\n",
    "# Gradient Boosting Classifier\n",
    "auc_gbc = roc_auc_score(y_test, y_pred_gbc_gs)\n",
    "fpr_gbc, tpr_gbc, _ = roc_curve(y_test, y_pred_gbc_gs)\n",
    "\n",
    "# CNN Classifier\n",
    "auc_cnn = roc_auc_score(y_test, y_pred_cnn)\n",
    "fpr_cnn, tpr_cnn, _ = roc_curve(y_test, y_pred_cnn)\n",
    "\n",
    "plt.figure(figsize=(5, 5), dpi=100)\n",
    "plt.axis('scaled')\n",
    "plt.xlim([0, 1])\n",
    "plt.ylim([0, 1])\n",
    "plt.title(\"AUC & ROC Curve\\nBest Model Comparison\")\n",
    "plt.plot(fpr_ks, tpr_ks, label=\"Keras Sequential (%0.4f)\"%auc_ks)\n",
    "plt.plot(fpr_nn, tpr_nn, label=\"Neural Network (%0.4f)\"%auc_nn)\n",
    "plt.plot(fpr_lr, tpr_lr, label=\"Logistic Regression (%0.4f)\"%auc_lr)\n",
    "plt.plot(fpr_rf, tpr_rf, label=\"Random Forest (%0.4f)\"%auc_rf)\n",
    "plt.plot(fpr_bc, tpr_bc, label=\"Bagging Classifier (%0.4f)\"%auc_bc)\n",
    "plt.plot(fpr_sgd, tpr_sgd, label=\"SGDClassifier (%0.4f)\"%auc_sgd)\n",
    "plt.plot(fpr_gbc, tpr_gbc, label=\"BoostingGradient (%0.4f)\"%auc_gbc)\n",
    "plt.plot(fpr_cnn, tpr_cnn, label=\"Convolutional NN (%0.4f)\"%auc_cnn)\n",
    "plt.xlabel(\"False Positive Rate\")\n",
    "plt.ylabel(\"True Positive Rate\")\n",
    "plt.legend(fontsize='small')\n",
    "plt.show()"
   ]
  },
  {
   "cell_type": "markdown",
   "metadata": {},
   "source": [
    "# EDA Visualization"
   ]
  },
  {
   "cell_type": "code",
   "execution_count": 202,
   "metadata": {},
   "outputs": [],
   "source": [
    "sn.set_style(\"darkgrid\")"
   ]
  },
  {
   "cell_type": "code",
   "execution_count": 203,
   "metadata": {},
   "outputs": [
    {
     "data": {
      "text/plain": [
       "[Text(0, 0, 'Loss'), Text(1, 0, 'Win')]"
      ]
     },
     "execution_count": 203,
     "metadata": {},
     "output_type": "execute_result"
    },
    {
     "data": {
      "image/png": "[encoded data removed]",
      "text/plain": [
       "<Figure size 432x288 with 1 Axes>"
      ]
     },
     "metadata": {},
     "output_type": "display_data"
    }
   ],
   "source": [
    "df_viz = df_full_f6[['outcome', 'elo1_pre', 'elo2_pre']]\n",
    "df_viz['elo_differential'] = df_viz.elo1_pre - df_viz.elo2_pre\n",
    "ax = sn.boxenplot(data=df_viz, y='elo_differential', x='outcome')\n",
    "ax.set(xlabel='Outcome', ylabel='Difference in Advanced Stat\\n compared to Opponent Team')\n",
    "ax.set_xticks([0,1])\n",
    "ax.set_xticklabels(['Loss', 'Win'])"
   ]
  },
  {
   "cell_type": "code",
   "execution_count": 204,
   "metadata": {},
   "outputs": [
    {
     "data": {
      "text/plain": [
       "[Text(0, 0, 'Loss'), Text(1, 0, 'Win')]"
      ]
     },
     "execution_count": 204,
     "metadata": {},
     "output_type": "execute_result"
    },
    {
     "data": {
      "image/png": "[encoded data removed]",
      "text/plain": [
       "<Figure size 432x288 with 1 Axes>"
      ]
     },
     "metadata": {},
     "output_type": "display_data"
    }
   ],
   "source": [
    "df_viz = df_full_f6[['outcome', 'W_team1_l10', 'L_team1_l10']]\n",
    "df_viz['Last_10_Games'] = df_viz.W_team1_l10 - df_viz.L_team1_l10\n",
    "ax = sn.boxenplot(data=df_viz, y='Last_10_Games', x='outcome')\n",
    "ax.set(xlabel='Outcome', ylabel='Win/ Loss Record\\nPrevious 10 Games')\n",
    "ax.set_xticks([0,1])\n",
    "ax.set_xticklabels(['Loss', 'Win'])"
   ]
  },
  {
   "cell_type": "code",
   "execution_count": 205,
   "metadata": {},
   "outputs": [
    {
     "data": {
      "text/plain": [
       "[Text(0, 0, 'Loss'), Text(1, 0, 'Win')]"
      ]
     },
     "execution_count": 205,
     "metadata": {},
     "output_type": "execute_result"
    },
    {
     "data": {
      "image/png": "[encoded data removed]",
      "text/plain": [
       "<Figure size 432x288 with 1 Axes>"
      ]
     },
     "metadata": {},
     "output_type": "display_data"
    }
   ],
   "source": [
    "df_viz = df_full_f6[['outcome', 'W_team1', 'W_team2']]\n",
    "df_viz['win_differential'] = df_viz.W_team1 - df_viz.W_team2\n",
    "ax = sn.boxenplot(data=df_viz, y='win_differential', x='outcome')\n",
    "ax.set(xlabel='Outcome', ylabel='Difference in Season Wins\\nCompared to Opponent')\n",
    "ax.set_xticks([0,1])\n",
    "ax.set_xticklabels(['Loss', 'Win'])"
   ]
  },
  {
   "cell_type": "code",
   "execution_count": 206,
   "metadata": {},
   "outputs": [
    {
     "data": {
      "text/plain": [
       "[Text(0, 0, 'Loss'), Text(1, 0, 'Win')]"
      ]
     },
     "execution_count": 206,
     "metadata": {},
     "output_type": "execute_result"
    },
    {
     "data": {
      "image/png": "[encoded data removed]",
      "text/plain": [
       "<Figure size 432x288 with 1 Axes>"
      ]
     },
     "metadata": {},
     "output_type": "display_data"
    }
   ],
   "source": [
    "df_viz = df_full_f6[['outcome', 'W_PCT_team1']]\n",
    "ax = sn.boxenplot(data=df_viz, y='W_PCT_team1', x='outcome')\n",
    "ax.set(xlabel='Outcome', ylabel='Percent of Previous Games Won')\n",
    "ax.set_xticks([0,1])\n",
    "ax.set_xticklabels(['Loss', 'Win'])"
   ]
  },
  {
   "cell_type": "code",
   "execution_count": 207,
   "metadata": {},
   "outputs": [
    {
     "data": {
      "text/plain": [
       "[Text(0, 0, 'Loss'), Text(1, 0, 'Win')]"
      ]
     },
     "execution_count": 207,
     "metadata": {},
     "output_type": "execute_result"
    },
    {
     "data": {
      "image/png": "[encoded data removed]",
      "text/plain": [
       "<Figure size 432x288 with 1 Axes>"
      ]
     },
     "metadata": {},
     "output_type": "display_data"
    }
   ],
   "source": [
    "df_viz = df_full_f6[['outcome', 'PLUS_MINUS_team1', 'PLUS_MINUS_team2']]\n",
    "df_viz['plus_minus_diff'] = df_viz.PLUS_MINUS_team1 - df_viz.PLUS_MINUS_team2\n",
    "ax = sn.boxenplot(data=df_viz, y='plus_minus_diff', x='outcome')\n",
    "ax.set(xlabel='Outcome', ylabel='Previous Game +/-')\n",
    "ax.set_xticks([0,1])\n",
    "ax.set_xticklabels(['Loss', 'Win'])\n",
    "\n"
   ]
  }
 ],
 "metadata": {
  "kernelspec": {
   "display_name": "Python 3.7.11 ('myvenv')",
   "language": "python",
   "name": "python3"
  },
  "language_info": {
   "codemirror_mode": {
    "name": "ipython",
    "version": 3
   },
   "file_extension": ".py",
   "mimetype": "text/x-python",
   "name": "python",
   "nbconvert_exporter": "python",
   "pygments_lexer": "ipython3",
   "version": "3.7.11"
  },
  "orig_nbformat": 4,
  "vscode": {
   "interpreter": {
    "hash": "39dc3f4814f696dd0d40df5bcb8cb0c28482f64934d371181ec948544c5e3c3b"
   }
  }
 },
 "nbformat": 4,
 "nbformat_minor": 2
}
